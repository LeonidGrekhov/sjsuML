{
 "cells": [
  {
   "cell_type": "code",
   "execution_count": 1,
   "id": "hairy-workplace",
   "metadata": {},
   "outputs": [],
   "source": [
    "import numpy as np\n",
    "import pandas as pd\n",
    "import matplotlib.pyplot as plt\n",
    "import seaborn as sns\n",
    "from sklearn.linear_model import LogisticRegression\n",
    "from sklearn.neighbors import KNeighborsClassifier\n",
    "from sklearn.ensemble import RandomForestClassifier\n",
    "from sklearn.metrics import classification_report\n",
    "from sklearn.metrics import confusion_matrix \n",
    "from sklearn.metrics import accuracy_score\n",
    "from sklearn.metrics import mean_squared_error \n",
    "from sklearn import preprocessing\n",
    "from sklearn.preprocessing import StandardScaler\n",
    "from sklearn.preprocessing import MinMaxScaler\n",
    "from sklearn.preprocessing import PolynomialFeatures\n",
    "from sklearn.model_selection import train_test_split\n",
    "from sklearn.model_selection import KFold\n",
    "from sklearn.model_selection import cross_val_score"
   ]
  },
  {
   "cell_type": "markdown",
   "id": "recorded-holiday",
   "metadata": {},
   "source": [
    "# 1. Identify the dataset columns intonominal, categorical,continuesetc. categories"
   ]
  },
  {
   "cell_type": "code",
   "execution_count": 2,
   "id": "ceramic-cruise",
   "metadata": {},
   "outputs": [
    {
     "name": "stderr",
     "output_type": "stream",
     "text": [
      "<ipython-input-2-c30816da07d7>:1: ParserWarning: Falling back to the 'python' engine because the 'c' engine does not support regex separators (separators > 1 char and different from '\\s+' are interpreted as regex); you can avoid this warning by specifying engine='python'.\n",
      "  Data = pd.read_csv(\"cardio-train.csv\", sep='[;]')\n"
     ]
    }
   ],
   "source": [
    "Data = pd.read_csv(\"cardio-train.csv\", sep='[;]')"
   ]
  },
  {
   "cell_type": "code",
   "execution_count": 3,
   "id": "injured-rogers",
   "metadata": {},
   "outputs": [
    {
     "data": {
      "text/plain": [
       "Index(['id', 'age', 'gender', 'height', 'weight', 'ap_hi', 'ap_lo',\n",
       "       'cholesterol', 'gluc', 'smoke', 'alco', 'active', 'cardio'],\n",
       "      dtype='object')"
      ]
     },
     "execution_count": 3,
     "metadata": {},
     "output_type": "execute_result"
    }
   ],
   "source": [
    "Data.keys()"
   ]
  },
  {
   "cell_type": "code",
   "execution_count": 4,
   "id": "perceived-disorder",
   "metadata": {},
   "outputs": [
    {
     "name": "stderr",
     "output_type": "stream",
     "text": [
      "<ipython-input-4-7e9ea356d7e2>:1: ParserWarning: Falling back to the 'python' engine because the 'c' engine does not support regex separators (separators > 1 char and different from '\\s+' are interpreted as regex); you can avoid this warning by specifying engine='python'.\n",
      "  DataV = pd.read_csv(\"cardio-validation.csv\", sep='[,]')\n"
     ]
    }
   ],
   "source": [
    "DataV = pd.read_csv(\"cardio-validation.csv\", sep='[,]')"
   ]
  },
  {
   "cell_type": "code",
   "execution_count": 5,
   "id": "electronic-grace",
   "metadata": {},
   "outputs": [
    {
     "data": {
      "text/html": [
       "<div>\n",
       "<style scoped>\n",
       "    .dataframe tbody tr th:only-of-type {\n",
       "        vertical-align: middle;\n",
       "    }\n",
       "\n",
       "    .dataframe tbody tr th {\n",
       "        vertical-align: top;\n",
       "    }\n",
       "\n",
       "    .dataframe thead th {\n",
       "        text-align: right;\n",
       "    }\n",
       "</style>\n",
       "<table border=\"1\" class=\"dataframe\">\n",
       "  <thead>\n",
       "    <tr style=\"text-align: right;\">\n",
       "      <th></th>\n",
       "      <th>id</th>\n",
       "      <th>age</th>\n",
       "      <th>gender</th>\n",
       "      <th>height</th>\n",
       "      <th>weight</th>\n",
       "      <th>ap_hi</th>\n",
       "      <th>ap_lo</th>\n",
       "      <th>cholesterol</th>\n",
       "      <th>gluc</th>\n",
       "      <th>smoke</th>\n",
       "      <th>alco</th>\n",
       "      <th>active</th>\n",
       "      <th>cardio</th>\n",
       "    </tr>\n",
       "  </thead>\n",
       "  <tbody>\n",
       "    <tr>\n",
       "      <th>0</th>\n",
       "      <td>17934</td>\n",
       "      <td>18936.0</td>\n",
       "      <td>Men</td>\n",
       "      <td>165.0</td>\n",
       "      <td>60.0</td>\n",
       "      <td>NaN</td>\n",
       "      <td>80.0</td>\n",
       "      <td>Normal</td>\n",
       "      <td>NaN</td>\n",
       "      <td>0.0</td>\n",
       "      <td>0.0</td>\n",
       "      <td>1.0</td>\n",
       "      <td>1</td>\n",
       "    </tr>\n",
       "    <tr>\n",
       "      <th>1</th>\n",
       "      <td>52450</td>\n",
       "      <td>17987.0</td>\n",
       "      <td>NaN</td>\n",
       "      <td>NaN</td>\n",
       "      <td>58.8</td>\n",
       "      <td>120.0</td>\n",
       "      <td>90.0</td>\n",
       "      <td>Normal</td>\n",
       "      <td>Normal</td>\n",
       "      <td>NaN</td>\n",
       "      <td>0.0</td>\n",
       "      <td>1.0</td>\n",
       "      <td>0</td>\n",
       "    </tr>\n",
       "    <tr>\n",
       "      <th>2</th>\n",
       "      <td>37653</td>\n",
       "      <td>NaN</td>\n",
       "      <td>NaN</td>\n",
       "      <td>159.0</td>\n",
       "      <td>93.0</td>\n",
       "      <td>130.0</td>\n",
       "      <td>90.0</td>\n",
       "      <td>High</td>\n",
       "      <td>Normal</td>\n",
       "      <td>0.0</td>\n",
       "      <td>0.0</td>\n",
       "      <td>NaN</td>\n",
       "      <td>1</td>\n",
       "    </tr>\n",
       "    <tr>\n",
       "      <th>3</th>\n",
       "      <td>96970</td>\n",
       "      <td>22851.0</td>\n",
       "      <td>Women</td>\n",
       "      <td>172.0</td>\n",
       "      <td>NaN</td>\n",
       "      <td>NaN</td>\n",
       "      <td>100.0</td>\n",
       "      <td>Normal</td>\n",
       "      <td>Normal</td>\n",
       "      <td>0.0</td>\n",
       "      <td>0.0</td>\n",
       "      <td>1.0</td>\n",
       "      <td>1</td>\n",
       "    </tr>\n",
       "    <tr>\n",
       "      <th>4</th>\n",
       "      <td>50977</td>\n",
       "      <td>NaN</td>\n",
       "      <td>Women</td>\n",
       "      <td>NaN</td>\n",
       "      <td>116.0</td>\n",
       "      <td>NaN</td>\n",
       "      <td>80.0</td>\n",
       "      <td>High</td>\n",
       "      <td>NaN</td>\n",
       "      <td>NaN</td>\n",
       "      <td>NaN</td>\n",
       "      <td>1.0</td>\n",
       "      <td>1</td>\n",
       "    </tr>\n",
       "    <tr>\n",
       "      <th>...</th>\n",
       "      <td>...</td>\n",
       "      <td>...</td>\n",
       "      <td>...</td>\n",
       "      <td>...</td>\n",
       "      <td>...</td>\n",
       "      <td>...</td>\n",
       "      <td>...</td>\n",
       "      <td>...</td>\n",
       "      <td>...</td>\n",
       "      <td>...</td>\n",
       "      <td>...</td>\n",
       "      <td>...</td>\n",
       "      <td>...</td>\n",
       "    </tr>\n",
       "    <tr>\n",
       "      <th>495</th>\n",
       "      <td>68639</td>\n",
       "      <td>NaN</td>\n",
       "      <td>Men</td>\n",
       "      <td>164.0</td>\n",
       "      <td>72.0</td>\n",
       "      <td>140.0</td>\n",
       "      <td>80.0</td>\n",
       "      <td>Normal</td>\n",
       "      <td>Normal</td>\n",
       "      <td>0.0</td>\n",
       "      <td>NaN</td>\n",
       "      <td>NaN</td>\n",
       "      <td>1</td>\n",
       "    </tr>\n",
       "    <tr>\n",
       "      <th>496</th>\n",
       "      <td>35524</td>\n",
       "      <td>15851.0</td>\n",
       "      <td>Men</td>\n",
       "      <td>159.0</td>\n",
       "      <td>NaN</td>\n",
       "      <td>90.0</td>\n",
       "      <td>60.0</td>\n",
       "      <td>NaN</td>\n",
       "      <td>Normal</td>\n",
       "      <td>0.0</td>\n",
       "      <td>0.0</td>\n",
       "      <td>1.0</td>\n",
       "      <td>0</td>\n",
       "    </tr>\n",
       "    <tr>\n",
       "      <th>497</th>\n",
       "      <td>43938</td>\n",
       "      <td>21010.0</td>\n",
       "      <td>Men</td>\n",
       "      <td>168.0</td>\n",
       "      <td>NaN</td>\n",
       "      <td>NaN</td>\n",
       "      <td>90.0</td>\n",
       "      <td>Normal</td>\n",
       "      <td>Normal</td>\n",
       "      <td>0.0</td>\n",
       "      <td>NaN</td>\n",
       "      <td>1.0</td>\n",
       "      <td>1</td>\n",
       "    </tr>\n",
       "    <tr>\n",
       "      <th>498</th>\n",
       "      <td>1487</td>\n",
       "      <td>NaN</td>\n",
       "      <td>Women</td>\n",
       "      <td>170.0</td>\n",
       "      <td>87.0</td>\n",
       "      <td>120.0</td>\n",
       "      <td>NaN</td>\n",
       "      <td>Normal</td>\n",
       "      <td>NaN</td>\n",
       "      <td>0.0</td>\n",
       "      <td>0.0</td>\n",
       "      <td>NaN</td>\n",
       "      <td>0</td>\n",
       "    </tr>\n",
       "    <tr>\n",
       "      <th>499</th>\n",
       "      <td>98728</td>\n",
       "      <td>NaN</td>\n",
       "      <td>Women</td>\n",
       "      <td>138.0</td>\n",
       "      <td>60.0</td>\n",
       "      <td>110.0</td>\n",
       "      <td>80.0</td>\n",
       "      <td>NaN</td>\n",
       "      <td>Normal</td>\n",
       "      <td>0.0</td>\n",
       "      <td>0.0</td>\n",
       "      <td>0.0</td>\n",
       "      <td>0</td>\n",
       "    </tr>\n",
       "  </tbody>\n",
       "</table>\n",
       "<p>500 rows × 13 columns</p>\n",
       "</div>"
      ],
      "text/plain": [
       "        id      age gender  height  weight  ap_hi  ap_lo cholesterol    gluc  \\\n",
       "0    17934  18936.0    Men   165.0    60.0    NaN   80.0      Normal     NaN   \n",
       "1    52450  17987.0    NaN     NaN    58.8  120.0   90.0      Normal  Normal   \n",
       "2    37653      NaN    NaN   159.0    93.0  130.0   90.0        High  Normal   \n",
       "3    96970  22851.0  Women   172.0     NaN    NaN  100.0      Normal  Normal   \n",
       "4    50977      NaN  Women     NaN   116.0    NaN   80.0        High     NaN   \n",
       "..     ...      ...    ...     ...     ...    ...    ...         ...     ...   \n",
       "495  68639      NaN    Men   164.0    72.0  140.0   80.0      Normal  Normal   \n",
       "496  35524  15851.0    Men   159.0     NaN   90.0   60.0         NaN  Normal   \n",
       "497  43938  21010.0    Men   168.0     NaN    NaN   90.0      Normal  Normal   \n",
       "498   1487      NaN  Women   170.0    87.0  120.0    NaN      Normal     NaN   \n",
       "499  98728      NaN  Women   138.0    60.0  110.0   80.0         NaN  Normal   \n",
       "\n",
       "     smoke  alco  active  cardio  \n",
       "0      0.0   0.0     1.0       1  \n",
       "1      NaN   0.0     1.0       0  \n",
       "2      0.0   0.0     NaN       1  \n",
       "3      0.0   0.0     1.0       1  \n",
       "4      NaN   NaN     1.0       1  \n",
       "..     ...   ...     ...     ...  \n",
       "495    0.0   NaN     NaN       1  \n",
       "496    0.0   0.0     1.0       0  \n",
       "497    0.0   NaN     1.0       1  \n",
       "498    0.0   0.0     NaN       0  \n",
       "499    0.0   0.0     0.0       0  \n",
       "\n",
       "[500 rows x 13 columns]"
      ]
     },
     "execution_count": 5,
     "metadata": {},
     "output_type": "execute_result"
    }
   ],
   "source": [
    "DataV"
   ]
  },
  {
   "cell_type": "code",
   "execution_count": 6,
   "id": "military-museum",
   "metadata": {},
   "outputs": [],
   "source": [
    "frames = [Data, DataV]\n",
    "\n",
    "Data = pd.concat(frames) # merging data sets of cardio train and cardio validation"
   ]
  },
  {
   "cell_type": "code",
   "execution_count": 7,
   "id": "bearing-newton",
   "metadata": {},
   "outputs": [
    {
     "data": {
      "text/html": [
       "<div>\n",
       "<style scoped>\n",
       "    .dataframe tbody tr th:only-of-type {\n",
       "        vertical-align: middle;\n",
       "    }\n",
       "\n",
       "    .dataframe tbody tr th {\n",
       "        vertical-align: top;\n",
       "    }\n",
       "\n",
       "    .dataframe thead th {\n",
       "        text-align: right;\n",
       "    }\n",
       "</style>\n",
       "<table border=\"1\" class=\"dataframe\">\n",
       "  <thead>\n",
       "    <tr style=\"text-align: right;\">\n",
       "      <th></th>\n",
       "      <th>id</th>\n",
       "      <th>age</th>\n",
       "      <th>gender</th>\n",
       "      <th>height</th>\n",
       "      <th>weight</th>\n",
       "      <th>ap_hi</th>\n",
       "      <th>ap_lo</th>\n",
       "      <th>cholesterol</th>\n",
       "      <th>gluc</th>\n",
       "      <th>smoke</th>\n",
       "      <th>alco</th>\n",
       "      <th>active</th>\n",
       "      <th>cardio</th>\n",
       "    </tr>\n",
       "  </thead>\n",
       "  <tbody>\n",
       "    <tr>\n",
       "      <th>0</th>\n",
       "      <td>92150</td>\n",
       "      <td>20535.0</td>\n",
       "      <td>NaN</td>\n",
       "      <td>163.0</td>\n",
       "      <td>75.0</td>\n",
       "      <td>120.0</td>\n",
       "      <td>NaN</td>\n",
       "      <td>NaN</td>\n",
       "      <td>Normal</td>\n",
       "      <td>0.0</td>\n",
       "      <td>0.0</td>\n",
       "      <td>1.0</td>\n",
       "      <td>0</td>\n",
       "    </tr>\n",
       "    <tr>\n",
       "      <th>1</th>\n",
       "      <td>88880</td>\n",
       "      <td>16125.0</td>\n",
       "      <td>Men</td>\n",
       "      <td>168.0</td>\n",
       "      <td>68.0</td>\n",
       "      <td>110.0</td>\n",
       "      <td>70.0</td>\n",
       "      <td>NaN</td>\n",
       "      <td>NaN</td>\n",
       "      <td>0.0</td>\n",
       "      <td>0.0</td>\n",
       "      <td>NaN</td>\n",
       "      <td>0</td>\n",
       "    </tr>\n",
       "    <tr>\n",
       "      <th>2</th>\n",
       "      <td>10483</td>\n",
       "      <td>19761.0</td>\n",
       "      <td>NaN</td>\n",
       "      <td>170.0</td>\n",
       "      <td>75.0</td>\n",
       "      <td>120.0</td>\n",
       "      <td>NaN</td>\n",
       "      <td>NaN</td>\n",
       "      <td>Normal</td>\n",
       "      <td>0.0</td>\n",
       "      <td>0.0</td>\n",
       "      <td>1.0</td>\n",
       "      <td>1</td>\n",
       "    </tr>\n",
       "    <tr>\n",
       "      <th>3</th>\n",
       "      <td>22798</td>\n",
       "      <td>19035.0</td>\n",
       "      <td>Men</td>\n",
       "      <td>NaN</td>\n",
       "      <td>89.0</td>\n",
       "      <td>NaN</td>\n",
       "      <td>80.0</td>\n",
       "      <td>Normal</td>\n",
       "      <td>NaN</td>\n",
       "      <td>0.0</td>\n",
       "      <td>NaN</td>\n",
       "      <td>NaN</td>\n",
       "      <td>0</td>\n",
       "    </tr>\n",
       "    <tr>\n",
       "      <th>4</th>\n",
       "      <td>85542</td>\n",
       "      <td>NaN</td>\n",
       "      <td>NaN</td>\n",
       "      <td>158.0</td>\n",
       "      <td>74.0</td>\n",
       "      <td>NaN</td>\n",
       "      <td>93.0</td>\n",
       "      <td>High</td>\n",
       "      <td>NaN</td>\n",
       "      <td>0.0</td>\n",
       "      <td>1.0</td>\n",
       "      <td>1.0</td>\n",
       "      <td>1</td>\n",
       "    </tr>\n",
       "    <tr>\n",
       "      <th>...</th>\n",
       "      <td>...</td>\n",
       "      <td>...</td>\n",
       "      <td>...</td>\n",
       "      <td>...</td>\n",
       "      <td>...</td>\n",
       "      <td>...</td>\n",
       "      <td>...</td>\n",
       "      <td>...</td>\n",
       "      <td>...</td>\n",
       "      <td>...</td>\n",
       "      <td>...</td>\n",
       "      <td>...</td>\n",
       "      <td>...</td>\n",
       "    </tr>\n",
       "    <tr>\n",
       "      <th>495</th>\n",
       "      <td>68639</td>\n",
       "      <td>NaN</td>\n",
       "      <td>Men</td>\n",
       "      <td>164.0</td>\n",
       "      <td>72.0</td>\n",
       "      <td>140.0</td>\n",
       "      <td>80.0</td>\n",
       "      <td>Normal</td>\n",
       "      <td>Normal</td>\n",
       "      <td>0.0</td>\n",
       "      <td>NaN</td>\n",
       "      <td>NaN</td>\n",
       "      <td>1</td>\n",
       "    </tr>\n",
       "    <tr>\n",
       "      <th>496</th>\n",
       "      <td>35524</td>\n",
       "      <td>15851.0</td>\n",
       "      <td>Men</td>\n",
       "      <td>159.0</td>\n",
       "      <td>NaN</td>\n",
       "      <td>90.0</td>\n",
       "      <td>60.0</td>\n",
       "      <td>NaN</td>\n",
       "      <td>Normal</td>\n",
       "      <td>0.0</td>\n",
       "      <td>0.0</td>\n",
       "      <td>1.0</td>\n",
       "      <td>0</td>\n",
       "    </tr>\n",
       "    <tr>\n",
       "      <th>497</th>\n",
       "      <td>43938</td>\n",
       "      <td>21010.0</td>\n",
       "      <td>Men</td>\n",
       "      <td>168.0</td>\n",
       "      <td>NaN</td>\n",
       "      <td>NaN</td>\n",
       "      <td>90.0</td>\n",
       "      <td>Normal</td>\n",
       "      <td>Normal</td>\n",
       "      <td>0.0</td>\n",
       "      <td>NaN</td>\n",
       "      <td>1.0</td>\n",
       "      <td>1</td>\n",
       "    </tr>\n",
       "    <tr>\n",
       "      <th>498</th>\n",
       "      <td>1487</td>\n",
       "      <td>NaN</td>\n",
       "      <td>Women</td>\n",
       "      <td>170.0</td>\n",
       "      <td>87.0</td>\n",
       "      <td>120.0</td>\n",
       "      <td>NaN</td>\n",
       "      <td>Normal</td>\n",
       "      <td>NaN</td>\n",
       "      <td>0.0</td>\n",
       "      <td>0.0</td>\n",
       "      <td>NaN</td>\n",
       "      <td>0</td>\n",
       "    </tr>\n",
       "    <tr>\n",
       "      <th>499</th>\n",
       "      <td>98728</td>\n",
       "      <td>NaN</td>\n",
       "      <td>Women</td>\n",
       "      <td>138.0</td>\n",
       "      <td>60.0</td>\n",
       "      <td>110.0</td>\n",
       "      <td>80.0</td>\n",
       "      <td>NaN</td>\n",
       "      <td>Normal</td>\n",
       "      <td>0.0</td>\n",
       "      <td>0.0</td>\n",
       "      <td>0.0</td>\n",
       "      <td>0</td>\n",
       "    </tr>\n",
       "  </tbody>\n",
       "</table>\n",
       "<p>1000 rows × 13 columns</p>\n",
       "</div>"
      ],
      "text/plain": [
       "        id      age gender  height  weight  ap_hi  ap_lo cholesterol    gluc  \\\n",
       "0    92150  20535.0    NaN   163.0    75.0  120.0    NaN         NaN  Normal   \n",
       "1    88880  16125.0    Men   168.0    68.0  110.0   70.0         NaN     NaN   \n",
       "2    10483  19761.0    NaN   170.0    75.0  120.0    NaN         NaN  Normal   \n",
       "3    22798  19035.0    Men     NaN    89.0    NaN   80.0      Normal     NaN   \n",
       "4    85542      NaN    NaN   158.0    74.0    NaN   93.0        High     NaN   \n",
       "..     ...      ...    ...     ...     ...    ...    ...         ...     ...   \n",
       "495  68639      NaN    Men   164.0    72.0  140.0   80.0      Normal  Normal   \n",
       "496  35524  15851.0    Men   159.0     NaN   90.0   60.0         NaN  Normal   \n",
       "497  43938  21010.0    Men   168.0     NaN    NaN   90.0      Normal  Normal   \n",
       "498   1487      NaN  Women   170.0    87.0  120.0    NaN      Normal     NaN   \n",
       "499  98728      NaN  Women   138.0    60.0  110.0   80.0         NaN  Normal   \n",
       "\n",
       "     smoke  alco  active  cardio  \n",
       "0      0.0   0.0     1.0       0  \n",
       "1      0.0   0.0     NaN       0  \n",
       "2      0.0   0.0     1.0       1  \n",
       "3      0.0   NaN     NaN       0  \n",
       "4      0.0   1.0     1.0       1  \n",
       "..     ...   ...     ...     ...  \n",
       "495    0.0   NaN     NaN       1  \n",
       "496    0.0   0.0     1.0       0  \n",
       "497    0.0   NaN     1.0       1  \n",
       "498    0.0   0.0     NaN       0  \n",
       "499    0.0   0.0     0.0       0  \n",
       "\n",
       "[1000 rows x 13 columns]"
      ]
     },
     "execution_count": 7,
     "metadata": {},
     "output_type": "execute_result"
    }
   ],
   "source": [
    "Data"
   ]
  },
  {
   "cell_type": "markdown",
   "id": "living-sleeve",
   "metadata": {},
   "source": [
    "# 2. Use dataframe.info and dataframe.describe to getthe insights aboutthe data."
   ]
  },
  {
   "cell_type": "code",
   "execution_count": 8,
   "id": "prompt-aruba",
   "metadata": {},
   "outputs": [
    {
     "data": {
      "text/plain": [
       "<bound method DataFrame.info of         id      age gender  height  weight  ap_hi  ap_lo cholesterol    gluc  \\\n",
       "0    92150  20535.0    NaN   163.0    75.0  120.0    NaN         NaN  Normal   \n",
       "1    88880  16125.0    Men   168.0    68.0  110.0   70.0         NaN     NaN   \n",
       "2    10483  19761.0    NaN   170.0    75.0  120.0    NaN         NaN  Normal   \n",
       "3    22798  19035.0    Men     NaN    89.0    NaN   80.0      Normal     NaN   \n",
       "4    85542      NaN    NaN   158.0    74.0    NaN   93.0        High     NaN   \n",
       "..     ...      ...    ...     ...     ...    ...    ...         ...     ...   \n",
       "495  68639      NaN    Men   164.0    72.0  140.0   80.0      Normal  Normal   \n",
       "496  35524  15851.0    Men   159.0     NaN   90.0   60.0         NaN  Normal   \n",
       "497  43938  21010.0    Men   168.0     NaN    NaN   90.0      Normal  Normal   \n",
       "498   1487      NaN  Women   170.0    87.0  120.0    NaN      Normal     NaN   \n",
       "499  98728      NaN  Women   138.0    60.0  110.0   80.0         NaN  Normal   \n",
       "\n",
       "     smoke  alco  active  cardio  \n",
       "0      0.0   0.0     1.0       0  \n",
       "1      0.0   0.0     NaN       0  \n",
       "2      0.0   0.0     1.0       1  \n",
       "3      0.0   NaN     NaN       0  \n",
       "4      0.0   1.0     1.0       1  \n",
       "..     ...   ...     ...     ...  \n",
       "495    0.0   NaN     NaN       1  \n",
       "496    0.0   0.0     1.0       0  \n",
       "497    0.0   NaN     1.0       1  \n",
       "498    0.0   0.0     NaN       0  \n",
       "499    0.0   0.0     0.0       0  \n",
       "\n",
       "[1000 rows x 13 columns]>"
      ]
     },
     "execution_count": 8,
     "metadata": {},
     "output_type": "execute_result"
    }
   ],
   "source": [
    "Data.info"
   ]
  },
  {
   "cell_type": "code",
   "execution_count": 9,
   "id": "rocky-bennett",
   "metadata": {},
   "outputs": [
    {
     "data": {
      "text/html": [
       "<div>\n",
       "<style scoped>\n",
       "    .dataframe tbody tr th:only-of-type {\n",
       "        vertical-align: middle;\n",
       "    }\n",
       "\n",
       "    .dataframe tbody tr th {\n",
       "        vertical-align: top;\n",
       "    }\n",
       "\n",
       "    .dataframe thead th {\n",
       "        text-align: right;\n",
       "    }\n",
       "</style>\n",
       "<table border=\"1\" class=\"dataframe\">\n",
       "  <thead>\n",
       "    <tr style=\"text-align: right;\">\n",
       "      <th></th>\n",
       "      <th>id</th>\n",
       "      <th>age</th>\n",
       "      <th>gender</th>\n",
       "      <th>height</th>\n",
       "      <th>weight</th>\n",
       "      <th>ap_hi</th>\n",
       "      <th>ap_lo</th>\n",
       "      <th>cholesterol</th>\n",
       "      <th>gluc</th>\n",
       "      <th>smoke</th>\n",
       "      <th>alco</th>\n",
       "      <th>active</th>\n",
       "      <th>cardio</th>\n",
       "    </tr>\n",
       "  </thead>\n",
       "  <tbody>\n",
       "    <tr>\n",
       "      <th>0</th>\n",
       "      <td>92150</td>\n",
       "      <td>20535.0</td>\n",
       "      <td>NaN</td>\n",
       "      <td>163.0</td>\n",
       "      <td>75.0</td>\n",
       "      <td>120.0</td>\n",
       "      <td>NaN</td>\n",
       "      <td>NaN</td>\n",
       "      <td>Normal</td>\n",
       "      <td>0.0</td>\n",
       "      <td>0.0</td>\n",
       "      <td>1.0</td>\n",
       "      <td>0</td>\n",
       "    </tr>\n",
       "    <tr>\n",
       "      <th>1</th>\n",
       "      <td>88880</td>\n",
       "      <td>16125.0</td>\n",
       "      <td>Men</td>\n",
       "      <td>168.0</td>\n",
       "      <td>68.0</td>\n",
       "      <td>110.0</td>\n",
       "      <td>70.0</td>\n",
       "      <td>NaN</td>\n",
       "      <td>NaN</td>\n",
       "      <td>0.0</td>\n",
       "      <td>0.0</td>\n",
       "      <td>NaN</td>\n",
       "      <td>0</td>\n",
       "    </tr>\n",
       "    <tr>\n",
       "      <th>2</th>\n",
       "      <td>10483</td>\n",
       "      <td>19761.0</td>\n",
       "      <td>NaN</td>\n",
       "      <td>170.0</td>\n",
       "      <td>75.0</td>\n",
       "      <td>120.0</td>\n",
       "      <td>NaN</td>\n",
       "      <td>NaN</td>\n",
       "      <td>Normal</td>\n",
       "      <td>0.0</td>\n",
       "      <td>0.0</td>\n",
       "      <td>1.0</td>\n",
       "      <td>1</td>\n",
       "    </tr>\n",
       "    <tr>\n",
       "      <th>3</th>\n",
       "      <td>22798</td>\n",
       "      <td>19035.0</td>\n",
       "      <td>Men</td>\n",
       "      <td>NaN</td>\n",
       "      <td>89.0</td>\n",
       "      <td>NaN</td>\n",
       "      <td>80.0</td>\n",
       "      <td>Normal</td>\n",
       "      <td>NaN</td>\n",
       "      <td>0.0</td>\n",
       "      <td>NaN</td>\n",
       "      <td>NaN</td>\n",
       "      <td>0</td>\n",
       "    </tr>\n",
       "    <tr>\n",
       "      <th>4</th>\n",
       "      <td>85542</td>\n",
       "      <td>NaN</td>\n",
       "      <td>NaN</td>\n",
       "      <td>158.0</td>\n",
       "      <td>74.0</td>\n",
       "      <td>NaN</td>\n",
       "      <td>93.0</td>\n",
       "      <td>High</td>\n",
       "      <td>NaN</td>\n",
       "      <td>0.0</td>\n",
       "      <td>1.0</td>\n",
       "      <td>1.0</td>\n",
       "      <td>1</td>\n",
       "    </tr>\n",
       "    <tr>\n",
       "      <th>...</th>\n",
       "      <td>...</td>\n",
       "      <td>...</td>\n",
       "      <td>...</td>\n",
       "      <td>...</td>\n",
       "      <td>...</td>\n",
       "      <td>...</td>\n",
       "      <td>...</td>\n",
       "      <td>...</td>\n",
       "      <td>...</td>\n",
       "      <td>...</td>\n",
       "      <td>...</td>\n",
       "      <td>...</td>\n",
       "      <td>...</td>\n",
       "    </tr>\n",
       "    <tr>\n",
       "      <th>495</th>\n",
       "      <td>68639</td>\n",
       "      <td>NaN</td>\n",
       "      <td>Men</td>\n",
       "      <td>164.0</td>\n",
       "      <td>72.0</td>\n",
       "      <td>140.0</td>\n",
       "      <td>80.0</td>\n",
       "      <td>Normal</td>\n",
       "      <td>Normal</td>\n",
       "      <td>0.0</td>\n",
       "      <td>NaN</td>\n",
       "      <td>NaN</td>\n",
       "      <td>1</td>\n",
       "    </tr>\n",
       "    <tr>\n",
       "      <th>496</th>\n",
       "      <td>35524</td>\n",
       "      <td>15851.0</td>\n",
       "      <td>Men</td>\n",
       "      <td>159.0</td>\n",
       "      <td>NaN</td>\n",
       "      <td>90.0</td>\n",
       "      <td>60.0</td>\n",
       "      <td>NaN</td>\n",
       "      <td>Normal</td>\n",
       "      <td>0.0</td>\n",
       "      <td>0.0</td>\n",
       "      <td>1.0</td>\n",
       "      <td>0</td>\n",
       "    </tr>\n",
       "    <tr>\n",
       "      <th>497</th>\n",
       "      <td>43938</td>\n",
       "      <td>21010.0</td>\n",
       "      <td>Men</td>\n",
       "      <td>168.0</td>\n",
       "      <td>NaN</td>\n",
       "      <td>NaN</td>\n",
       "      <td>90.0</td>\n",
       "      <td>Normal</td>\n",
       "      <td>Normal</td>\n",
       "      <td>0.0</td>\n",
       "      <td>NaN</td>\n",
       "      <td>1.0</td>\n",
       "      <td>1</td>\n",
       "    </tr>\n",
       "    <tr>\n",
       "      <th>498</th>\n",
       "      <td>1487</td>\n",
       "      <td>NaN</td>\n",
       "      <td>Women</td>\n",
       "      <td>170.0</td>\n",
       "      <td>87.0</td>\n",
       "      <td>120.0</td>\n",
       "      <td>NaN</td>\n",
       "      <td>Normal</td>\n",
       "      <td>NaN</td>\n",
       "      <td>0.0</td>\n",
       "      <td>0.0</td>\n",
       "      <td>NaN</td>\n",
       "      <td>0</td>\n",
       "    </tr>\n",
       "    <tr>\n",
       "      <th>499</th>\n",
       "      <td>98728</td>\n",
       "      <td>NaN</td>\n",
       "      <td>Women</td>\n",
       "      <td>138.0</td>\n",
       "      <td>60.0</td>\n",
       "      <td>110.0</td>\n",
       "      <td>80.0</td>\n",
       "      <td>NaN</td>\n",
       "      <td>Normal</td>\n",
       "      <td>0.0</td>\n",
       "      <td>0.0</td>\n",
       "      <td>0.0</td>\n",
       "      <td>0</td>\n",
       "    </tr>\n",
       "  </tbody>\n",
       "</table>\n",
       "<p>1000 rows × 13 columns</p>\n",
       "</div>"
      ],
      "text/plain": [
       "        id      age gender  height  weight  ap_hi  ap_lo cholesterol    gluc  \\\n",
       "0    92150  20535.0    NaN   163.0    75.0  120.0    NaN         NaN  Normal   \n",
       "1    88880  16125.0    Men   168.0    68.0  110.0   70.0         NaN     NaN   \n",
       "2    10483  19761.0    NaN   170.0    75.0  120.0    NaN         NaN  Normal   \n",
       "3    22798  19035.0    Men     NaN    89.0    NaN   80.0      Normal     NaN   \n",
       "4    85542      NaN    NaN   158.0    74.0    NaN   93.0        High     NaN   \n",
       "..     ...      ...    ...     ...     ...    ...    ...         ...     ...   \n",
       "495  68639      NaN    Men   164.0    72.0  140.0   80.0      Normal  Normal   \n",
       "496  35524  15851.0    Men   159.0     NaN   90.0   60.0         NaN  Normal   \n",
       "497  43938  21010.0    Men   168.0     NaN    NaN   90.0      Normal  Normal   \n",
       "498   1487      NaN  Women   170.0    87.0  120.0    NaN      Normal     NaN   \n",
       "499  98728      NaN  Women   138.0    60.0  110.0   80.0         NaN  Normal   \n",
       "\n",
       "     smoke  alco  active  cardio  \n",
       "0      0.0   0.0     1.0       0  \n",
       "1      0.0   0.0     NaN       0  \n",
       "2      0.0   0.0     1.0       1  \n",
       "3      0.0   NaN     NaN       0  \n",
       "4      0.0   1.0     1.0       1  \n",
       "..     ...   ...     ...     ...  \n",
       "495    0.0   NaN     NaN       1  \n",
       "496    0.0   0.0     1.0       0  \n",
       "497    0.0   NaN     1.0       1  \n",
       "498    0.0   0.0     NaN       0  \n",
       "499    0.0   0.0     0.0       0  \n",
       "\n",
       "[1000 rows x 13 columns]"
      ]
     },
     "execution_count": 9,
     "metadata": {},
     "output_type": "execute_result"
    }
   ],
   "source": [
    "Data"
   ]
  },
  {
   "cell_type": "markdown",
   "id": "continental-phone",
   "metadata": {},
   "source": [
    "# 3. Find the number of null values for each columns"
   ]
  },
  {
   "cell_type": "code",
   "execution_count": 10,
   "id": "portable-james",
   "metadata": {},
   "outputs": [
    {
     "data": {
      "text/plain": [
       "id               0\n",
       "age            277\n",
       "gender         268\n",
       "height         394\n",
       "weight         272\n",
       "ap_hi          267\n",
       "ap_lo          264\n",
       "cholesterol    272\n",
       "gluc           255\n",
       "smoke          269\n",
       "alco           269\n",
       "active         246\n",
       "cardio           0\n",
       "dtype: int64"
      ]
     },
     "execution_count": 10,
     "metadata": {},
     "output_type": "execute_result"
    }
   ],
   "source": [
    "Data.isnull().sum()"
   ]
  },
  {
   "cell_type": "markdown",
   "id": "exclusive-things",
   "metadata": {},
   "source": [
    "# 4. Know about the patients (Example of analysis for ages)\n",
    "a. Find the oldestperson\n",
    "\n",
    "b. Find the youngestperson\n",
    "\n",
    "c. Find the average age group\n",
    "\n",
    "d. Find median age\n"
   ]
  },
  {
   "cell_type": "code",
   "execution_count": 11,
   "id": "scenic-married",
   "metadata": {},
   "outputs": [],
   "source": [
    "Data.age = Data.age.div(365)"
   ]
  },
  {
   "cell_type": "code",
   "execution_count": 12,
   "id": "liable-pitch",
   "metadata": {},
   "outputs": [
    {
     "name": "stdout",
     "output_type": "stream",
     "text": [
      "64.66575342465754\n",
      "39.271232876712325\n",
      "53.20662384660566\n",
      "53.96986301369863\n"
     ]
    }
   ],
   "source": [
    "print(Data.age.max())\n",
    "print(Data.age.min())\n",
    "print(Data.age.mean())\n",
    "print(Data.age.median())"
   ]
  },
  {
   "cell_type": "markdown",
   "id": "academic-parcel",
   "metadata": {},
   "source": [
    "e. Find the relationship between the cardio and ages(the cardio column is\n",
    "your prediction variable)\n"
   ]
  },
  {
   "cell_type": "code",
   "execution_count": 13,
   "id": "owned-psychiatry",
   "metadata": {},
   "outputs": [
    {
     "data": {
      "image/png": "[encoded data removed]",
      "text/plain": [
       "<Figure size 1440x720 with 1 Axes>"
      ]
     },
     "metadata": {
      "needs_background": "light"
     },
     "output_type": "display_data"
    }
   ],
   "source": [
    "bins = [35,40,45,50,55,60,65]\n",
    "out = pd.cut(Data.age, bins=bins, include_lowest=True)\n",
    "ax = out.value_counts(sort=False).plot.bar(\n",
    "    rot=0,\n",
    "    color=\"g\",\n",
    "    figsize=(20,10)\n",
    ")\n",
    "plt.xlabel('Age bins')\n",
    "plt.ylabel('count')\n",
    "plt.show()"
   ]
  },
  {
   "cell_type": "code",
   "execution_count": 14,
   "id": "stylish-albuquerque",
   "metadata": {},
   "outputs": [
    {
     "data": {
      "text/plain": [
       "<seaborn.axisgrid.FacetGrid at 0x2475ac8aca0>"
      ]
     },
     "execution_count": 14,
     "metadata": {},
     "output_type": "execute_result"
    },
    {
     "data": {
      "image/png": "[encoded data removed]",
      "text/plain": [
       "<Figure size 720x360 with 2 Axes>"
      ]
     },
     "metadata": {
      "needs_background": "light"
     },
     "output_type": "display_data"
    }
   ],
   "source": [
    "sns.displot(data=Data, x=\"age\", col=\"cardio\")"
   ]
  },
  {
   "cell_type": "markdown",
   "id": "enclosed-culture",
   "metadata": {},
   "source": [
    "f. Find the age groups whose survival rate is the largest"
   ]
  },
  {
   "cell_type": "code",
   "execution_count": 15,
   "id": "pregnant-coffee",
   "metadata": {},
   "outputs": [
    {
     "data": {
      "text/plain": [
       "<AxesSubplot:xlabel='age', ylabel='Count'>"
      ]
     },
     "execution_count": 15,
     "metadata": {},
     "output_type": "execute_result"
    },
    {
     "data": {
      "image/png": "[encoded data removed]",
      "text/plain": [
       "<Figure size 432x288 with 1 Axes>"
      ]
     },
     "metadata": {
      "needs_background": "light"
     },
     "output_type": "display_data"
    }
   ],
   "source": [
    "sns.histplot(data=Data, x=\"age\", hue=\"cardio\")# the larges group is around 51 years old"
   ]
  },
  {
   "cell_type": "markdown",
   "id": "instant-evidence",
   "metadata": {},
   "source": [
    "g. Find similar relationships for at least 3-4 columns that you think can play a role\n",
    "in prediction (For example, systolic BP, cholesterol etc.)"
   ]
  },
  {
   "cell_type": "code",
   "execution_count": 16,
   "id": "fewer-operator",
   "metadata": {},
   "outputs": [
    {
     "data": {
      "text/plain": [
       "<AxesSubplot:xlabel='ap_hi', ylabel='Count'>"
      ]
     },
     "execution_count": 16,
     "metadata": {},
     "output_type": "execute_result"
    },
    {
     "data": {
      "image/png": "[encoded data removed]",
      "text/plain": [
       "<Figure size 432x288 with 1 Axes>"
      ]
     },
     "metadata": {
      "needs_background": "light"
     },
     "output_type": "display_data"
    }
   ],
   "source": [
    "sns.histplot(data=Data, x=\"ap_hi\", hue=\"cholesterol\")"
   ]
  },
  {
   "cell_type": "code",
   "execution_count": 17,
   "id": "related-bachelor",
   "metadata": {},
   "outputs": [
    {
     "data": {
      "text/plain": [
       "<AxesSubplot:xlabel='ap_lo', ylabel='Count'>"
      ]
     },
     "execution_count": 17,
     "metadata": {},
     "output_type": "execute_result"
    },
    {
     "data": {
      "image/png": "[encoded data removed]",
      "text/plain": [
       "<Figure size 432x288 with 1 Axes>"
      ]
     },
     "metadata": {
      "needs_background": "light"
     },
     "output_type": "display_data"
    }
   ],
   "source": [
    "sns.histplot(data=Data, x=\"ap_lo\", hue=\"cholesterol\")"
   ]
  },
  {
   "cell_type": "code",
   "execution_count": 18,
   "id": "studied-series",
   "metadata": {},
   "outputs": [
    {
     "data": {
      "text/plain": [
       "<AxesSubplot:xlabel='weight', ylabel='Count'>"
      ]
     },
     "execution_count": 18,
     "metadata": {},
     "output_type": "execute_result"
    },
    {
     "data": {
      "image/png": "[encoded data removed]",
      "text/plain": [
       "<Figure size 432x288 with 1 Axes>"
      ]
     },
     "metadata": {
      "needs_background": "light"
     },
     "output_type": "display_data"
    }
   ],
   "source": [
    "sns.histplot(data=Data, x=\"weight\", hue=\"cardio\")"
   ]
  },
  {
   "cell_type": "code",
   "execution_count": 19,
   "id": "precise-tackle",
   "metadata": {},
   "outputs": [
    {
     "data": {
      "text/plain": [
       "<AxesSubplot:xlabel='weight', ylabel='Count'>"
      ]
     },
     "execution_count": 19,
     "metadata": {},
     "output_type": "execute_result"
    },
    {
     "data": {
      "image/png": "[encoded data removed]",
      "text/plain": [
       "<Figure size 432x288 with 1 Axes>"
      ]
     },
     "metadata": {
      "needs_background": "light"
     },
     "output_type": "display_data"
    }
   ],
   "source": [
    "sns.histplot(data=Data, x=\"weight\", hue=\"cholesterol\")"
   ]
  },
  {
   "cell_type": "markdown",
   "id": "russian-focus",
   "metadata": {},
   "source": [
    "# h. Get more visuals on data distributions\n",
    "\n",
    "i. Use plotCorrelationMatrix\n",
    "\n",
    "ii. plotScatterMatrix\n",
    "\n",
    "iii. plotPerColumnDistribution\n"
   ]
  },
  {
   "cell_type": "code",
   "execution_count": 20,
   "id": "systematic-confirmation",
   "metadata": {},
   "outputs": [],
   "source": [
    "#some columns had to be normalize to provide a better visual plot\n",
    "from sklearn.preprocessing import LabelEncoder \n",
    "LabelEncoder_X= LabelEncoder()\n",
    "Data['gender']= LabelEncoder_X.fit_transform(Data['gender'])\n",
    "Data['cholesterol']= LabelEncoder_X.fit_transform(Data['cholesterol'])\n",
    "Data['gluc']= LabelEncoder_X.fit_transform(Data['gluc'])\n"
   ]
  },
  {
   "cell_type": "code",
   "execution_count": 21,
   "id": "solved-factory",
   "metadata": {},
   "outputs": [
    {
     "data": {
      "text/plain": [
       "<AxesSubplot:>"
      ]
     },
     "execution_count": 21,
     "metadata": {},
     "output_type": "execute_result"
    },
    {
     "data": {
      "image/png": "[encoded data removed]",
      "text/plain": [
       "<Figure size 864x864 with 2 Axes>"
      ]
     },
     "metadata": {},
     "output_type": "display_data"
    }
   ],
   "source": [
    "sns.set(rc={'figure.figsize':(12,12)})\n",
    "corr_matrix = Data.corr().round(2)\n",
    "sns.heatmap(data=corr_matrix, annot=True)"
   ]
  },
  {
   "cell_type": "code",
   "execution_count": 22,
   "id": "exciting-beaver",
   "metadata": {},
   "outputs": [
    {
     "data": {
      "text/plain": [
       "array([[<AxesSubplot:xlabel='ap_hi', ylabel='ap_hi'>,\n",
       "        <AxesSubplot:xlabel='cardio', ylabel='ap_hi'>],\n",
       "       [<AxesSubplot:xlabel='ap_hi', ylabel='cardio'>,\n",
       "        <AxesSubplot:xlabel='cardio', ylabel='cardio'>]], dtype=object)"
      ]
     },
     "execution_count": 22,
     "metadata": {},
     "output_type": "execute_result"
    },
    {
     "data": {
      "image/png": "[encoded data removed]",
      "text/plain": [
       "<Figure size 864x864 with 4 Axes>"
      ]
     },
     "metadata": {},
     "output_type": "display_data"
    }
   ],
   "source": [
    "pd.plotting.scatter_matrix(Data.iloc[:, [5,12]])"
   ]
  },
  {
   "cell_type": "code",
   "execution_count": 23,
   "id": "intense-start",
   "metadata": {},
   "outputs": [
    {
     "data": {
      "text/plain": [
       "<AxesSubplot:xlabel='gender', ylabel='Count'>"
      ]
     },
     "execution_count": 23,
     "metadata": {},
     "output_type": "execute_result"
    },
    {
     "data": {
      "image/png": "[encoded data removed]",
      "text/plain": [
       "<Figure size 864x864 with 1 Axes>"
      ]
     },
     "metadata": {},
     "output_type": "display_data"
    }
   ],
   "source": [
    "sns.histplot(data=Data, x=\"gender\")"
   ]
  },
  {
   "cell_type": "code",
   "execution_count": 24,
   "id": "dependent-fabric",
   "metadata": {},
   "outputs": [
    {
     "data": {
      "text/plain": [
       "<AxesSubplot:xlabel='age', ylabel='Count'>"
      ]
     },
     "execution_count": 24,
     "metadata": {},
     "output_type": "execute_result"
    },
    {
     "data": {
      "image/png": "[encoded data removed]",
      "text/plain": [
       "<Figure size 864x864 with 1 Axes>"
      ]
     },
     "metadata": {},
     "output_type": "display_data"
    }
   ],
   "source": [
    "sns.histplot(data=Data, x=\"age\")"
   ]
  },
  {
   "cell_type": "code",
   "execution_count": 25,
   "id": "valuable-language",
   "metadata": {},
   "outputs": [
    {
     "data": {
      "text/plain": [
       "<AxesSubplot:xlabel='height', ylabel='Count'>"
      ]
     },
     "execution_count": 25,
     "metadata": {},
     "output_type": "execute_result"
    },
    {
     "data": {
      "image/png": "[encoded data removed]",
      "text/plain": [
       "<Figure size 864x864 with 1 Axes>"
      ]
     },
     "metadata": {},
     "output_type": "display_data"
    }
   ],
   "source": [
    "sns.histplot(data=Data, x=\"height\")"
   ]
  },
  {
   "cell_type": "code",
   "execution_count": 26,
   "id": "tribal-paradise",
   "metadata": {},
   "outputs": [
    {
     "data": {
      "text/plain": [
       "<AxesSubplot:xlabel='weight', ylabel='Count'>"
      ]
     },
     "execution_count": 26,
     "metadata": {},
     "output_type": "execute_result"
    },
    {
     "data": {
      "image/png": "[encoded data removed]",
      "text/plain": [
       "<Figure size 864x864 with 1 Axes>"
      ]
     },
     "metadata": {},
     "output_type": "display_data"
    }
   ],
   "source": [
    "sns.histplot(data=Data, x=\"weight\")"
   ]
  },
  {
   "cell_type": "code",
   "execution_count": 27,
   "id": "proof-paris",
   "metadata": {},
   "outputs": [
    {
     "data": {
      "text/plain": [
       "<AxesSubplot:xlabel='ap_hi', ylabel='Count'>"
      ]
     },
     "execution_count": 27,
     "metadata": {},
     "output_type": "execute_result"
    },
    {
     "data": {
      "image/png": "[encoded data removed]",
      "text/plain": [
       "<Figure size 864x864 with 1 Axes>"
      ]
     },
     "metadata": {},
     "output_type": "display_data"
    }
   ],
   "source": [
    "sns.histplot(data=Data, x=\"ap_hi\")"
   ]
  },
  {
   "cell_type": "code",
   "execution_count": 28,
   "id": "isolated-gnome",
   "metadata": {},
   "outputs": [
    {
     "data": {
      "text/plain": [
       "<AxesSubplot:xlabel='ap_lo', ylabel='Count'>"
      ]
     },
     "execution_count": 28,
     "metadata": {},
     "output_type": "execute_result"
    },
    {
     "data": {
      "image/png": "[encoded data removed]",
      "text/plain": [
       "<Figure size 864x864 with 1 Axes>"
      ]
     },
     "metadata": {},
     "output_type": "display_data"
    }
   ],
   "source": [
    "sns.histplot(data=Data, x=\"ap_lo\")"
   ]
  },
  {
   "cell_type": "code",
   "execution_count": 29,
   "id": "fallen-qatar",
   "metadata": {
    "scrolled": true
   },
   "outputs": [
    {
     "data": {
      "text/plain": [
       "<AxesSubplot:xlabel='cholesterol', ylabel='Count'>"
      ]
     },
     "execution_count": 29,
     "metadata": {},
     "output_type": "execute_result"
    },
    {
     "data": {
      "image/png": "[encoded data removed]",
      "text/plain": [
       "<Figure size 864x864 with 1 Axes>"
      ]
     },
     "metadata": {},
     "output_type": "display_data"
    }
   ],
   "source": [
    "sns.histplot(data=Data, x=\"cholesterol\")"
   ]
  },
  {
   "cell_type": "code",
   "execution_count": 30,
   "id": "saved-house",
   "metadata": {},
   "outputs": [
    {
     "data": {
      "text/plain": [
       "<AxesSubplot:xlabel='gluc', ylabel='Count'>"
      ]
     },
     "execution_count": 30,
     "metadata": {},
     "output_type": "execute_result"
    },
    {
     "data": {
      "image/png": "[encoded data removed]",
      "text/plain": [
       "<Figure size 864x864 with 1 Axes>"
      ]
     },
     "metadata": {},
     "output_type": "display_data"
    }
   ],
   "source": [
    "sns.histplot(data=Data, x=\"gluc\")"
   ]
  },
  {
   "cell_type": "code",
   "execution_count": 31,
   "id": "unauthorized-value",
   "metadata": {},
   "outputs": [
    {
     "data": {
      "text/plain": [
       "<AxesSubplot:xlabel='smoke', ylabel='Count'>"
      ]
     },
     "execution_count": 31,
     "metadata": {},
     "output_type": "execute_result"
    },
    {
     "data": {
      "image/png": "[encoded data removed]",
      "text/plain": [
       "<Figure size 864x864 with 1 Axes>"
      ]
     },
     "metadata": {},
     "output_type": "display_data"
    }
   ],
   "source": [
    "sns.histplot(data=Data, x=\"smoke\")"
   ]
  },
  {
   "cell_type": "code",
   "execution_count": 32,
   "id": "sought-replication",
   "metadata": {},
   "outputs": [
    {
     "data": {
      "text/plain": [
       "<AxesSubplot:xlabel='alco', ylabel='Count'>"
      ]
     },
     "execution_count": 32,
     "metadata": {},
     "output_type": "execute_result"
    },
    {
     "data": {
      "image/png": "[encoded data removed]",
      "text/plain": [
       "<Figure size 864x864 with 1 Axes>"
      ]
     },
     "metadata": {},
     "output_type": "display_data"
    }
   ],
   "source": [
    "sns.histplot(data=Data, x=\"alco\")"
   ]
  },
  {
   "cell_type": "code",
   "execution_count": 33,
   "id": "ordered-singles",
   "metadata": {},
   "outputs": [
    {
     "data": {
      "text/plain": [
       "<AxesSubplot:xlabel='active', ylabel='Count'>"
      ]
     },
     "execution_count": 33,
     "metadata": {},
     "output_type": "execute_result"
    },
    {
     "data": {
      "image/png": "[encoded data removed]",
      "text/plain": [
       "<Figure size 864x864 with 1 Axes>"
      ]
     },
     "metadata": {},
     "output_type": "display_data"
    }
   ],
   "source": [
    "sns.histplot(data=Data, x=\"active\")"
   ]
  },
  {
   "cell_type": "code",
   "execution_count": 34,
   "id": "waiting-quebec",
   "metadata": {},
   "outputs": [
    {
     "data": {
      "text/plain": [
       "<AxesSubplot:xlabel='cardio', ylabel='Count'>"
      ]
     },
     "execution_count": 34,
     "metadata": {},
     "output_type": "execute_result"
    },
    {
     "data": {
      "image/png": "[encoded data removed]",
      "text/plain": [
       "<Figure size 864x864 with 1 Axes>"
      ]
     },
     "metadata": {},
     "output_type": "display_data"
    }
   ],
   "source": [
    "sns.histplot(data=Data, x=\"cardio\")"
   ]
  },
  {
   "cell_type": "markdown",
   "id": "worth-capital",
   "metadata": {},
   "source": [
    "# i. Find missing values\n",
    "i. Get the count of missing values\n",
    "\n",
    "ii. Plot a heat map for missing values\n"
   ]
  },
  {
   "cell_type": "code",
   "execution_count": 35,
   "id": "advised-blend",
   "metadata": {},
   "outputs": [
    {
     "data": {
      "text/plain": [
       "id               0\n",
       "age            277\n",
       "gender           0\n",
       "height         394\n",
       "weight         272\n",
       "ap_hi          267\n",
       "ap_lo          264\n",
       "cholesterol      0\n",
       "gluc             0\n",
       "smoke          269\n",
       "alco           269\n",
       "active         246\n",
       "cardio           0\n",
       "dtype: int64"
      ]
     },
     "execution_count": 35,
     "metadata": {},
     "output_type": "execute_result"
    }
   ],
   "source": [
    "Data.isnull().sum() # due to normalization some values are inacurate when taking a sample here \n",
    "                    #the correct missing values are as follows: gender(171) cholesterol(167) gluc(167)"
   ]
  },
  {
   "cell_type": "code",
   "execution_count": 36,
   "id": "interpreted-location",
   "metadata": {},
   "outputs": [
    {
     "data": {
      "text/plain": [
       "<AxesSubplot:>"
      ]
     },
     "execution_count": 36,
     "metadata": {},
     "output_type": "execute_result"
    },
    {
     "data": {
      "image/png": "[encoded data removed]",
      "text/plain": [
       "<Figure size 864x864 with 1 Axes>"
      ]
     },
     "metadata": {},
     "output_type": "display_data"
    }
   ],
   "source": [
    "sns.heatmap(Data.isnull(), cbar=False)"
   ]
  },
  {
   "cell_type": "markdown",
   "id": "useful-course",
   "metadata": {},
   "source": [
    "# j. Applying a different technique to handle missing values (For each technique verify your prediction results)\n",
    "\n",
    "i. Use dropna\n",
    "\n",
    "ii. Use replace NA with zero or max value\n",
    "\n",
    "iii. Use replace NA with mean\n",
    "\n",
    "iv. Search for additional techniques to handle null values, excluding the\n",
    "above three and test.(Include all the techniques that you used in your\n",
    "report.)"
   ]
  },
  {
   "cell_type": "code",
   "execution_count": 37,
   "id": "divine-society",
   "metadata": {},
   "outputs": [
    {
     "data": {
      "text/plain": [
       "(1000, 13)"
      ]
     },
     "execution_count": 37,
     "metadata": {},
     "output_type": "execute_result"
    }
   ],
   "source": [
    "Data.shape"
   ]
  },
  {
   "cell_type": "code",
   "execution_count": 38,
   "id": "warming-celtic",
   "metadata": {},
   "outputs": [
    {
     "data": {
      "text/plain": [
       "<AxesSubplot:>"
      ]
     },
     "execution_count": 38,
     "metadata": {},
     "output_type": "execute_result"
    },
    {
     "data": {
      "image/png": "[encoded data removed]",
      "text/plain": [
       "<Figure size 864x864 with 2 Axes>"
      ]
     },
     "metadata": {},
     "output_type": "display_data"
    }
   ],
   "source": [
    "#when NaN values are dropped stronger correlations are created which did not exist previously \n",
    "sns.set(rc={'figure.figsize':(12,12)})\n",
    "df1 = Data.dropna()\n",
    "corr_matrix = df1.corr().round(2)\n",
    "sns.heatmap(data=corr_matrix, annot=True)"
   ]
  },
  {
   "cell_type": "code",
   "execution_count": 39,
   "id": "interstate-principal",
   "metadata": {},
   "outputs": [
    {
     "data": {
      "text/plain": [
       "<AxesSubplot:>"
      ]
     },
     "execution_count": 39,
     "metadata": {},
     "output_type": "execute_result"
    },
    {
     "data": {
      "image/png": "[encoded data removed]",
      "text/plain": [
       "<Figure size 864x864 with 2 Axes>"
      ]
     },
     "metadata": {},
     "output_type": "display_data"
    }
   ],
   "source": [
    "#filling all NaN values with zero creates weak correlations\n",
    "sns.set(rc={'figure.figsize':(12,12)})\n",
    "df2 = Data.fillna(0)\n",
    "corr_matrix = df2.corr().round(2)\n",
    "sns.heatmap(data=corr_matrix, annot=True)"
   ]
  },
  {
   "cell_type": "code",
   "execution_count": 40,
   "id": "utility-lloyd",
   "metadata": {},
   "outputs": [
    {
     "data": {
      "text/plain": [
       "<AxesSubplot:>"
      ]
     },
     "execution_count": 40,
     "metadata": {},
     "output_type": "execute_result"
    },
    {
     "data": {
      "image/png": "[encoded data removed]",
      "text/plain": [
       "<Figure size 864x864 with 2 Axes>"
      ]
     },
     "metadata": {},
     "output_type": "display_data"
    }
   ],
   "source": [
    "#filling all NaN values with mean creates smarter correlations compared to setting everything to zero\n",
    "#which does not impact the end corelations \n",
    "df = Data\n",
    "df['age'].fillna(value=df['age'].mean(), inplace=True)\n",
    "df['height'].fillna(value=df['height'].mean(), inplace=True)\n",
    "df['weight'].fillna(value=df['weight'].mean(), inplace=True)\n",
    "df['ap_hi'].fillna(value=df['ap_hi'].mean(), inplace=True)\n",
    "df['ap_lo'].fillna(value=df['ap_lo'].mean(), inplace=True)\n",
    "df['smoke'].fillna(value=df['smoke'].mean(), inplace=True)\n",
    "df['alco'].fillna(value=df['alco'].mean(), inplace=True)\n",
    "df['active'].fillna(value=df['active'].mean(), inplace=True)\n",
    "\n",
    "min_max_scaler = MinMaxScaler()\n",
    "df[['id', 'age', 'gender', 'height', 'weight', 'ap_hi', 'ap_lo',\n",
    "       'cholesterol', 'gluc', 'smoke', 'alco', 'active', 'cardio']] = min_max_scaler.fit_transform(df[['id', 'age', 'gender', 'height', 'weight', 'ap_hi', 'ap_lo',\n",
    "       'cholesterol', 'gluc', 'smoke', 'alco', 'active', 'cardio']])\n",
    "\n",
    "sns.set(rc={'figure.figsize':(12,12)})\n",
    "\n",
    "corr_matrix = df.corr().round(2)\n",
    "sns.heatmap(data=corr_matrix, annot=True)"
   ]
  },
  {
   "cell_type": "markdown",
   "id": "swedish-mitchell",
   "metadata": {},
   "source": [
    "# k. Applying the feature scaling technique if you think itis required.(Optional)\n",
    "\n",
    "This was done earlier to ensure working graphs"
   ]
  },
  {
   "cell_type": "code",
   "execution_count": 41,
   "id": "compliant-launch",
   "metadata": {},
   "outputs": [],
   "source": [
    "#loading in test data for evaluation "
   ]
  },
  {
   "cell_type": "code",
   "execution_count": 42,
   "id": "disciplinary-girlfriend",
   "metadata": {},
   "outputs": [],
   "source": [
    "DataTest = pd.read_csv(\"cardio-test.csv\")"
   ]
  },
  {
   "cell_type": "code",
   "execution_count": 43,
   "id": "spare-remedy",
   "metadata": {},
   "outputs": [
    {
     "data": {
      "text/html": [
       "<div>\n",
       "<style scoped>\n",
       "    .dataframe tbody tr th:only-of-type {\n",
       "        vertical-align: middle;\n",
       "    }\n",
       "\n",
       "    .dataframe tbody tr th {\n",
       "        vertical-align: top;\n",
       "    }\n",
       "\n",
       "    .dataframe thead th {\n",
       "        text-align: right;\n",
       "    }\n",
       "</style>\n",
       "<table border=\"1\" class=\"dataframe\">\n",
       "  <thead>\n",
       "    <tr style=\"text-align: right;\">\n",
       "      <th></th>\n",
       "      <th>id</th>\n",
       "      <th>age</th>\n",
       "      <th>gender</th>\n",
       "      <th>height</th>\n",
       "      <th>weight</th>\n",
       "      <th>ap_hi</th>\n",
       "      <th>ap_lo</th>\n",
       "      <th>cholesterol</th>\n",
       "      <th>gluc</th>\n",
       "      <th>smoke</th>\n",
       "      <th>alco</th>\n",
       "      <th>active</th>\n",
       "    </tr>\n",
       "  </thead>\n",
       "  <tbody>\n",
       "    <tr>\n",
       "      <th>0</th>\n",
       "      <td>47997</td>\n",
       "      <td>20222</td>\n",
       "      <td>Men</td>\n",
       "      <td>156</td>\n",
       "      <td>57.0</td>\n",
       "      <td>110</td>\n",
       "      <td>70</td>\n",
       "      <td>Normal</td>\n",
       "      <td>Normal</td>\n",
       "      <td>0</td>\n",
       "      <td>1</td>\n",
       "      <td>0</td>\n",
       "    </tr>\n",
       "    <tr>\n",
       "      <th>1</th>\n",
       "      <td>15311</td>\n",
       "      <td>18079</td>\n",
       "      <td>Men</td>\n",
       "      <td>160</td>\n",
       "      <td>60.0</td>\n",
       "      <td>120</td>\n",
       "      <td>80</td>\n",
       "      <td>Normal</td>\n",
       "      <td>Normal</td>\n",
       "      <td>0</td>\n",
       "      <td>0</td>\n",
       "      <td>1</td>\n",
       "    </tr>\n",
       "    <tr>\n",
       "      <th>2</th>\n",
       "      <td>44269</td>\n",
       "      <td>20279</td>\n",
       "      <td>Women</td>\n",
       "      <td>170</td>\n",
       "      <td>80.0</td>\n",
       "      <td>140</td>\n",
       "      <td>69</td>\n",
       "      <td>Normal</td>\n",
       "      <td>Normal</td>\n",
       "      <td>0</td>\n",
       "      <td>0</td>\n",
       "      <td>1</td>\n",
       "    </tr>\n",
       "    <tr>\n",
       "      <th>3</th>\n",
       "      <td>91373</td>\n",
       "      <td>23227</td>\n",
       "      <td>Men</td>\n",
       "      <td>158</td>\n",
       "      <td>80.0</td>\n",
       "      <td>160</td>\n",
       "      <td>90</td>\n",
       "      <td>High</td>\n",
       "      <td>Normal</td>\n",
       "      <td>0</td>\n",
       "      <td>0</td>\n",
       "      <td>1</td>\n",
       "    </tr>\n",
       "    <tr>\n",
       "      <th>4</th>\n",
       "      <td>9686</td>\n",
       "      <td>20461</td>\n",
       "      <td>Men</td>\n",
       "      <td>158</td>\n",
       "      <td>92.0</td>\n",
       "      <td>140</td>\n",
       "      <td>90</td>\n",
       "      <td>Normal</td>\n",
       "      <td>Above Normal</td>\n",
       "      <td>0</td>\n",
       "      <td>0</td>\n",
       "      <td>0</td>\n",
       "    </tr>\n",
       "    <tr>\n",
       "      <th>...</th>\n",
       "      <td>...</td>\n",
       "      <td>...</td>\n",
       "      <td>...</td>\n",
       "      <td>...</td>\n",
       "      <td>...</td>\n",
       "      <td>...</td>\n",
       "      <td>...</td>\n",
       "      <td>...</td>\n",
       "      <td>...</td>\n",
       "      <td>...</td>\n",
       "      <td>...</td>\n",
       "      <td>...</td>\n",
       "    </tr>\n",
       "    <tr>\n",
       "      <th>245</th>\n",
       "      <td>46137</td>\n",
       "      <td>19771</td>\n",
       "      <td>Men</td>\n",
       "      <td>162</td>\n",
       "      <td>64.0</td>\n",
       "      <td>110</td>\n",
       "      <td>70</td>\n",
       "      <td>Normal</td>\n",
       "      <td>Normal</td>\n",
       "      <td>0</td>\n",
       "      <td>0</td>\n",
       "      <td>1</td>\n",
       "    </tr>\n",
       "    <tr>\n",
       "      <th>246</th>\n",
       "      <td>58058</td>\n",
       "      <td>19499</td>\n",
       "      <td>Men</td>\n",
       "      <td>162</td>\n",
       "      <td>80.0</td>\n",
       "      <td>150</td>\n",
       "      <td>90</td>\n",
       "      <td>High</td>\n",
       "      <td>Normal</td>\n",
       "      <td>0</td>\n",
       "      <td>0</td>\n",
       "      <td>1</td>\n",
       "    </tr>\n",
       "    <tr>\n",
       "      <th>247</th>\n",
       "      <td>30608</td>\n",
       "      <td>18750</td>\n",
       "      <td>Men</td>\n",
       "      <td>170</td>\n",
       "      <td>62.0</td>\n",
       "      <td>120</td>\n",
       "      <td>60</td>\n",
       "      <td>Normal</td>\n",
       "      <td>Normal</td>\n",
       "      <td>0</td>\n",
       "      <td>0</td>\n",
       "      <td>1</td>\n",
       "    </tr>\n",
       "    <tr>\n",
       "      <th>248</th>\n",
       "      <td>83845</td>\n",
       "      <td>19706</td>\n",
       "      <td>Men</td>\n",
       "      <td>162</td>\n",
       "      <td>95.0</td>\n",
       "      <td>130</td>\n",
       "      <td>80</td>\n",
       "      <td>Normal</td>\n",
       "      <td>Normal</td>\n",
       "      <td>0</td>\n",
       "      <td>0</td>\n",
       "      <td>1</td>\n",
       "    </tr>\n",
       "    <tr>\n",
       "      <th>249</th>\n",
       "      <td>1285</td>\n",
       "      <td>19619</td>\n",
       "      <td>Men</td>\n",
       "      <td>153</td>\n",
       "      <td>75.0</td>\n",
       "      <td>140</td>\n",
       "      <td>80</td>\n",
       "      <td>Normal</td>\n",
       "      <td>Normal</td>\n",
       "      <td>0</td>\n",
       "      <td>0</td>\n",
       "      <td>1</td>\n",
       "    </tr>\n",
       "  </tbody>\n",
       "</table>\n",
       "<p>250 rows × 12 columns</p>\n",
       "</div>"
      ],
      "text/plain": [
       "        id    age gender  height  weight  ap_hi  ap_lo cholesterol  \\\n",
       "0    47997  20222    Men     156    57.0    110     70      Normal   \n",
       "1    15311  18079    Men     160    60.0    120     80      Normal   \n",
       "2    44269  20279  Women     170    80.0    140     69      Normal   \n",
       "3    91373  23227    Men     158    80.0    160     90        High   \n",
       "4     9686  20461    Men     158    92.0    140     90      Normal   \n",
       "..     ...    ...    ...     ...     ...    ...    ...         ...   \n",
       "245  46137  19771    Men     162    64.0    110     70      Normal   \n",
       "246  58058  19499    Men     162    80.0    150     90        High   \n",
       "247  30608  18750    Men     170    62.0    120     60      Normal   \n",
       "248  83845  19706    Men     162    95.0    130     80      Normal   \n",
       "249   1285  19619    Men     153    75.0    140     80      Normal   \n",
       "\n",
       "             gluc  smoke  alco  active  \n",
       "0          Normal      0     1       0  \n",
       "1          Normal      0     0       1  \n",
       "2          Normal      0     0       1  \n",
       "3          Normal      0     0       1  \n",
       "4    Above Normal      0     0       0  \n",
       "..            ...    ...   ...     ...  \n",
       "245        Normal      0     0       1  \n",
       "246        Normal      0     0       1  \n",
       "247        Normal      0     0       1  \n",
       "248        Normal      0     0       1  \n",
       "249        Normal      0     0       1  \n",
       "\n",
       "[250 rows x 12 columns]"
      ]
     },
     "execution_count": 43,
     "metadata": {},
     "output_type": "execute_result"
    }
   ],
   "source": [
    "DataTest"
   ]
  },
  {
   "cell_type": "code",
   "execution_count": 44,
   "id": "voluntary-scout",
   "metadata": {},
   "outputs": [],
   "source": [
    "dfTest = DataTest #we adjust the test data to conform to the standards of the training data\n",
    "dfTest.age = dfTest.age.div(365)\n",
    "#dfTest = dfTest.dropna()\n",
    "dfTest['gender']= LabelEncoder_X.fit_transform(dfTest['gender'])\n",
    "dfTest['cholesterol']= LabelEncoder_X.fit_transform(dfTest['cholesterol'])\n",
    "dfTest['gluc']= LabelEncoder_X.fit_transform(dfTest['gluc'])\n",
    "dfTest['age'].fillna(value=dfTest['age'].mean(), inplace=True)\n",
    "dfTest['height'].fillna(value=dfTest['height'].mean(), inplace=True)\n",
    "dfTest['weight'].fillna(value=dfTest['weight'].mean(), inplace=True)\n",
    "dfTest['ap_hi'].fillna(value=dfTest['ap_hi'].mean(), inplace=True)\n",
    "dfTest['ap_lo'].fillna(value=dfTest['ap_lo'].mean(), inplace=True)\n",
    "dfTest['smoke'].fillna(value=dfTest['smoke'].mean(), inplace=True)\n",
    "dfTest['alco'].fillna(value=dfTest['alco'].mean(), inplace=True)\n",
    "dfTest['active'].fillna(value=dfTest['active'].mean(), inplace=True)\n",
    "\n",
    "\n",
    "min_max_scaler = MinMaxScaler()\n",
    "dfTest[['id', 'age', 'gender', 'height', 'weight', 'ap_hi', 'ap_lo',\n",
    "       'cholesterol', 'gluc', 'smoke', 'alco', 'active']] = min_max_scaler.fit_transform(dfTest[['id', 'age', 'gender', 'height', 'weight', 'ap_hi', 'ap_lo',\n",
    "       'cholesterol', 'gluc', 'smoke', 'alco', 'active']])"
   ]
  },
  {
   "cell_type": "code",
   "execution_count": 45,
   "id": "awful-english",
   "metadata": {},
   "outputs": [
    {
     "data": {
      "text/html": [
       "<div>\n",
       "<style scoped>\n",
       "    .dataframe tbody tr th:only-of-type {\n",
       "        vertical-align: middle;\n",
       "    }\n",
       "\n",
       "    .dataframe tbody tr th {\n",
       "        vertical-align: top;\n",
       "    }\n",
       "\n",
       "    .dataframe thead th {\n",
       "        text-align: right;\n",
       "    }\n",
       "</style>\n",
       "<table border=\"1\" class=\"dataframe\">\n",
       "  <thead>\n",
       "    <tr style=\"text-align: right;\">\n",
       "      <th></th>\n",
       "      <th>id</th>\n",
       "      <th>age</th>\n",
       "      <th>gender</th>\n",
       "      <th>height</th>\n",
       "      <th>weight</th>\n",
       "      <th>ap_hi</th>\n",
       "      <th>ap_lo</th>\n",
       "      <th>cholesterol</th>\n",
       "      <th>gluc</th>\n",
       "      <th>smoke</th>\n",
       "      <th>alco</th>\n",
       "      <th>active</th>\n",
       "    </tr>\n",
       "  </thead>\n",
       "  <tbody>\n",
       "    <tr>\n",
       "      <th>0</th>\n",
       "      <td>0.482376</td>\n",
       "      <td>0.644653</td>\n",
       "      <td>0.0</td>\n",
       "      <td>0.275</td>\n",
       "      <td>0.1500</td>\n",
       "      <td>0.585799</td>\n",
       "      <td>0.001259</td>\n",
       "      <td>1.0</td>\n",
       "      <td>1.0</td>\n",
       "      <td>0.0</td>\n",
       "      <td>1.0</td>\n",
       "      <td>0.0</td>\n",
       "    </tr>\n",
       "    <tr>\n",
       "      <th>1</th>\n",
       "      <td>0.153768</td>\n",
       "      <td>0.410343</td>\n",
       "      <td>0.0</td>\n",
       "      <td>0.375</td>\n",
       "      <td>0.1875</td>\n",
       "      <td>0.644970</td>\n",
       "      <td>0.002519</td>\n",
       "      <td>1.0</td>\n",
       "      <td>1.0</td>\n",
       "      <td>0.0</td>\n",
       "      <td>0.0</td>\n",
       "      <td>1.0</td>\n",
       "    </tr>\n",
       "    <tr>\n",
       "      <th>2</th>\n",
       "      <td>0.444897</td>\n",
       "      <td>0.650886</td>\n",
       "      <td>1.0</td>\n",
       "      <td>0.625</td>\n",
       "      <td>0.4375</td>\n",
       "      <td>0.763314</td>\n",
       "      <td>0.001134</td>\n",
       "      <td>1.0</td>\n",
       "      <td>1.0</td>\n",
       "      <td>0.0</td>\n",
       "      <td>0.0</td>\n",
       "      <td>1.0</td>\n",
       "    </tr>\n",
       "    <tr>\n",
       "      <th>3</th>\n",
       "      <td>0.918456</td>\n",
       "      <td>0.973212</td>\n",
       "      <td>0.0</td>\n",
       "      <td>0.325</td>\n",
       "      <td>0.4375</td>\n",
       "      <td>0.881657</td>\n",
       "      <td>0.003778</td>\n",
       "      <td>0.5</td>\n",
       "      <td>1.0</td>\n",
       "      <td>0.0</td>\n",
       "      <td>0.0</td>\n",
       "      <td>1.0</td>\n",
       "    </tr>\n",
       "    <tr>\n",
       "      <th>4</th>\n",
       "      <td>0.097217</td>\n",
       "      <td>0.670785</td>\n",
       "      <td>0.0</td>\n",
       "      <td>0.325</td>\n",
       "      <td>0.5875</td>\n",
       "      <td>0.763314</td>\n",
       "      <td>0.003778</td>\n",
       "      <td>1.0</td>\n",
       "      <td>0.0</td>\n",
       "      <td>0.0</td>\n",
       "      <td>0.0</td>\n",
       "      <td>0.0</td>\n",
       "    </tr>\n",
       "    <tr>\n",
       "      <th>...</th>\n",
       "      <td>...</td>\n",
       "      <td>...</td>\n",
       "      <td>...</td>\n",
       "      <td>...</td>\n",
       "      <td>...</td>\n",
       "      <td>...</td>\n",
       "      <td>...</td>\n",
       "      <td>...</td>\n",
       "      <td>...</td>\n",
       "      <td>...</td>\n",
       "      <td>...</td>\n",
       "      <td>...</td>\n",
       "    </tr>\n",
       "    <tr>\n",
       "      <th>245</th>\n",
       "      <td>0.463677</td>\n",
       "      <td>0.595342</td>\n",
       "      <td>0.0</td>\n",
       "      <td>0.425</td>\n",
       "      <td>0.2375</td>\n",
       "      <td>0.585799</td>\n",
       "      <td>0.001259</td>\n",
       "      <td>1.0</td>\n",
       "      <td>1.0</td>\n",
       "      <td>0.0</td>\n",
       "      <td>0.0</td>\n",
       "      <td>1.0</td>\n",
       "    </tr>\n",
       "    <tr>\n",
       "      <th>246</th>\n",
       "      <td>0.583524</td>\n",
       "      <td>0.565602</td>\n",
       "      <td>0.0</td>\n",
       "      <td>0.425</td>\n",
       "      <td>0.4375</td>\n",
       "      <td>0.822485</td>\n",
       "      <td>0.003778</td>\n",
       "      <td>0.5</td>\n",
       "      <td>1.0</td>\n",
       "      <td>0.0</td>\n",
       "      <td>0.0</td>\n",
       "      <td>1.0</td>\n",
       "    </tr>\n",
       "    <tr>\n",
       "      <th>247</th>\n",
       "      <td>0.307556</td>\n",
       "      <td>0.483709</td>\n",
       "      <td>0.0</td>\n",
       "      <td>0.625</td>\n",
       "      <td>0.2125</td>\n",
       "      <td>0.644970</td>\n",
       "      <td>0.000000</td>\n",
       "      <td>1.0</td>\n",
       "      <td>1.0</td>\n",
       "      <td>0.0</td>\n",
       "      <td>0.0</td>\n",
       "      <td>1.0</td>\n",
       "    </tr>\n",
       "    <tr>\n",
       "      <th>248</th>\n",
       "      <td>0.842774</td>\n",
       "      <td>0.588235</td>\n",
       "      <td>0.0</td>\n",
       "      <td>0.425</td>\n",
       "      <td>0.6250</td>\n",
       "      <td>0.704142</td>\n",
       "      <td>0.002519</td>\n",
       "      <td>1.0</td>\n",
       "      <td>1.0</td>\n",
       "      <td>0.0</td>\n",
       "      <td>0.0</td>\n",
       "      <td>1.0</td>\n",
       "    </tr>\n",
       "    <tr>\n",
       "      <th>249</th>\n",
       "      <td>0.012758</td>\n",
       "      <td>0.578723</td>\n",
       "      <td>0.0</td>\n",
       "      <td>0.200</td>\n",
       "      <td>0.3750</td>\n",
       "      <td>0.763314</td>\n",
       "      <td>0.002519</td>\n",
       "      <td>1.0</td>\n",
       "      <td>1.0</td>\n",
       "      <td>0.0</td>\n",
       "      <td>0.0</td>\n",
       "      <td>1.0</td>\n",
       "    </tr>\n",
       "  </tbody>\n",
       "</table>\n",
       "<p>250 rows × 12 columns</p>\n",
       "</div>"
      ],
      "text/plain": [
       "           id       age  gender  height  weight     ap_hi     ap_lo  \\\n",
       "0    0.482376  0.644653     0.0   0.275  0.1500  0.585799  0.001259   \n",
       "1    0.153768  0.410343     0.0   0.375  0.1875  0.644970  0.002519   \n",
       "2    0.444897  0.650886     1.0   0.625  0.4375  0.763314  0.001134   \n",
       "3    0.918456  0.973212     0.0   0.325  0.4375  0.881657  0.003778   \n",
       "4    0.097217  0.670785     0.0   0.325  0.5875  0.763314  0.003778   \n",
       "..        ...       ...     ...     ...     ...       ...       ...   \n",
       "245  0.463677  0.595342     0.0   0.425  0.2375  0.585799  0.001259   \n",
       "246  0.583524  0.565602     0.0   0.425  0.4375  0.822485  0.003778   \n",
       "247  0.307556  0.483709     0.0   0.625  0.2125  0.644970  0.000000   \n",
       "248  0.842774  0.588235     0.0   0.425  0.6250  0.704142  0.002519   \n",
       "249  0.012758  0.578723     0.0   0.200  0.3750  0.763314  0.002519   \n",
       "\n",
       "     cholesterol  gluc  smoke  alco  active  \n",
       "0            1.0   1.0    0.0   1.0     0.0  \n",
       "1            1.0   1.0    0.0   0.0     1.0  \n",
       "2            1.0   1.0    0.0   0.0     1.0  \n",
       "3            0.5   1.0    0.0   0.0     1.0  \n",
       "4            1.0   0.0    0.0   0.0     0.0  \n",
       "..           ...   ...    ...   ...     ...  \n",
       "245          1.0   1.0    0.0   0.0     1.0  \n",
       "246          0.5   1.0    0.0   0.0     1.0  \n",
       "247          1.0   1.0    0.0   0.0     1.0  \n",
       "248          1.0   1.0    0.0   0.0     1.0  \n",
       "249          1.0   1.0    0.0   0.0     1.0  \n",
       "\n",
       "[250 rows x 12 columns]"
      ]
     },
     "execution_count": 45,
     "metadata": {},
     "output_type": "execute_result"
    }
   ],
   "source": [
    "dfTest"
   ]
  },
  {
   "cell_type": "code",
   "execution_count": 46,
   "id": "closed-caribbean",
   "metadata": {},
   "outputs": [],
   "source": [
    "dfTest = dfTest.drop(columns=['id'])"
   ]
  },
  {
   "cell_type": "code",
   "execution_count": 47,
   "id": "loose-italian",
   "metadata": {},
   "outputs": [
    {
     "data": {
      "text/html": [
       "<div>\n",
       "<style scoped>\n",
       "    .dataframe tbody tr th:only-of-type {\n",
       "        vertical-align: middle;\n",
       "    }\n",
       "\n",
       "    .dataframe tbody tr th {\n",
       "        vertical-align: top;\n",
       "    }\n",
       "\n",
       "    .dataframe thead th {\n",
       "        text-align: right;\n",
       "    }\n",
       "</style>\n",
       "<table border=\"1\" class=\"dataframe\">\n",
       "  <thead>\n",
       "    <tr style=\"text-align: right;\">\n",
       "      <th></th>\n",
       "      <th>age</th>\n",
       "      <th>gender</th>\n",
       "      <th>height</th>\n",
       "      <th>weight</th>\n",
       "      <th>ap_hi</th>\n",
       "      <th>ap_lo</th>\n",
       "      <th>cholesterol</th>\n",
       "      <th>gluc</th>\n",
       "      <th>smoke</th>\n",
       "      <th>alco</th>\n",
       "      <th>active</th>\n",
       "    </tr>\n",
       "  </thead>\n",
       "  <tbody>\n",
       "    <tr>\n",
       "      <th>0</th>\n",
       "      <td>0.644653</td>\n",
       "      <td>0.0</td>\n",
       "      <td>0.275</td>\n",
       "      <td>0.1500</td>\n",
       "      <td>0.585799</td>\n",
       "      <td>0.001259</td>\n",
       "      <td>1.0</td>\n",
       "      <td>1.0</td>\n",
       "      <td>0.0</td>\n",
       "      <td>1.0</td>\n",
       "      <td>0.0</td>\n",
       "    </tr>\n",
       "    <tr>\n",
       "      <th>1</th>\n",
       "      <td>0.410343</td>\n",
       "      <td>0.0</td>\n",
       "      <td>0.375</td>\n",
       "      <td>0.1875</td>\n",
       "      <td>0.644970</td>\n",
       "      <td>0.002519</td>\n",
       "      <td>1.0</td>\n",
       "      <td>1.0</td>\n",
       "      <td>0.0</td>\n",
       "      <td>0.0</td>\n",
       "      <td>1.0</td>\n",
       "    </tr>\n",
       "    <tr>\n",
       "      <th>2</th>\n",
       "      <td>0.650886</td>\n",
       "      <td>1.0</td>\n",
       "      <td>0.625</td>\n",
       "      <td>0.4375</td>\n",
       "      <td>0.763314</td>\n",
       "      <td>0.001134</td>\n",
       "      <td>1.0</td>\n",
       "      <td>1.0</td>\n",
       "      <td>0.0</td>\n",
       "      <td>0.0</td>\n",
       "      <td>1.0</td>\n",
       "    </tr>\n",
       "    <tr>\n",
       "      <th>3</th>\n",
       "      <td>0.973212</td>\n",
       "      <td>0.0</td>\n",
       "      <td>0.325</td>\n",
       "      <td>0.4375</td>\n",
       "      <td>0.881657</td>\n",
       "      <td>0.003778</td>\n",
       "      <td>0.5</td>\n",
       "      <td>1.0</td>\n",
       "      <td>0.0</td>\n",
       "      <td>0.0</td>\n",
       "      <td>1.0</td>\n",
       "    </tr>\n",
       "    <tr>\n",
       "      <th>4</th>\n",
       "      <td>0.670785</td>\n",
       "      <td>0.0</td>\n",
       "      <td>0.325</td>\n",
       "      <td>0.5875</td>\n",
       "      <td>0.763314</td>\n",
       "      <td>0.003778</td>\n",
       "      <td>1.0</td>\n",
       "      <td>0.0</td>\n",
       "      <td>0.0</td>\n",
       "      <td>0.0</td>\n",
       "      <td>0.0</td>\n",
       "    </tr>\n",
       "    <tr>\n",
       "      <th>...</th>\n",
       "      <td>...</td>\n",
       "      <td>...</td>\n",
       "      <td>...</td>\n",
       "      <td>...</td>\n",
       "      <td>...</td>\n",
       "      <td>...</td>\n",
       "      <td>...</td>\n",
       "      <td>...</td>\n",
       "      <td>...</td>\n",
       "      <td>...</td>\n",
       "      <td>...</td>\n",
       "    </tr>\n",
       "    <tr>\n",
       "      <th>245</th>\n",
       "      <td>0.595342</td>\n",
       "      <td>0.0</td>\n",
       "      <td>0.425</td>\n",
       "      <td>0.2375</td>\n",
       "      <td>0.585799</td>\n",
       "      <td>0.001259</td>\n",
       "      <td>1.0</td>\n",
       "      <td>1.0</td>\n",
       "      <td>0.0</td>\n",
       "      <td>0.0</td>\n",
       "      <td>1.0</td>\n",
       "    </tr>\n",
       "    <tr>\n",
       "      <th>246</th>\n",
       "      <td>0.565602</td>\n",
       "      <td>0.0</td>\n",
       "      <td>0.425</td>\n",
       "      <td>0.4375</td>\n",
       "      <td>0.822485</td>\n",
       "      <td>0.003778</td>\n",
       "      <td>0.5</td>\n",
       "      <td>1.0</td>\n",
       "      <td>0.0</td>\n",
       "      <td>0.0</td>\n",
       "      <td>1.0</td>\n",
       "    </tr>\n",
       "    <tr>\n",
       "      <th>247</th>\n",
       "      <td>0.483709</td>\n",
       "      <td>0.0</td>\n",
       "      <td>0.625</td>\n",
       "      <td>0.2125</td>\n",
       "      <td>0.644970</td>\n",
       "      <td>0.000000</td>\n",
       "      <td>1.0</td>\n",
       "      <td>1.0</td>\n",
       "      <td>0.0</td>\n",
       "      <td>0.0</td>\n",
       "      <td>1.0</td>\n",
       "    </tr>\n",
       "    <tr>\n",
       "      <th>248</th>\n",
       "      <td>0.588235</td>\n",
       "      <td>0.0</td>\n",
       "      <td>0.425</td>\n",
       "      <td>0.6250</td>\n",
       "      <td>0.704142</td>\n",
       "      <td>0.002519</td>\n",
       "      <td>1.0</td>\n",
       "      <td>1.0</td>\n",
       "      <td>0.0</td>\n",
       "      <td>0.0</td>\n",
       "      <td>1.0</td>\n",
       "    </tr>\n",
       "    <tr>\n",
       "      <th>249</th>\n",
       "      <td>0.578723</td>\n",
       "      <td>0.0</td>\n",
       "      <td>0.200</td>\n",
       "      <td>0.3750</td>\n",
       "      <td>0.763314</td>\n",
       "      <td>0.002519</td>\n",
       "      <td>1.0</td>\n",
       "      <td>1.0</td>\n",
       "      <td>0.0</td>\n",
       "      <td>0.0</td>\n",
       "      <td>1.0</td>\n",
       "    </tr>\n",
       "  </tbody>\n",
       "</table>\n",
       "<p>250 rows × 11 columns</p>\n",
       "</div>"
      ],
      "text/plain": [
       "          age  gender  height  weight     ap_hi     ap_lo  cholesterol  gluc  \\\n",
       "0    0.644653     0.0   0.275  0.1500  0.585799  0.001259          1.0   1.0   \n",
       "1    0.410343     0.0   0.375  0.1875  0.644970  0.002519          1.0   1.0   \n",
       "2    0.650886     1.0   0.625  0.4375  0.763314  0.001134          1.0   1.0   \n",
       "3    0.973212     0.0   0.325  0.4375  0.881657  0.003778          0.5   1.0   \n",
       "4    0.670785     0.0   0.325  0.5875  0.763314  0.003778          1.0   0.0   \n",
       "..        ...     ...     ...     ...       ...       ...          ...   ...   \n",
       "245  0.595342     0.0   0.425  0.2375  0.585799  0.001259          1.0   1.0   \n",
       "246  0.565602     0.0   0.425  0.4375  0.822485  0.003778          0.5   1.0   \n",
       "247  0.483709     0.0   0.625  0.2125  0.644970  0.000000          1.0   1.0   \n",
       "248  0.588235     0.0   0.425  0.6250  0.704142  0.002519          1.0   1.0   \n",
       "249  0.578723     0.0   0.200  0.3750  0.763314  0.002519          1.0   1.0   \n",
       "\n",
       "     smoke  alco  active  \n",
       "0      0.0   1.0     0.0  \n",
       "1      0.0   0.0     1.0  \n",
       "2      0.0   0.0     1.0  \n",
       "3      0.0   0.0     1.0  \n",
       "4      0.0   0.0     0.0  \n",
       "..     ...   ...     ...  \n",
       "245    0.0   0.0     1.0  \n",
       "246    0.0   0.0     1.0  \n",
       "247    0.0   0.0     1.0  \n",
       "248    0.0   0.0     1.0  \n",
       "249    0.0   0.0     1.0  \n",
       "\n",
       "[250 rows x 11 columns]"
      ]
     },
     "execution_count": 47,
     "metadata": {},
     "output_type": "execute_result"
    }
   ],
   "source": [
    "dfTest"
   ]
  },
  {
   "cell_type": "code",
   "execution_count": 48,
   "id": "regulated-certificate",
   "metadata": {},
   "outputs": [],
   "source": [
    "#Loading in sample data to produce RMSE score for submission file"
   ]
  },
  {
   "cell_type": "code",
   "execution_count": 49,
   "id": "electrical-injection",
   "metadata": {},
   "outputs": [],
   "source": [
    "sample = pd.read_csv(\"sample-submission.csv\")"
   ]
  },
  {
   "cell_type": "code",
   "execution_count": 50,
   "id": "martial-saudi",
   "metadata": {},
   "outputs": [],
   "source": [
    "sampleY = sample.iloc[:, [1]]"
   ]
  },
  {
   "cell_type": "markdown",
   "id": "historical-terminal",
   "metadata": {},
   "source": [
    "# l.Applying the regression models that you think is most suited for this problem."
   ]
  },
  {
   "cell_type": "code",
   "execution_count": 51,
   "id": "interstate-greensboro",
   "metadata": {},
   "outputs": [],
   "source": [
    "#first we train the model on the data set"
   ]
  },
  {
   "cell_type": "code",
   "execution_count": 52,
   "id": "improving-complaint",
   "metadata": {},
   "outputs": [
    {
     "data": {
      "text/plain": [
       "<AxesSubplot:>"
      ]
     },
     "execution_count": 52,
     "metadata": {},
     "output_type": "execute_result"
    },
    {
     "data": {
      "image/png": "[encoded data removed]",
      "text/plain": [
       "<Figure size 864x864 with 2 Axes>"
      ]
     },
     "metadata": {},
     "output_type": "display_data"
    }
   ],
   "source": [
    "sns.set(rc={'figure.figsize':(12,12)})\n",
    "corr_matrix = df.corr().round(2)\n",
    "sns.heatmap(data=corr_matrix, annot=True)"
   ]
  },
  {
   "cell_type": "code",
   "execution_count": 53,
   "id": "supported-dallas",
   "metadata": {},
   "outputs": [],
   "source": [
    "X = df.iloc[:, [1,5]] #age, ap_hi\n",
    "Y = df.iloc[:, 12]"
   ]
  },
  {
   "cell_type": "code",
   "execution_count": 54,
   "id": "taken-player",
   "metadata": {},
   "outputs": [
    {
     "data": {
      "text/html": [
       "<div>\n",
       "<style scoped>\n",
       "    .dataframe tbody tr th:only-of-type {\n",
       "        vertical-align: middle;\n",
       "    }\n",
       "\n",
       "    .dataframe tbody tr th {\n",
       "        vertical-align: top;\n",
       "    }\n",
       "\n",
       "    .dataframe thead th {\n",
       "        text-align: right;\n",
       "    }\n",
       "</style>\n",
       "<table border=\"1\" class=\"dataframe\">\n",
       "  <thead>\n",
       "    <tr style=\"text-align: right;\">\n",
       "      <th></th>\n",
       "      <th>age</th>\n",
       "      <th>ap_hi</th>\n",
       "    </tr>\n",
       "  </thead>\n",
       "  <tbody>\n",
       "    <tr>\n",
       "      <th>0</th>\n",
       "      <td>0.669004</td>\n",
       "      <td>0.606742</td>\n",
       "    </tr>\n",
       "    <tr>\n",
       "      <th>1</th>\n",
       "      <td>0.193225</td>\n",
       "      <td>0.550562</td>\n",
       "    </tr>\n",
       "    <tr>\n",
       "      <th>2</th>\n",
       "      <td>0.585500</td>\n",
       "      <td>0.606742</td>\n",
       "    </tr>\n",
       "    <tr>\n",
       "      <th>3</th>\n",
       "      <td>0.507174</td>\n",
       "      <td>0.648796</td>\n",
       "    </tr>\n",
       "    <tr>\n",
       "      <th>4</th>\n",
       "      <td>0.548756</td>\n",
       "      <td>0.648796</td>\n",
       "    </tr>\n",
       "    <tr>\n",
       "      <th>...</th>\n",
       "      <td>...</td>\n",
       "      <td>...</td>\n",
       "    </tr>\n",
       "    <tr>\n",
       "      <th>495</th>\n",
       "      <td>0.548756</td>\n",
       "      <td>0.719101</td>\n",
       "    </tr>\n",
       "    <tr>\n",
       "      <th>496</th>\n",
       "      <td>0.163664</td>\n",
       "      <td>0.438202</td>\n",
       "    </tr>\n",
       "    <tr>\n",
       "      <th>497</th>\n",
       "      <td>0.720250</td>\n",
       "      <td>0.648796</td>\n",
       "    </tr>\n",
       "    <tr>\n",
       "      <th>498</th>\n",
       "      <td>0.548756</td>\n",
       "      <td>0.606742</td>\n",
       "    </tr>\n",
       "    <tr>\n",
       "      <th>499</th>\n",
       "      <td>0.548756</td>\n",
       "      <td>0.550562</td>\n",
       "    </tr>\n",
       "  </tbody>\n",
       "</table>\n",
       "<p>1000 rows × 2 columns</p>\n",
       "</div>"
      ],
      "text/plain": [
       "          age     ap_hi\n",
       "0    0.669004  0.606742\n",
       "1    0.193225  0.550562\n",
       "2    0.585500  0.606742\n",
       "3    0.507174  0.648796\n",
       "4    0.548756  0.648796\n",
       "..        ...       ...\n",
       "495  0.548756  0.719101\n",
       "496  0.163664  0.438202\n",
       "497  0.720250  0.648796\n",
       "498  0.548756  0.606742\n",
       "499  0.548756  0.550562\n",
       "\n",
       "[1000 rows x 2 columns]"
      ]
     },
     "execution_count": 54,
     "metadata": {},
     "output_type": "execute_result"
    }
   ],
   "source": [
    "X"
   ]
  },
  {
   "cell_type": "code",
   "execution_count": 55,
   "id": "medieval-zimbabwe",
   "metadata": {},
   "outputs": [
    {
     "name": "stdout",
     "output_type": "stream",
     "text": [
      "(900, 2)\n",
      "(100, 2)\n",
      "(900,)\n",
      "(100,)\n"
     ]
    }
   ],
   "source": [
    "X_train, X_test, Y_train, Y_test = train_test_split(X, Y, test_size = 0.1, random_state =5)\n",
    "print(X_train.shape)\n",
    "print(X_test.shape)\n",
    "print(Y_train.shape)\n",
    "print(Y_test.shape)"
   ]
  },
  {
   "cell_type": "markdown",
   "id": "major-rebound",
   "metadata": {},
   "source": [
    "# LogisticRegression"
   ]
  },
  {
   "cell_type": "code",
   "execution_count": 56,
   "id": "chubby-advertising",
   "metadata": {},
   "outputs": [
    {
     "data": {
      "text/plain": [
       "LogisticRegression(max_iter=1000)"
      ]
     },
     "execution_count": 56,
     "metadata": {},
     "output_type": "execute_result"
    }
   ],
   "source": [
    "model = LogisticRegression(max_iter=1000)\n",
    "model.fit(X_train, Y_train)"
   ]
  },
  {
   "cell_type": "code",
   "execution_count": 57,
   "id": "advance-soccer",
   "metadata": {},
   "outputs": [
    {
     "data": {
      "text/plain": [
       "106    1.0\n",
       "37     0.0\n",
       "201    1.0\n",
       "198    1.0\n",
       "370    1.0\n",
       "      ... \n",
       "400    0.0\n",
       "118    0.0\n",
       "201    1.0\n",
       "206    0.0\n",
       "367    1.0\n",
       "Name: cardio, Length: 900, dtype: float64"
      ]
     },
     "execution_count": 57,
     "metadata": {},
     "output_type": "execute_result"
    }
   ],
   "source": [
    "Y_train"
   ]
  },
  {
   "cell_type": "code",
   "execution_count": 58,
   "id": "emotional-cooperative",
   "metadata": {},
   "outputs": [
    {
     "name": "stdout",
     "output_type": "stream",
     "text": [
      "[1. 1. 1. 1. 0. 0. 1. 1. 0. 1. 0. 0. 0. 0. 0. 0. 1. 1. 0. 0. 1. 0. 0. 0.\n",
      " 0. 1. 0. 0. 0. 0. 0. 0. 0. 1. 0. 1. 0. 0. 0. 0. 1. 1. 0. 1. 0. 1. 1. 0.\n",
      " 0. 1. 0. 0. 0. 0. 0. 0. 0. 1. 0. 0. 0. 0. 1. 0. 1. 1. 1. 1. 0. 1. 1. 1.\n",
      " 1. 0. 1. 0. 1. 0. 1. 1. 0. 0. 0. 1. 0. 1. 1. 0. 0. 1. 1. 0. 0. 0. 0. 0.\n",
      " 1. 0. 1. 0.]\n"
     ]
    }
   ],
   "source": [
    "predictions = model.predict(X_test)\n",
    "print(predictions)"
   ]
  },
  {
   "cell_type": "code",
   "execution_count": 59,
   "id": "historic-german",
   "metadata": {},
   "outputs": [],
   "source": [
    "rmse = (np.sqrt(mean_squared_error(Y_test, predictions)))"
   ]
  },
  {
   "cell_type": "code",
   "execution_count": 60,
   "id": "discrete-vertex",
   "metadata": {},
   "outputs": [
    {
     "data": {
      "text/plain": [
       "0.5"
      ]
     },
     "execution_count": 60,
     "metadata": {},
     "output_type": "execute_result"
    }
   ],
   "source": [
    "rmse"
   ]
  },
  {
   "cell_type": "code",
   "execution_count": 61,
   "id": "answering-carroll",
   "metadata": {},
   "outputs": [
    {
     "name": "stdout",
     "output_type": "stream",
     "text": [
      "0.75\n"
     ]
    }
   ],
   "source": [
    "print(accuracy_score(Y_test, predictions))"
   ]
  },
  {
   "cell_type": "code",
   "execution_count": 62,
   "id": "elegant-refrigerator",
   "metadata": {},
   "outputs": [],
   "source": [
    "#testing the model on the test set"
   ]
  },
  {
   "cell_type": "code",
   "execution_count": 63,
   "id": "overhead-profession",
   "metadata": {},
   "outputs": [],
   "source": [
    "dfTestX = dfTest.iloc[:, [0,4]] #set asside the correct features for testing age and ap_hi"
   ]
  },
  {
   "cell_type": "code",
   "execution_count": 64,
   "id": "defined-sodium",
   "metadata": {},
   "outputs": [
    {
     "data": {
      "text/plain": [
       "array([0., 0., 1., 1., 1., 1., 1., 1., 1., 1., 1., 0., 0., 1., 1., 1., 1.,\n",
       "       0., 0., 0., 1., 1., 1., 1., 0., 1., 1., 0., 1., 1., 0., 0., 0., 1.,\n",
       "       1., 1., 1., 0., 0., 1., 1., 0., 1., 0., 1., 1., 0., 0., 1., 1., 0.,\n",
       "       0., 0., 1., 0., 0., 1., 0., 0., 1., 1., 0., 0., 1., 1., 0., 1., 1.,\n",
       "       1., 0., 1., 0., 1., 0., 1., 0., 1., 1., 1., 1., 0., 1., 0., 1., 1.,\n",
       "       1., 0., 1., 1., 0., 0., 1., 0., 1., 0., 1., 1., 1., 0., 1., 1., 0.,\n",
       "       0., 1., 1., 1., 1., 1., 1., 0., 1., 0., 1., 1., 0., 1., 0., 1., 0.,\n",
       "       1., 1., 1., 1., 1., 1., 0., 1., 1., 1., 1., 0., 0., 1., 1., 1., 1.,\n",
       "       1., 0., 1., 1., 1., 1., 0., 1., 0., 0., 1., 1., 1., 1., 1., 0., 0.,\n",
       "       1., 1., 1., 1., 1., 0., 1., 1., 1., 0., 1., 1., 1., 1., 0., 1., 1.,\n",
       "       1., 0., 0., 1., 1., 0., 1., 1., 1., 1., 1., 0., 0., 1., 0., 1., 1.,\n",
       "       1., 1., 0., 0., 1., 1., 1., 1., 1., 0., 1., 0., 1., 1., 0., 0., 0.,\n",
       "       1., 1., 1., 1., 0., 0., 1., 0., 0., 0., 1., 0., 1., 1., 1., 1., 0.,\n",
       "       0., 1., 1., 0., 0., 0., 1., 1., 1., 0., 0., 0., 0., 1., 1., 1., 1.,\n",
       "       1., 1., 1., 1., 1., 0., 1., 0., 1., 0., 1., 1.])"
      ]
     },
     "execution_count": 64,
     "metadata": {},
     "output_type": "execute_result"
    }
   ],
   "source": [
    "predictionsTest = model.predict(dfTestX)\n",
    "predictionsTest"
   ]
  },
  {
   "cell_type": "code",
   "execution_count": 65,
   "id": "collectible-shepherd",
   "metadata": {},
   "outputs": [],
   "source": [
    "rmse = (np.sqrt(mean_squared_error(sampleY, predictionsTest)))"
   ]
  },
  {
   "cell_type": "code",
   "execution_count": 66,
   "id": "occupational-bridge",
   "metadata": {},
   "outputs": [
    {
     "data": {
      "text/plain": [
       "0.6957010852370434"
      ]
     },
     "execution_count": 66,
     "metadata": {},
     "output_type": "execute_result"
    }
   ],
   "source": [
    "rmse"
   ]
  },
  {
   "cell_type": "code",
   "execution_count": 67,
   "id": "integrated-desktop",
   "metadata": {},
   "outputs": [],
   "source": [
    "#prep for submition\n",
    "tastOnePredictionsTest = predictionsTest\n",
    "prep = predictionsTest.astype(int)\n",
    "dfsub = pd.DataFrame(prep, columns =['cardio'])\n",
    "dfsub.insert(0, \"id\", sample.iloc[:, [0]], True)"
   ]
  },
  {
   "cell_type": "code",
   "execution_count": 68,
   "id": "under-bruce",
   "metadata": {},
   "outputs": [
    {
     "data": {
      "text/html": [
       "<div>\n",
       "<style scoped>\n",
       "    .dataframe tbody tr th:only-of-type {\n",
       "        vertical-align: middle;\n",
       "    }\n",
       "\n",
       "    .dataframe tbody tr th {\n",
       "        vertical-align: top;\n",
       "    }\n",
       "\n",
       "    .dataframe thead th {\n",
       "        text-align: right;\n",
       "    }\n",
       "</style>\n",
       "<table border=\"1\" class=\"dataframe\">\n",
       "  <thead>\n",
       "    <tr style=\"text-align: right;\">\n",
       "      <th></th>\n",
       "      <th>id</th>\n",
       "      <th>cardio</th>\n",
       "    </tr>\n",
       "  </thead>\n",
       "  <tbody>\n",
       "    <tr>\n",
       "      <th>0</th>\n",
       "      <td>47997</td>\n",
       "      <td>0</td>\n",
       "    </tr>\n",
       "    <tr>\n",
       "      <th>1</th>\n",
       "      <td>15311</td>\n",
       "      <td>0</td>\n",
       "    </tr>\n",
       "    <tr>\n",
       "      <th>2</th>\n",
       "      <td>44269</td>\n",
       "      <td>1</td>\n",
       "    </tr>\n",
       "    <tr>\n",
       "      <th>3</th>\n",
       "      <td>91373</td>\n",
       "      <td>1</td>\n",
       "    </tr>\n",
       "    <tr>\n",
       "      <th>4</th>\n",
       "      <td>9686</td>\n",
       "      <td>1</td>\n",
       "    </tr>\n",
       "    <tr>\n",
       "      <th>...</th>\n",
       "      <td>...</td>\n",
       "      <td>...</td>\n",
       "    </tr>\n",
       "    <tr>\n",
       "      <th>245</th>\n",
       "      <td>46137</td>\n",
       "      <td>0</td>\n",
       "    </tr>\n",
       "    <tr>\n",
       "      <th>246</th>\n",
       "      <td>58058</td>\n",
       "      <td>1</td>\n",
       "    </tr>\n",
       "    <tr>\n",
       "      <th>247</th>\n",
       "      <td>30608</td>\n",
       "      <td>0</td>\n",
       "    </tr>\n",
       "    <tr>\n",
       "      <th>248</th>\n",
       "      <td>83845</td>\n",
       "      <td>1</td>\n",
       "    </tr>\n",
       "    <tr>\n",
       "      <th>249</th>\n",
       "      <td>1285</td>\n",
       "      <td>1</td>\n",
       "    </tr>\n",
       "  </tbody>\n",
       "</table>\n",
       "<p>250 rows × 2 columns</p>\n",
       "</div>"
      ],
      "text/plain": [
       "        id  cardio\n",
       "0    47997       0\n",
       "1    15311       0\n",
       "2    44269       1\n",
       "3    91373       1\n",
       "4     9686       1\n",
       "..     ...     ...\n",
       "245  46137       0\n",
       "246  58058       1\n",
       "247  30608       0\n",
       "248  83845       1\n",
       "249   1285       1\n",
       "\n",
       "[250 rows x 2 columns]"
      ]
     },
     "execution_count": 68,
     "metadata": {},
     "output_type": "execute_result"
    }
   ],
   "source": [
    "dfsub #the submited data to keggle"
   ]
  },
  {
   "cell_type": "code",
   "execution_count": 69,
   "id": "thermal-foster",
   "metadata": {},
   "outputs": [
    {
     "name": "stdout",
     "output_type": "stream",
     "text": [
      "0.516\n"
     ]
    }
   ],
   "source": [
    "print(accuracy_score(sampleY, predictionsTest))"
   ]
  },
  {
   "cell_type": "markdown",
   "id": "restricted-anaheim",
   "metadata": {},
   "source": [
    "# knn"
   ]
  },
  {
   "cell_type": "code",
   "execution_count": 70,
   "id": "bronze-fitness",
   "metadata": {},
   "outputs": [
    {
     "data": {
      "text/plain": [
       "KNeighborsClassifier(n_neighbors=9)"
      ]
     },
     "execution_count": 70,
     "metadata": {},
     "output_type": "execute_result"
    }
   ],
   "source": [
    "knn = KNeighborsClassifier(n_neighbors=9)\n",
    "knn.fit(X_train, Y_train)"
   ]
  },
  {
   "cell_type": "code",
   "execution_count": 71,
   "id": "wooden-mapping",
   "metadata": {},
   "outputs": [],
   "source": [
    "predictionsTest=knn.predict(dfTestX)"
   ]
  },
  {
   "cell_type": "code",
   "execution_count": 72,
   "id": "single-native",
   "metadata": {},
   "outputs": [],
   "source": [
    "rmse = (np.sqrt(mean_squared_error(sampleY, predictionsTest)))"
   ]
  },
  {
   "cell_type": "code",
   "execution_count": 73,
   "id": "disabled-athletics",
   "metadata": {},
   "outputs": [
    {
     "data": {
      "text/plain": [
       "0.7155417527999327"
      ]
     },
     "execution_count": 73,
     "metadata": {},
     "output_type": "execute_result"
    }
   ],
   "source": [
    "rmse"
   ]
  },
  {
   "cell_type": "markdown",
   "id": "pediatric-bowling",
   "metadata": {},
   "source": [
    "# randomforest"
   ]
  },
  {
   "cell_type": "code",
   "execution_count": 74,
   "id": "cardiac-stack",
   "metadata": {},
   "outputs": [],
   "source": [
    "modelRF=RandomForestClassifier(min_samples_split=12,max_depth=10) \n"
   ]
  },
  {
   "cell_type": "code",
   "execution_count": 75,
   "id": "directed-solid",
   "metadata": {},
   "outputs": [
    {
     "data": {
      "text/plain": [
       "RandomForestClassifier(max_depth=10, min_samples_split=12)"
      ]
     },
     "execution_count": 75,
     "metadata": {},
     "output_type": "execute_result"
    }
   ],
   "source": [
    "modelRF.fit(X_train,Y_train)"
   ]
  },
  {
   "cell_type": "code",
   "execution_count": 76,
   "id": "swiss-operator",
   "metadata": {},
   "outputs": [],
   "source": [
    "predictionsTest=modelRF.predict(dfTestX)\n",
    "rmse = (np.sqrt(mean_squared_error(sampleY, predictionsTest)))"
   ]
  },
  {
   "cell_type": "code",
   "execution_count": 77,
   "id": "threaded-consortium",
   "metadata": {},
   "outputs": [
    {
     "data": {
      "text/plain": [
       "array([0., 0., 1., 1., 1., 1., 0., 1., 0., 1., 1., 0., 0., 0., 1., 1., 1.,\n",
       "       1., 0., 0., 1., 0., 1., 0., 0., 1., 1., 0., 1., 1., 0., 0., 0., 1.,\n",
       "       0., 1., 1., 0., 0., 1., 1., 0., 0., 0., 1., 0., 0., 1., 1., 1., 0.,\n",
       "       0., 0., 1., 0., 1., 1., 1., 0., 1., 0., 0., 0., 1., 1., 0., 1., 0.,\n",
       "       1., 0., 1., 1., 1., 0., 1., 0., 1., 0., 1., 1., 0., 0., 0., 1., 0.,\n",
       "       1., 0., 1., 1., 0., 0., 1., 0., 1., 0., 1., 1., 1., 0., 0., 1., 0.,\n",
       "       1., 1., 1., 1., 0., 1., 0., 0., 0., 0., 0., 0., 0., 1., 0., 1., 0.,\n",
       "       0., 1., 1., 0., 1., 1., 0., 1., 1., 1., 1., 0., 0., 1., 1., 1., 0.,\n",
       "       0., 0., 0., 1., 0., 0., 0., 1., 0., 0., 0., 1., 1., 1., 1., 0., 0.,\n",
       "       0., 1., 1., 0., 0., 0., 1., 1., 0., 0., 0., 1., 1., 1., 0., 0., 1.,\n",
       "       1., 0., 0., 1., 0., 0., 1., 1., 1., 1., 1., 0., 0., 0., 0., 1., 1.,\n",
       "       1., 0., 0., 0., 1., 1., 1., 0., 0., 0., 0., 0., 1., 1., 0., 0., 0.,\n",
       "       0., 1., 0., 1., 0., 0., 1., 1., 0., 0., 0., 0., 1., 1., 1., 1., 0.,\n",
       "       0., 1., 0., 0., 0., 0., 1., 1., 1., 1., 1., 0., 0., 1., 0., 1., 1.,\n",
       "       1., 1., 1., 0., 0., 0., 0., 0., 1., 0., 1., 1.])"
      ]
     },
     "execution_count": 77,
     "metadata": {},
     "output_type": "execute_result"
    }
   ],
   "source": [
    "predictionsTest"
   ]
  },
  {
   "cell_type": "code",
   "execution_count": 78,
   "id": "parallel-maria",
   "metadata": {},
   "outputs": [
    {
     "data": {
      "text/plain": [
       "0.7014271166700072"
      ]
     },
     "execution_count": 78,
     "metadata": {},
     "output_type": "execute_result"
    }
   ],
   "source": [
    "rmse"
   ]
  },
  {
   "cell_type": "code",
   "execution_count": 79,
   "id": "funky-ratio",
   "metadata": {},
   "outputs": [],
   "source": [
    "#here we train a new model only this time on all parameters"
   ]
  },
  {
   "cell_type": "code",
   "execution_count": 80,
   "id": "removed-livestock",
   "metadata": {},
   "outputs": [],
   "source": [
    "X = df.iloc[:, 1:12]\n",
    "Y = df.iloc[:, 12]"
   ]
  },
  {
   "cell_type": "code",
   "execution_count": 81,
   "id": "running-adapter",
   "metadata": {},
   "outputs": [
    {
     "data": {
      "text/html": [
       "<div>\n",
       "<style scoped>\n",
       "    .dataframe tbody tr th:only-of-type {\n",
       "        vertical-align: middle;\n",
       "    }\n",
       "\n",
       "    .dataframe tbody tr th {\n",
       "        vertical-align: top;\n",
       "    }\n",
       "\n",
       "    .dataframe thead th {\n",
       "        text-align: right;\n",
       "    }\n",
       "</style>\n",
       "<table border=\"1\" class=\"dataframe\">\n",
       "  <thead>\n",
       "    <tr style=\"text-align: right;\">\n",
       "      <th></th>\n",
       "      <th>age</th>\n",
       "      <th>gender</th>\n",
       "      <th>height</th>\n",
       "      <th>weight</th>\n",
       "      <th>ap_hi</th>\n",
       "      <th>ap_lo</th>\n",
       "      <th>cholesterol</th>\n",
       "      <th>gluc</th>\n",
       "      <th>smoke</th>\n",
       "      <th>alco</th>\n",
       "      <th>active</th>\n",
       "    </tr>\n",
       "  </thead>\n",
       "  <tbody>\n",
       "    <tr>\n",
       "      <th>0</th>\n",
       "      <td>0.669004</td>\n",
       "      <td>1.0</td>\n",
       "      <td>0.605634</td>\n",
       "      <td>0.304348</td>\n",
       "      <td>0.606742</td>\n",
       "      <td>0.069224</td>\n",
       "      <td>1.000000</td>\n",
       "      <td>0.666667</td>\n",
       "      <td>0.0</td>\n",
       "      <td>0.000000</td>\n",
       "      <td>1.00000</td>\n",
       "    </tr>\n",
       "    <tr>\n",
       "      <th>1</th>\n",
       "      <td>0.193225</td>\n",
       "      <td>0.0</td>\n",
       "      <td>0.676056</td>\n",
       "      <td>0.243478</td>\n",
       "      <td>0.550562</td>\n",
       "      <td>0.046296</td>\n",
       "      <td>1.000000</td>\n",
       "      <td>1.000000</td>\n",
       "      <td>0.0</td>\n",
       "      <td>0.000000</td>\n",
       "      <td>0.80504</td>\n",
       "    </tr>\n",
       "    <tr>\n",
       "      <th>2</th>\n",
       "      <td>0.585500</td>\n",
       "      <td>1.0</td>\n",
       "      <td>0.704225</td>\n",
       "      <td>0.304348</td>\n",
       "      <td>0.606742</td>\n",
       "      <td>0.069224</td>\n",
       "      <td>1.000000</td>\n",
       "      <td>0.666667</td>\n",
       "      <td>0.0</td>\n",
       "      <td>0.000000</td>\n",
       "      <td>1.00000</td>\n",
       "    </tr>\n",
       "    <tr>\n",
       "      <th>3</th>\n",
       "      <td>0.507174</td>\n",
       "      <td>0.0</td>\n",
       "      <td>0.625482</td>\n",
       "      <td>0.426087</td>\n",
       "      <td>0.648796</td>\n",
       "      <td>0.055556</td>\n",
       "      <td>0.666667</td>\n",
       "      <td>1.000000</td>\n",
       "      <td>0.0</td>\n",
       "      <td>0.049248</td>\n",
       "      <td>0.80504</td>\n",
       "    </tr>\n",
       "    <tr>\n",
       "      <th>4</th>\n",
       "      <td>0.548756</td>\n",
       "      <td>1.0</td>\n",
       "      <td>0.535211</td>\n",
       "      <td>0.295652</td>\n",
       "      <td>0.648796</td>\n",
       "      <td>0.067593</td>\n",
       "      <td>0.333333</td>\n",
       "      <td>1.000000</td>\n",
       "      <td>0.0</td>\n",
       "      <td>1.000000</td>\n",
       "      <td>1.00000</td>\n",
       "    </tr>\n",
       "    <tr>\n",
       "      <th>...</th>\n",
       "      <td>...</td>\n",
       "      <td>...</td>\n",
       "      <td>...</td>\n",
       "      <td>...</td>\n",
       "      <td>...</td>\n",
       "      <td>...</td>\n",
       "      <td>...</td>\n",
       "      <td>...</td>\n",
       "      <td>...</td>\n",
       "      <td>...</td>\n",
       "      <td>...</td>\n",
       "    </tr>\n",
       "    <tr>\n",
       "      <th>495</th>\n",
       "      <td>0.548756</td>\n",
       "      <td>0.0</td>\n",
       "      <td>0.619718</td>\n",
       "      <td>0.278261</td>\n",
       "      <td>0.719101</td>\n",
       "      <td>0.055556</td>\n",
       "      <td>0.666667</td>\n",
       "      <td>0.666667</td>\n",
       "      <td>0.0</td>\n",
       "      <td>0.049248</td>\n",
       "      <td>0.80504</td>\n",
       "    </tr>\n",
       "    <tr>\n",
       "      <th>496</th>\n",
       "      <td>0.163664</td>\n",
       "      <td>0.0</td>\n",
       "      <td>0.549296</td>\n",
       "      <td>0.296008</td>\n",
       "      <td>0.438202</td>\n",
       "      <td>0.037037</td>\n",
       "      <td>1.000000</td>\n",
       "      <td>0.666667</td>\n",
       "      <td>0.0</td>\n",
       "      <td>0.000000</td>\n",
       "      <td>1.00000</td>\n",
       "    </tr>\n",
       "    <tr>\n",
       "      <th>497</th>\n",
       "      <td>0.720250</td>\n",
       "      <td>0.0</td>\n",
       "      <td>0.676056</td>\n",
       "      <td>0.296008</td>\n",
       "      <td>0.648796</td>\n",
       "      <td>0.064815</td>\n",
       "      <td>0.666667</td>\n",
       "      <td>0.666667</td>\n",
       "      <td>0.0</td>\n",
       "      <td>0.049248</td>\n",
       "      <td>1.00000</td>\n",
       "    </tr>\n",
       "    <tr>\n",
       "      <th>498</th>\n",
       "      <td>0.548756</td>\n",
       "      <td>0.5</td>\n",
       "      <td>0.704225</td>\n",
       "      <td>0.408696</td>\n",
       "      <td>0.606742</td>\n",
       "      <td>0.069224</td>\n",
       "      <td>0.666667</td>\n",
       "      <td>1.000000</td>\n",
       "      <td>0.0</td>\n",
       "      <td>0.000000</td>\n",
       "      <td>0.80504</td>\n",
       "    </tr>\n",
       "    <tr>\n",
       "      <th>499</th>\n",
       "      <td>0.548756</td>\n",
       "      <td>0.5</td>\n",
       "      <td>0.253521</td>\n",
       "      <td>0.173913</td>\n",
       "      <td>0.550562</td>\n",
       "      <td>0.055556</td>\n",
       "      <td>1.000000</td>\n",
       "      <td>0.666667</td>\n",
       "      <td>0.0</td>\n",
       "      <td>0.000000</td>\n",
       "      <td>0.00000</td>\n",
       "    </tr>\n",
       "  </tbody>\n",
       "</table>\n",
       "<p>1000 rows × 11 columns</p>\n",
       "</div>"
      ],
      "text/plain": [
       "          age  gender    height    weight     ap_hi     ap_lo  cholesterol  \\\n",
       "0    0.669004     1.0  0.605634  0.304348  0.606742  0.069224     1.000000   \n",
       "1    0.193225     0.0  0.676056  0.243478  0.550562  0.046296     1.000000   \n",
       "2    0.585500     1.0  0.704225  0.304348  0.606742  0.069224     1.000000   \n",
       "3    0.507174     0.0  0.625482  0.426087  0.648796  0.055556     0.666667   \n",
       "4    0.548756     1.0  0.535211  0.295652  0.648796  0.067593     0.333333   \n",
       "..        ...     ...       ...       ...       ...       ...          ...   \n",
       "495  0.548756     0.0  0.619718  0.278261  0.719101  0.055556     0.666667   \n",
       "496  0.163664     0.0  0.549296  0.296008  0.438202  0.037037     1.000000   \n",
       "497  0.720250     0.0  0.676056  0.296008  0.648796  0.064815     0.666667   \n",
       "498  0.548756     0.5  0.704225  0.408696  0.606742  0.069224     0.666667   \n",
       "499  0.548756     0.5  0.253521  0.173913  0.550562  0.055556     1.000000   \n",
       "\n",
       "         gluc  smoke      alco   active  \n",
       "0    0.666667    0.0  0.000000  1.00000  \n",
       "1    1.000000    0.0  0.000000  0.80504  \n",
       "2    0.666667    0.0  0.000000  1.00000  \n",
       "3    1.000000    0.0  0.049248  0.80504  \n",
       "4    1.000000    0.0  1.000000  1.00000  \n",
       "..        ...    ...       ...      ...  \n",
       "495  0.666667    0.0  0.049248  0.80504  \n",
       "496  0.666667    0.0  0.000000  1.00000  \n",
       "497  0.666667    0.0  0.049248  1.00000  \n",
       "498  1.000000    0.0  0.000000  0.80504  \n",
       "499  0.666667    0.0  0.000000  0.00000  \n",
       "\n",
       "[1000 rows x 11 columns]"
      ]
     },
     "execution_count": 81,
     "metadata": {},
     "output_type": "execute_result"
    }
   ],
   "source": [
    "X"
   ]
  },
  {
   "cell_type": "code",
   "execution_count": 82,
   "id": "featured-harvard",
   "metadata": {},
   "outputs": [
    {
     "name": "stdout",
     "output_type": "stream",
     "text": [
      "(900, 11)\n",
      "(100, 11)\n",
      "(900,)\n",
      "(100,)\n"
     ]
    }
   ],
   "source": [
    "X_train, X_test, Y_train, Y_test = train_test_split(X, Y, test_size = 0.1, random_state =5)\n",
    "print(X_train.shape)\n",
    "print(X_test.shape)\n",
    "print(Y_train.shape)\n",
    "print(Y_test.shape)"
   ]
  },
  {
   "cell_type": "code",
   "execution_count": 83,
   "id": "optional-yellow",
   "metadata": {},
   "outputs": [
    {
     "data": {
      "text/plain": [
       "LogisticRegression(max_iter=1000)"
      ]
     },
     "execution_count": 83,
     "metadata": {},
     "output_type": "execute_result"
    }
   ],
   "source": [
    "model = LogisticRegression(max_iter=1000)\n",
    "model.fit(X_train, Y_train)"
   ]
  },
  {
   "cell_type": "code",
   "execution_count": 84,
   "id": "noted-thesaurus",
   "metadata": {},
   "outputs": [
    {
     "name": "stdout",
     "output_type": "stream",
     "text": [
      "[1. 1. 1. 1. 0. 0. 1. 1. 0. 1. 0. 0. 0. 0. 1. 0. 1. 0. 0. 0. 1. 0. 0. 0.\n",
      " 0. 1. 0. 0. 0. 0. 0. 0. 0. 1. 0. 1. 0. 0. 0. 0. 1. 1. 0. 1. 0. 1. 1. 0.\n",
      " 0. 1. 0. 0. 0. 0. 0. 0. 0. 0. 0. 0. 0. 0. 1. 1. 1. 1. 1. 1. 0. 1. 1. 1.\n",
      " 1. 0. 0. 0. 1. 0. 1. 1. 0. 0. 0. 1. 0. 1. 1. 0. 1. 1. 1. 0. 0. 0. 0. 0.\n",
      " 1. 0. 0. 0.]\n"
     ]
    }
   ],
   "source": [
    "predictions = model.predict(X_test)\n",
    "print(predictions)"
   ]
  },
  {
   "cell_type": "code",
   "execution_count": 85,
   "id": "august-brass",
   "metadata": {},
   "outputs": [
    {
     "name": "stdout",
     "output_type": "stream",
     "text": [
      "0.74\n"
     ]
    }
   ],
   "source": [
    "print(accuracy_score(Y_test, predictions))"
   ]
  },
  {
   "cell_type": "code",
   "execution_count": 86,
   "id": "promising-message",
   "metadata": {},
   "outputs": [
    {
     "data": {
      "text/plain": [
       "array([1., 1., 1., 1., 0., 0., 1., 1., 0., 1., 0., 0., 0., 0., 1., 0., 1.,\n",
       "       0., 0., 0., 1., 0., 0., 0., 0., 1., 0., 0., 0., 0., 0., 0., 0., 1.,\n",
       "       0., 1., 0., 0., 0., 0., 1., 1., 0., 1., 0., 1., 1., 0., 0., 1., 0.,\n",
       "       0., 0., 0., 0., 0., 0., 0., 0., 0., 0., 0., 1., 1., 1., 1., 1., 1.,\n",
       "       0., 1., 1., 1., 1., 0., 0., 0., 1., 0., 1., 1., 0., 0., 0., 1., 0.,\n",
       "       1., 1., 0., 1., 1., 1., 0., 0., 0., 0., 0., 1., 0., 0., 0.])"
      ]
     },
     "execution_count": 86,
     "metadata": {},
     "output_type": "execute_result"
    }
   ],
   "source": [
    "predictions"
   ]
  },
  {
   "cell_type": "code",
   "execution_count": 87,
   "id": "married-endorsement",
   "metadata": {},
   "outputs": [],
   "source": [
    "rmse = (np.sqrt(mean_squared_error(Y_test, predictions)))"
   ]
  },
  {
   "cell_type": "code",
   "execution_count": 88,
   "id": "optical-mapping",
   "metadata": {},
   "outputs": [
    {
     "data": {
      "text/plain": [
       "0.5099019513592785"
      ]
     },
     "execution_count": 88,
     "metadata": {},
     "output_type": "execute_result"
    }
   ],
   "source": [
    "rmse"
   ]
  },
  {
   "cell_type": "code",
   "execution_count": 89,
   "id": "contemporary-obligation",
   "metadata": {},
   "outputs": [],
   "source": [
    "#Here we test the model with all the features of the cadio-test file"
   ]
  },
  {
   "cell_type": "code",
   "execution_count": 90,
   "id": "distinct-resort",
   "metadata": {},
   "outputs": [],
   "source": [
    "predictionsTest = model.predict(dfTest)"
   ]
  },
  {
   "cell_type": "code",
   "execution_count": 91,
   "id": "automated-republican",
   "metadata": {},
   "outputs": [
    {
     "data": {
      "text/plain": [
       "array([0., 0., 1., 1., 1., 1., 0., 1., 0., 1., 1., 0., 0., 0., 1., 0., 0.,\n",
       "       0., 0., 0., 1., 1., 1., 0., 0., 1., 1., 0., 1., 1., 0., 0., 0., 1.,\n",
       "       1., 0., 1., 0., 0., 1., 1., 0., 1., 0., 1., 0., 0., 0., 1., 1., 0.,\n",
       "       0., 0., 1., 0., 0., 1., 0., 0., 1., 0., 0., 0., 1., 1., 0., 1., 1.,\n",
       "       1., 0., 1., 0., 1., 0., 0., 0., 1., 0., 0., 1., 0., 1., 0., 1., 0.,\n",
       "       1., 0., 0., 1., 0., 0., 0., 0., 1., 0., 1., 1., 1., 0., 0., 1., 0.,\n",
       "       0., 1., 1., 1., 0., 1., 1., 0., 0., 0., 1., 1., 0., 1., 0., 1., 0.,\n",
       "       1., 1., 1., 0., 1., 1., 0., 1., 1., 0., 1., 0., 0., 0., 1., 1., 1.,\n",
       "       0., 0., 1., 1., 1., 0., 0., 1., 1., 0., 0., 1., 1., 1., 1., 0., 0.,\n",
       "       0., 1., 1., 1., 1., 0., 1., 1., 0., 0., 1., 1., 1., 0., 0., 1., 1.,\n",
       "       1., 0., 0., 1., 0., 0., 1., 1., 1., 1., 1., 0., 1., 0., 0., 1., 1.,\n",
       "       1., 1., 0., 0., 1., 1., 1., 1., 1., 0., 0., 0., 1., 1., 0., 0., 0.,\n",
       "       1., 1., 1., 1., 0., 0., 0., 1., 0., 0., 0., 0., 0., 0., 1., 1., 0.,\n",
       "       0., 1., 0., 0., 0., 0., 1., 1., 1., 0., 0., 0., 0., 1., 1., 1., 1.,\n",
       "       0., 1., 1., 0., 1., 0., 1., 0., 1., 0., 1., 1.])"
      ]
     },
     "execution_count": 91,
     "metadata": {},
     "output_type": "execute_result"
    }
   ],
   "source": [
    "predictionsTest"
   ]
  },
  {
   "cell_type": "code",
   "execution_count": 92,
   "id": "dimensional-thanks",
   "metadata": {},
   "outputs": [],
   "source": [
    "rmse = (np.sqrt(mean_squared_error(sampleY, predictionsTest)))"
   ]
  },
  {
   "cell_type": "code",
   "execution_count": 93,
   "id": "fifty-upper",
   "metadata": {},
   "outputs": [
    {
     "data": {
      "text/plain": [
       "0.7014271166700072"
      ]
     },
     "execution_count": 93,
     "metadata": {},
     "output_type": "execute_result"
    }
   ],
   "source": [
    "rmse"
   ]
  },
  {
   "cell_type": "code",
   "execution_count": 94,
   "id": "unauthorized-amount",
   "metadata": {},
   "outputs": [
    {
     "name": "stdout",
     "output_type": "stream",
     "text": [
      "0.508\n"
     ]
    }
   ],
   "source": [
    "print(accuracy_score(sampleY, predictionsTest))"
   ]
  },
  {
   "cell_type": "code",
   "execution_count": 95,
   "id": "statutory-mortality",
   "metadata": {},
   "outputs": [
    {
     "data": {
      "text/plain": [
       "KNeighborsClassifier(n_neighbors=50)"
      ]
     },
     "execution_count": 95,
     "metadata": {},
     "output_type": "execute_result"
    }
   ],
   "source": [
    "knn = KNeighborsClassifier(n_neighbors=50)\n",
    "knn.fit(X_train, Y_train)"
   ]
  },
  {
   "cell_type": "code",
   "execution_count": 96,
   "id": "ceramic-immunology",
   "metadata": {},
   "outputs": [],
   "source": [
    "predictionsTest=knn.predict(dfTest)"
   ]
  },
  {
   "cell_type": "code",
   "execution_count": 97,
   "id": "bored-telephone",
   "metadata": {},
   "outputs": [],
   "source": [
    "rmse = (np.sqrt(mean_squared_error(sampleY, predictionsTest)))"
   ]
  },
  {
   "cell_type": "code",
   "execution_count": 98,
   "id": "saving-groove",
   "metadata": {},
   "outputs": [
    {
     "data": {
      "text/plain": [
       "0.7071067811865476"
      ]
     },
     "execution_count": 98,
     "metadata": {},
     "output_type": "execute_result"
    }
   ],
   "source": [
    "rmse"
   ]
  },
  {
   "cell_type": "markdown",
   "id": "dangerous-gilbert",
   "metadata": {},
   "source": [
    "# m. At least one of the models used to compute should be your own implementation using NumPy."
   ]
  },
  {
   "cell_type": "code",
   "execution_count": 99,
   "id": "median-hands",
   "metadata": {},
   "outputs": [],
   "source": [
    "#seperating data\n",
    "X = df.iloc[:, [1,5]] #age, ap_hi\n",
    "Y = df.iloc[:, 12]"
   ]
  },
  {
   "cell_type": "code",
   "execution_count": 100,
   "id": "professional-cancer",
   "metadata": {},
   "outputs": [],
   "source": [
    "def cost_function(X, Y, B):\n",
    "    m = len(Y)\n",
    "    J = np.sum((X.dot(B) - Y) ** 2)/(2 * m)\n",
    "    return J"
   ]
  },
  {
   "cell_type": "code",
   "execution_count": 101,
   "id": "quarterly-server",
   "metadata": {},
   "outputs": [],
   "source": [
    "def batch_gradient_descent(X, Y, B, alpha, iterations):\n",
    "    cost_history = [0] * iterations\n",
    "    m = len(Y)\n",
    "\n",
    "    for iteration in range(iterations):\n",
    "    \n",
    "    #Hypothesis\n",
    "        h = X.dot(B)\n",
    "    #Hypothesis and Actual Y\n",
    "        loss = h - Y\n",
    "    #Gradient Calculation\n",
    "        gradient = X.T.dot(loss) / m\n",
    "    # Changing Values of B using Gradient\n",
    "        B = B - alpha * gradient\n",
    "    # New Cost Value\n",
    "        cost = cost_function(X, Y, B)\n",
    "        cost_history[iteration] = cost\n",
    "\n",
    "    return B, cost_history"
   ]
  },
  {
   "cell_type": "code",
   "execution_count": 102,
   "id": "driving-migration",
   "metadata": {},
   "outputs": [],
   "source": [
    "X_train, X_test, y_train, y_test = train_test_split(X, Y, test_size = 0.1, random_state =5)"
   ]
  },
  {
   "cell_type": "code",
   "execution_count": 103,
   "id": "adapted-pencil",
   "metadata": {},
   "outputs": [],
   "source": [
    "# Initial Coefficients\n",
    "B = np.zeros(X_train.shape[1])\n",
    "alpha = 0.003\n",
    "iter_ = 2000\n",
    "newB, cost_history = batch_gradient_descent(X_train, y_train, B, alpha, iter_)"
   ]
  },
  {
   "cell_type": "code",
   "execution_count": 104,
   "id": "removed-belgium",
   "metadata": {},
   "outputs": [],
   "source": [
    "def pred(x_test, newB):\n",
    "    return x_test.dot(newB)"
   ]
  },
  {
   "cell_type": "code",
   "execution_count": 105,
   "id": "brazilian-maria",
   "metadata": {},
   "outputs": [],
   "source": [
    "yPred = pred(dfTestX,newB)"
   ]
  },
  {
   "cell_type": "code",
   "execution_count": 106,
   "id": "grave-screen",
   "metadata": {},
   "outputs": [],
   "source": [
    "y = np.rint(yPred)"
   ]
  },
  {
   "cell_type": "code",
   "execution_count": 107,
   "id": "caroline-longitude",
   "metadata": {},
   "outputs": [
    {
     "data": {
      "text/plain": [
       "0.6870225614927067"
      ]
     },
     "execution_count": 107,
     "metadata": {},
     "output_type": "execute_result"
    }
   ],
   "source": [
    "rmse = (np.sqrt(mean_squared_error(sampleY, y)))\n",
    "rmse"
   ]
  },
  {
   "cell_type": "markdown",
   "id": "differential-thomas",
   "metadata": {},
   "source": [
    "# n. Upload your test data predictions to Kaggle competition in the correct submission format."
   ]
  },
  {
   "cell_type": "code",
   "execution_count": 108,
   "id": "solar-thirty",
   "metadata": {},
   "outputs": [],
   "source": [
    "dfsub.to_csv('submission.csv', sep=',', index=False)"
   ]
  },
  {
   "cell_type": "markdown",
   "id": "prompt-hungarian",
   "metadata": {},
   "source": [
    "# Task2(Usecardio-complete.csv.)\n",
    "1.Split the data set in train and test samples\n",
    "\n",
    "2.Applying the regression model that you think is most suited for this problem.\n",
    "\n",
    "3.Compare your prediction result with the first technique."
   ]
  },
  {
   "cell_type": "code",
   "execution_count": 109,
   "id": "external-prime",
   "metadata": {},
   "outputs": [],
   "source": [
    "CardioComplete = pd.read_csv(\"cardio-complete.csv\")"
   ]
  },
  {
   "cell_type": "code",
   "execution_count": 110,
   "id": "direct-bride",
   "metadata": {},
   "outputs": [
    {
     "data": {
      "text/html": [
       "<div>\n",
       "<style scoped>\n",
       "    .dataframe tbody tr th:only-of-type {\n",
       "        vertical-align: middle;\n",
       "    }\n",
       "\n",
       "    .dataframe tbody tr th {\n",
       "        vertical-align: top;\n",
       "    }\n",
       "\n",
       "    .dataframe thead th {\n",
       "        text-align: right;\n",
       "    }\n",
       "</style>\n",
       "<table border=\"1\" class=\"dataframe\">\n",
       "  <thead>\n",
       "    <tr style=\"text-align: right;\">\n",
       "      <th></th>\n",
       "      <th>id</th>\n",
       "      <th>age</th>\n",
       "      <th>gender</th>\n",
       "      <th>height</th>\n",
       "      <th>weight</th>\n",
       "      <th>ap_hi</th>\n",
       "      <th>ap_lo</th>\n",
       "      <th>cholesterol</th>\n",
       "      <th>gluc</th>\n",
       "      <th>smoke</th>\n",
       "      <th>alco</th>\n",
       "      <th>active</th>\n",
       "      <th>cardio</th>\n",
       "    </tr>\n",
       "  </thead>\n",
       "  <tbody>\n",
       "    <tr>\n",
       "      <th>0</th>\n",
       "      <td>66667</td>\n",
       "      <td>20252</td>\n",
       "      <td>Women</td>\n",
       "      <td>161</td>\n",
       "      <td>62.0</td>\n",
       "      <td>140</td>\n",
       "      <td>90</td>\n",
       "      <td>High</td>\n",
       "      <td>High</td>\n",
       "      <td>0</td>\n",
       "      <td>0</td>\n",
       "      <td>1</td>\n",
       "      <td>1</td>\n",
       "    </tr>\n",
       "    <tr>\n",
       "      <th>1</th>\n",
       "      <td>22956</td>\n",
       "      <td>21129</td>\n",
       "      <td>Men</td>\n",
       "      <td>166</td>\n",
       "      <td>66.0</td>\n",
       "      <td>125</td>\n",
       "      <td>70</td>\n",
       "      <td>Normal</td>\n",
       "      <td>Normal</td>\n",
       "      <td>1</td>\n",
       "      <td>0</td>\n",
       "      <td>1</td>\n",
       "      <td>0</td>\n",
       "    </tr>\n",
       "    <tr>\n",
       "      <th>2</th>\n",
       "      <td>40536</td>\n",
       "      <td>16602</td>\n",
       "      <td>Men</td>\n",
       "      <td>160</td>\n",
       "      <td>74.0</td>\n",
       "      <td>140</td>\n",
       "      <td>90</td>\n",
       "      <td>Normal</td>\n",
       "      <td>Normal</td>\n",
       "      <td>0</td>\n",
       "      <td>0</td>\n",
       "      <td>1</td>\n",
       "      <td>0</td>\n",
       "    </tr>\n",
       "    <tr>\n",
       "      <th>3</th>\n",
       "      <td>39712</td>\n",
       "      <td>15172</td>\n",
       "      <td>Men</td>\n",
       "      <td>167</td>\n",
       "      <td>77.0</td>\n",
       "      <td>120</td>\n",
       "      <td>80</td>\n",
       "      <td>Normal</td>\n",
       "      <td>Normal</td>\n",
       "      <td>0</td>\n",
       "      <td>0</td>\n",
       "      <td>1</td>\n",
       "      <td>0</td>\n",
       "    </tr>\n",
       "    <tr>\n",
       "      <th>4</th>\n",
       "      <td>82165</td>\n",
       "      <td>19858</td>\n",
       "      <td>Women</td>\n",
       "      <td>176</td>\n",
       "      <td>93.0</td>\n",
       "      <td>140</td>\n",
       "      <td>90</td>\n",
       "      <td>Above Normal</td>\n",
       "      <td>Normal</td>\n",
       "      <td>0</td>\n",
       "      <td>1</td>\n",
       "      <td>1</td>\n",
       "      <td>1</td>\n",
       "    </tr>\n",
       "    <tr>\n",
       "      <th>...</th>\n",
       "      <td>...</td>\n",
       "      <td>...</td>\n",
       "      <td>...</td>\n",
       "      <td>...</td>\n",
       "      <td>...</td>\n",
       "      <td>...</td>\n",
       "      <td>...</td>\n",
       "      <td>...</td>\n",
       "      <td>...</td>\n",
       "      <td>...</td>\n",
       "      <td>...</td>\n",
       "      <td>...</td>\n",
       "      <td>...</td>\n",
       "    </tr>\n",
       "    <tr>\n",
       "      <th>995</th>\n",
       "      <td>76265</td>\n",
       "      <td>18350</td>\n",
       "      <td>Men</td>\n",
       "      <td>152</td>\n",
       "      <td>61.0</td>\n",
       "      <td>114</td>\n",
       "      <td>69</td>\n",
       "      <td>Normal</td>\n",
       "      <td>Normal</td>\n",
       "      <td>0</td>\n",
       "      <td>0</td>\n",
       "      <td>1</td>\n",
       "      <td>0</td>\n",
       "    </tr>\n",
       "    <tr>\n",
       "      <th>996</th>\n",
       "      <td>69962</td>\n",
       "      <td>19774</td>\n",
       "      <td>Men</td>\n",
       "      <td>153</td>\n",
       "      <td>83.0</td>\n",
       "      <td>120</td>\n",
       "      <td>80</td>\n",
       "      <td>Normal</td>\n",
       "      <td>Normal</td>\n",
       "      <td>0</td>\n",
       "      <td>0</td>\n",
       "      <td>1</td>\n",
       "      <td>0</td>\n",
       "    </tr>\n",
       "    <tr>\n",
       "      <th>997</th>\n",
       "      <td>18316</td>\n",
       "      <td>22497</td>\n",
       "      <td>Women</td>\n",
       "      <td>161</td>\n",
       "      <td>75.0</td>\n",
       "      <td>130</td>\n",
       "      <td>90</td>\n",
       "      <td>Above Normal</td>\n",
       "      <td>Normal</td>\n",
       "      <td>1</td>\n",
       "      <td>1</td>\n",
       "      <td>1</td>\n",
       "      <td>1</td>\n",
       "    </tr>\n",
       "    <tr>\n",
       "      <th>998</th>\n",
       "      <td>19485</td>\n",
       "      <td>21043</td>\n",
       "      <td>Men</td>\n",
       "      <td>162</td>\n",
       "      <td>88.0</td>\n",
       "      <td>130</td>\n",
       "      <td>100</td>\n",
       "      <td>Above Normal</td>\n",
       "      <td>Normal</td>\n",
       "      <td>0</td>\n",
       "      <td>0</td>\n",
       "      <td>1</td>\n",
       "      <td>1</td>\n",
       "    </tr>\n",
       "    <tr>\n",
       "      <th>999</th>\n",
       "      <td>28090</td>\n",
       "      <td>14546</td>\n",
       "      <td>Men</td>\n",
       "      <td>120</td>\n",
       "      <td>80.0</td>\n",
       "      <td>120</td>\n",
       "      <td>80</td>\n",
       "      <td>Normal</td>\n",
       "      <td>Normal</td>\n",
       "      <td>0</td>\n",
       "      <td>0</td>\n",
       "      <td>0</td>\n",
       "      <td>1</td>\n",
       "    </tr>\n",
       "  </tbody>\n",
       "</table>\n",
       "<p>1000 rows × 13 columns</p>\n",
       "</div>"
      ],
      "text/plain": [
       "        id    age gender  height  weight  ap_hi  ap_lo   cholesterol    gluc  \\\n",
       "0    66667  20252  Women     161    62.0    140     90          High    High   \n",
       "1    22956  21129    Men     166    66.0    125     70        Normal  Normal   \n",
       "2    40536  16602    Men     160    74.0    140     90        Normal  Normal   \n",
       "3    39712  15172    Men     167    77.0    120     80        Normal  Normal   \n",
       "4    82165  19858  Women     176    93.0    140     90  Above Normal  Normal   \n",
       "..     ...    ...    ...     ...     ...    ...    ...           ...     ...   \n",
       "995  76265  18350    Men     152    61.0    114     69        Normal  Normal   \n",
       "996  69962  19774    Men     153    83.0    120     80        Normal  Normal   \n",
       "997  18316  22497  Women     161    75.0    130     90  Above Normal  Normal   \n",
       "998  19485  21043    Men     162    88.0    130    100  Above Normal  Normal   \n",
       "999  28090  14546    Men     120    80.0    120     80        Normal  Normal   \n",
       "\n",
       "     smoke  alco  active  cardio  \n",
       "0        0     0       1       1  \n",
       "1        1     0       1       0  \n",
       "2        0     0       1       0  \n",
       "3        0     0       1       0  \n",
       "4        0     1       1       1  \n",
       "..     ...   ...     ...     ...  \n",
       "995      0     0       1       0  \n",
       "996      0     0       1       0  \n",
       "997      1     1       1       1  \n",
       "998      0     0       1       1  \n",
       "999      0     0       0       1  \n",
       "\n",
       "[1000 rows x 13 columns]"
      ]
     },
     "execution_count": 110,
     "metadata": {},
     "output_type": "execute_result"
    }
   ],
   "source": [
    "CardioComplete\n"
   ]
  },
  {
   "cell_type": "code",
   "execution_count": 111,
   "id": "valuable-fifteen",
   "metadata": {},
   "outputs": [],
   "source": [
    "CardioComplete.age = CardioComplete.age.div(365)\n",
    "CardioComplete['gender']= LabelEncoder_X.fit_transform(CardioComplete['gender'])\n",
    "CardioComplete['cholesterol']= LabelEncoder_X.fit_transform(CardioComplete['cholesterol'])\n",
    "CardioComplete['gluc']= LabelEncoder_X.fit_transform(CardioComplete['gluc'])\n",
    "CardioComplete['age'].fillna(value=CardioComplete['age'].mean(), inplace=True)\n",
    "CardioComplete['height'].fillna(value=CardioComplete['height'].mean(), inplace=True)\n",
    "CardioComplete['weight'].fillna(value=CardioComplete['weight'].mean(), inplace=True)\n",
    "CardioComplete['ap_hi'].fillna(value=CardioComplete['ap_hi'].mean(), inplace=True)\n",
    "CardioComplete['ap_lo'].fillna(value=CardioComplete['ap_lo'].mean(), inplace=True)\n",
    "CardioComplete['smoke'].fillna(value=CardioComplete['smoke'].mean(), inplace=True)\n",
    "CardioComplete['alco'].fillna(value=CardioComplete['alco'].mean(), inplace=True)\n",
    "CardioComplete['active'].fillna(value=CardioComplete['active'].mean(), inplace=True)\n",
    "min_max_scaler = MinMaxScaler()\n",
    "CardioComplete[['id', 'age', 'gender', 'height', 'weight', 'ap_hi', 'ap_lo',\n",
    "       'cholesterol', 'gluc', 'smoke', 'alco', 'active']] = min_max_scaler.fit_transform(CardioComplete[['id', 'age', 'gender', 'height', 'weight', 'ap_hi', 'ap_lo',\n",
    "       'cholesterol', 'gluc', 'smoke', 'alco', 'active']])"
   ]
  },
  {
   "cell_type": "code",
   "execution_count": 112,
   "id": "operational-german",
   "metadata": {},
   "outputs": [],
   "source": [
    "X = CardioComplete.iloc[:, [1,5]]\n",
    "Y = CardioComplete.iloc[:, 12]"
   ]
  },
  {
   "cell_type": "code",
   "execution_count": 113,
   "id": "proud-villa",
   "metadata": {},
   "outputs": [
    {
     "name": "stdout",
     "output_type": "stream",
     "text": [
      "(900, 2)\n",
      "(100, 2)\n",
      "(900,)\n",
      "(100,)\n"
     ]
    }
   ],
   "source": [
    "X_train, X_test, Y_train, Y_test = train_test_split(X, Y, test_size = 0.1, random_state =5)\n",
    "print(X_train.shape)\n",
    "print(X_test.shape)\n",
    "print(Y_train.shape)\n",
    "print(Y_test.shape)"
   ]
  },
  {
   "cell_type": "code",
   "execution_count": 114,
   "id": "lucky-oliver",
   "metadata": {},
   "outputs": [
    {
     "data": {
      "text/html": [
       "<div>\n",
       "<style scoped>\n",
       "    .dataframe tbody tr th:only-of-type {\n",
       "        vertical-align: middle;\n",
       "    }\n",
       "\n",
       "    .dataframe tbody tr th {\n",
       "        vertical-align: top;\n",
       "    }\n",
       "\n",
       "    .dataframe thead th {\n",
       "        text-align: right;\n",
       "    }\n",
       "</style>\n",
       "<table border=\"1\" class=\"dataframe\">\n",
       "  <thead>\n",
       "    <tr style=\"text-align: right;\">\n",
       "      <th></th>\n",
       "      <th>age</th>\n",
       "      <th>ap_hi</th>\n",
       "    </tr>\n",
       "  </thead>\n",
       "  <tbody>\n",
       "    <tr>\n",
       "      <th>0</th>\n",
       "      <td>0.634518</td>\n",
       "      <td>0.639423</td>\n",
       "    </tr>\n",
       "    <tr>\n",
       "      <th>1</th>\n",
       "      <td>0.728708</td>\n",
       "      <td>0.567308</td>\n",
       "    </tr>\n",
       "    <tr>\n",
       "      <th>2</th>\n",
       "      <td>0.242509</td>\n",
       "      <td>0.639423</td>\n",
       "    </tr>\n",
       "    <tr>\n",
       "      <th>3</th>\n",
       "      <td>0.088927</td>\n",
       "      <td>0.543269</td>\n",
       "    </tr>\n",
       "    <tr>\n",
       "      <th>4</th>\n",
       "      <td>0.592203</td>\n",
       "      <td>0.639423</td>\n",
       "    </tr>\n",
       "    <tr>\n",
       "      <th>...</th>\n",
       "      <td>...</td>\n",
       "      <td>...</td>\n",
       "    </tr>\n",
       "    <tr>\n",
       "      <th>995</th>\n",
       "      <td>0.430244</td>\n",
       "      <td>0.514423</td>\n",
       "    </tr>\n",
       "    <tr>\n",
       "      <th>996</th>\n",
       "      <td>0.583181</td>\n",
       "      <td>0.543269</td>\n",
       "    </tr>\n",
       "    <tr>\n",
       "      <th>997</th>\n",
       "      <td>0.875631</td>\n",
       "      <td>0.591346</td>\n",
       "    </tr>\n",
       "    <tr>\n",
       "      <th>998</th>\n",
       "      <td>0.719472</td>\n",
       "      <td>0.591346</td>\n",
       "    </tr>\n",
       "    <tr>\n",
       "      <th>999</th>\n",
       "      <td>0.021695</td>\n",
       "      <td>0.543269</td>\n",
       "    </tr>\n",
       "  </tbody>\n",
       "</table>\n",
       "<p>1000 rows × 2 columns</p>\n",
       "</div>"
      ],
      "text/plain": [
       "          age     ap_hi\n",
       "0    0.634518  0.639423\n",
       "1    0.728708  0.567308\n",
       "2    0.242509  0.639423\n",
       "3    0.088927  0.543269\n",
       "4    0.592203  0.639423\n",
       "..        ...       ...\n",
       "995  0.430244  0.514423\n",
       "996  0.583181  0.543269\n",
       "997  0.875631  0.591346\n",
       "998  0.719472  0.591346\n",
       "999  0.021695  0.543269\n",
       "\n",
       "[1000 rows x 2 columns]"
      ]
     },
     "execution_count": 114,
     "metadata": {},
     "output_type": "execute_result"
    }
   ],
   "source": [
    "X"
   ]
  },
  {
   "cell_type": "code",
   "execution_count": 115,
   "id": "cutting-progress",
   "metadata": {},
   "outputs": [
    {
     "data": {
      "text/plain": [
       "0      1\n",
       "1      0\n",
       "2      0\n",
       "3      0\n",
       "4      1\n",
       "      ..\n",
       "995    0\n",
       "996    0\n",
       "997    1\n",
       "998    1\n",
       "999    1\n",
       "Name: cardio, Length: 1000, dtype: int64"
      ]
     },
     "execution_count": 115,
     "metadata": {},
     "output_type": "execute_result"
    }
   ],
   "source": [
    "Y"
   ]
  },
  {
   "cell_type": "code",
   "execution_count": 116,
   "id": "loose-chapel",
   "metadata": {},
   "outputs": [
    {
     "data": {
      "text/plain": [
       "LogisticRegression(max_iter=1000)"
      ]
     },
     "execution_count": 116,
     "metadata": {},
     "output_type": "execute_result"
    }
   ],
   "source": [
    "model = LogisticRegression(max_iter=1000)\n",
    "model.fit(X_train, Y_train)"
   ]
  },
  {
   "cell_type": "code",
   "execution_count": 117,
   "id": "dressed-headline",
   "metadata": {},
   "outputs": [
    {
     "name": "stdout",
     "output_type": "stream",
     "text": [
      "[1 0 1 1 0 1 1 1 1 0 0 1 0 0 0 0 1 0 1 0 0 0 0 0 1 1 0 1 1 1 1 1 0 1 0 0 1\n",
      " 1 1 0 0 0 0 0 0 1 0 1 1 0 1 0 1 0 0 0 0 1 0 0 1 1 0 1 0 0 1 1 1 1 1 1 0 0\n",
      " 0 1 0 1 1 1 1 0 1 0 0 0 1 0 0 1 1 0 1 1 0 0 1 1 0 0]\n"
     ]
    }
   ],
   "source": [
    "predictions = model.predict(X_test)\n",
    "print(predictions)"
   ]
  },
  {
   "cell_type": "code",
   "execution_count": 118,
   "id": "noted-status",
   "metadata": {},
   "outputs": [],
   "source": [
    "rmse = (np.sqrt(mean_squared_error(Y_test, predictions)))"
   ]
  },
  {
   "cell_type": "code",
   "execution_count": 119,
   "id": "hybrid-professor",
   "metadata": {},
   "outputs": [
    {
     "data": {
      "text/plain": [
       "0.5744562646538028"
      ]
     },
     "execution_count": 119,
     "metadata": {},
     "output_type": "execute_result"
    }
   ],
   "source": [
    "rmse"
   ]
  },
  {
   "cell_type": "code",
   "execution_count": 120,
   "id": "eligible-incentive",
   "metadata": {},
   "outputs": [
    {
     "name": "stdout",
     "output_type": "stream",
     "text": [
      "[1 1 1 1 1 1 1 1 1 1 1 0 1 1 1 1 1 1 0 1 1 1 1 1 1 1 1 1 1 1 0 0 0 1 1 1 1\n",
      " 1 1 1 1 0 1 0 1 1 0 1 1 1 0 1 0 1 1 1 1 1 1 1 1 0 1 1 1 0 1 1 1 0 1 1 1 0\n",
      " 1 0 1 1 1 1 0 1 1 1 1 1 1 1 1 0 1 1 0 1 1 1 1 1 1 1 1 0 1 1 1 1 1 1 1 0 1\n",
      " 1 1 1 1 1 1 1 0 1 1 1 1 1 1 1 1 1 1 1 1 1 1 1 1 1 1 0 1 1 1 1 1 1 1 1 1 1\n",
      " 1 1 1 0 0 1 1 1 1 1 1 1 1 1 0 1 1 1 1 1 1 1 1 1 1 1 1 0 1 1 1 1 1 1 1 1 0\n",
      " 1 1 1 1 1 1 1 1 1 1 1 1 1 1 1 1 1 0 1 1 1 1 1 1 0 1 1 1 0 1 1 1 1 1 1 1 1\n",
      " 1 1 1 1 0 1 1 1 1 1 0 1 1 1 1 1 1 1 1 1 1 1 1 1 1 1 1 1]\n"
     ]
    }
   ],
   "source": [
    "predictions = model.predict(dfTestX)\n",
    "print(predictions)"
   ]
  },
  {
   "cell_type": "code",
   "execution_count": 121,
   "id": "expanded-somewhere",
   "metadata": {},
   "outputs": [
    {
     "data": {
      "text/plain": [
       "0.6957010852370434"
      ]
     },
     "execution_count": 121,
     "metadata": {},
     "output_type": "execute_result"
    }
   ],
   "source": [
    "rmse = (np.sqrt(mean_squared_error(sampleY, predictions)))\n",
    "rmse"
   ]
  },
  {
   "cell_type": "code",
   "execution_count": 122,
   "id": "excessive-mortality",
   "metadata": {},
   "outputs": [
    {
     "name": "stdout",
     "output_type": "stream",
     "text": [
      "Confusion Matrix for task 1 :\n",
      "  [[45 76]\n",
      " [45 84]]\n",
      "Report for task 1 :\n",
      "               precision    recall  f1-score   support\n",
      "\n",
      "           0       0.50      0.37      0.43       121\n",
      "           1       0.53      0.65      0.58       129\n",
      "\n",
      "    accuracy                           0.52       250\n",
      "   macro avg       0.51      0.51      0.50       250\n",
      "weighted avg       0.51      0.52      0.51       250\n",
      "\n"
     ]
    }
   ],
   "source": [
    "print(\"Confusion Matrix for task 1 :\\n \", \n",
    "        confusion_matrix(sampleY, tastOnePredictionsTest)) \n",
    "print(\"Report for task 1 :\\n\", \n",
    "    classification_report(sampleY, tastOnePredictionsTest)) "
   ]
  },
  {
   "cell_type": "code",
   "execution_count": 123,
   "id": "spoken-principal",
   "metadata": {},
   "outputs": [
    {
     "name": "stdout",
     "output_type": "stream",
     "text": [
      "Confusion Matrix for task 2 :\n",
      "  [[ 16 105]\n",
      " [ 16 113]]\n",
      "Report for task 2 :\n",
      "               precision    recall  f1-score   support\n",
      "\n",
      "           0       0.50      0.13      0.21       121\n",
      "           1       0.52      0.88      0.65       129\n",
      "\n",
      "    accuracy                           0.52       250\n",
      "   macro avg       0.51      0.50      0.43       250\n",
      "weighted avg       0.51      0.52      0.44       250\n",
      "\n"
     ]
    }
   ],
   "source": [
    "print(\"Confusion Matrix for task 2 :\\n \", \n",
    "        confusion_matrix(sampleY, predictions)) \n",
    "print(\"Report for task 2 :\\n\", \n",
    "    classification_report(sampleY, predictions)) "
   ]
  },
  {
   "cell_type": "markdown",
   "id": "endangered-yemen",
   "metadata": {},
   "source": [
    "# Task 3 \n",
    "Submission -canvasa.\n",
    "\n",
    "Apply feature transform on the features used in task 1\n",
    "\n",
    "a.Does varying the polynomial degree change your accuracy? \n",
    "\n",
    "b.Can you identify if your model is underfitting or overfitting? \n",
    "\n",
    "(Hint use cross-validation error and in-sample error plot to identify high bias and high variance.) Plot the relationships."
   ]
  },
  {
   "cell_type": "code",
   "execution_count": 124,
   "id": "weird-particular",
   "metadata": {},
   "outputs": [],
   "source": [
    "poly = PolynomialFeatures(3)"
   ]
  },
  {
   "cell_type": "code",
   "execution_count": 125,
   "id": "lasting-candidate",
   "metadata": {},
   "outputs": [],
   "source": [
    "X_transform = poly.fit_transform(X_train)"
   ]
  },
  {
   "cell_type": "code",
   "execution_count": 126,
   "id": "surrounded-volunteer",
   "metadata": {},
   "outputs": [
    {
     "data": {
      "text/html": [
       "<div>\n",
       "<style scoped>\n",
       "    .dataframe tbody tr th:only-of-type {\n",
       "        vertical-align: middle;\n",
       "    }\n",
       "\n",
       "    .dataframe tbody tr th {\n",
       "        vertical-align: top;\n",
       "    }\n",
       "\n",
       "    .dataframe thead th {\n",
       "        text-align: right;\n",
       "    }\n",
       "</style>\n",
       "<table border=\"1\" class=\"dataframe\">\n",
       "  <thead>\n",
       "    <tr style=\"text-align: right;\">\n",
       "      <th></th>\n",
       "      <th>age</th>\n",
       "      <th>ap_hi</th>\n",
       "    </tr>\n",
       "  </thead>\n",
       "  <tbody>\n",
       "    <tr>\n",
       "      <th>106</th>\n",
       "      <td>0.984320</td>\n",
       "      <td>0.735577</td>\n",
       "    </tr>\n",
       "    <tr>\n",
       "      <th>537</th>\n",
       "      <td>0.831167</td>\n",
       "      <td>0.543269</td>\n",
       "    </tr>\n",
       "    <tr>\n",
       "      <th>201</th>\n",
       "      <td>0.966384</td>\n",
       "      <td>0.543269</td>\n",
       "    </tr>\n",
       "    <tr>\n",
       "      <th>698</th>\n",
       "      <td>0.755665</td>\n",
       "      <td>0.591346</td>\n",
       "    </tr>\n",
       "    <tr>\n",
       "      <th>370</th>\n",
       "      <td>0.398024</td>\n",
       "      <td>0.495192</td>\n",
       "    </tr>\n",
       "    <tr>\n",
       "      <th>...</th>\n",
       "      <td>...</td>\n",
       "      <td>...</td>\n",
       "    </tr>\n",
       "    <tr>\n",
       "      <th>400</th>\n",
       "      <td>0.807647</td>\n",
       "      <td>0.399038</td>\n",
       "    </tr>\n",
       "    <tr>\n",
       "      <th>118</th>\n",
       "      <td>0.637955</td>\n",
       "      <td>0.543269</td>\n",
       "    </tr>\n",
       "    <tr>\n",
       "      <th>701</th>\n",
       "      <td>0.785737</td>\n",
       "      <td>0.543269</td>\n",
       "    </tr>\n",
       "    <tr>\n",
       "      <th>206</th>\n",
       "      <td>0.246912</td>\n",
       "      <td>0.447115</td>\n",
       "    </tr>\n",
       "    <tr>\n",
       "      <th>867</th>\n",
       "      <td>0.956181</td>\n",
       "      <td>0.639423</td>\n",
       "    </tr>\n",
       "  </tbody>\n",
       "</table>\n",
       "<p>900 rows × 2 columns</p>\n",
       "</div>"
      ],
      "text/plain": [
       "          age     ap_hi\n",
       "106  0.984320  0.735577\n",
       "537  0.831167  0.543269\n",
       "201  0.966384  0.543269\n",
       "698  0.755665  0.591346\n",
       "370  0.398024  0.495192\n",
       "..        ...       ...\n",
       "400  0.807647  0.399038\n",
       "118  0.637955  0.543269\n",
       "701  0.785737  0.543269\n",
       "206  0.246912  0.447115\n",
       "867  0.956181  0.639423\n",
       "\n",
       "[900 rows x 2 columns]"
      ]
     },
     "execution_count": 126,
     "metadata": {},
     "output_type": "execute_result"
    }
   ],
   "source": [
    "X_train"
   ]
  },
  {
   "cell_type": "code",
   "execution_count": 127,
   "id": "possible-clothing",
   "metadata": {},
   "outputs": [
    {
     "data": {
      "text/plain": [
       "array([[1.        , 0.98431962, 0.73557692, ..., 0.71268953, 0.53258917,\n",
       "        0.39800111],\n",
       "       [1.        , 0.83116744, 0.54326923, ..., 0.37531174, 0.24531197,\n",
       "        0.16034127],\n",
       "       [1.        , 0.96638385, 0.54326923, ..., 0.50735791, 0.28521994,\n",
       "        0.16034127],\n",
       "       ...,\n",
       "       [1.        , 0.7857373 , 0.54326923, ..., 0.33540524, 0.23190365,\n",
       "        0.16034127],\n",
       "       [1.        , 0.24691225, 0.44711538, ..., 0.02725869, 0.04936076,\n",
       "        0.08938381],\n",
       "       [1.        , 0.95618086, 0.63942308, ..., 0.58461291, 0.3909459 ,\n",
       "        0.26143572]])"
      ]
     },
     "execution_count": 127,
     "metadata": {},
     "output_type": "execute_result"
    }
   ],
   "source": [
    "X_transform"
   ]
  },
  {
   "cell_type": "code",
   "execution_count": 128,
   "id": "passing-boulder",
   "metadata": {},
   "outputs": [
    {
     "data": {
      "text/plain": [
       "LogisticRegression(max_iter=1000)"
      ]
     },
     "execution_count": 128,
     "metadata": {},
     "output_type": "execute_result"
    }
   ],
   "source": [
    "model = LogisticRegression(max_iter=1000)\n",
    "model.fit(X_train, Y_train)"
   ]
  },
  {
   "cell_type": "code",
   "execution_count": 129,
   "id": "actual-canada",
   "metadata": {},
   "outputs": [
    {
     "name": "stdout",
     "output_type": "stream",
     "text": [
      "[1 1 1 1 1 1 1 1 1 1 1 0 1 1 1 1 1 1 0 1 1 1 1 1 1 1 1 1 1 1 0 0 0 1 1 1 1\n",
      " 1 1 1 1 0 1 0 1 1 0 1 1 1 0 1 0 1 1 1 1 1 1 1 1 0 1 1 1 0 1 1 1 0 1 1 1 0\n",
      " 1 0 1 1 1 1 0 1 1 1 1 1 1 1 1 0 1 1 0 1 1 1 1 1 1 1 1 0 1 1 1 1 1 1 1 0 1\n",
      " 1 1 1 1 1 1 1 0 1 1 1 1 1 1 1 1 1 1 1 1 1 1 1 1 1 1 0 1 1 1 1 1 1 1 1 1 1\n",
      " 1 1 1 0 0 1 1 1 1 1 1 1 1 1 0 1 1 1 1 1 1 1 1 1 1 1 1 0 1 1 1 1 1 1 1 1 0\n",
      " 1 1 1 1 1 1 1 1 1 1 1 1 1 1 1 1 1 0 1 1 1 1 1 1 0 1 1 1 0 1 1 1 1 1 1 1 1\n",
      " 1 1 1 1 0 1 1 1 1 1 0 1 1 1 1 1 1 1 1 1 1 1 1 1 1 1 1 1]\n"
     ]
    }
   ],
   "source": [
    "predictions = model.predict(dfTestX)\n",
    "print(predictions)"
   ]
  },
  {
   "cell_type": "code",
   "execution_count": 130,
   "id": "careful-throat",
   "metadata": {},
   "outputs": [
    {
     "data": {
      "text/plain": [
       "0.6957010852370434"
      ]
     },
     "execution_count": 130,
     "metadata": {},
     "output_type": "execute_result"
    }
   ],
   "source": [
    "rmse = (np.sqrt(mean_squared_error(sampleY, predictions)))\n",
    "rmse"
   ]
  },
  {
   "cell_type": "code",
   "execution_count": 131,
   "id": "assumed-blues",
   "metadata": {},
   "outputs": [
    {
     "data": {
      "text/plain": [
       "0.6957010852370434"
      ]
     },
     "execution_count": 131,
     "metadata": {},
     "output_type": "execute_result"
    }
   ],
   "source": [
    "0.6957010852370434"
   ]
  },
  {
   "cell_type": "code",
   "execution_count": 132,
   "id": "advance-block",
   "metadata": {},
   "outputs": [
    {
     "name": "stdout",
     "output_type": "stream",
     "text": [
      "Degree of 1 with polynomial mean_squared_error: 0.29999999999999993, STD: 0.03975231959999626\n",
      "Degree of 2 with polynomial mean_squared_error: 0.28555555555555556, STD: 0.037201486761740454\n",
      "Degree of 3 with polynomial mean_squared_error: 0.27222222222222225, STD: 0.030731814857642963\n",
      "Degree of 4 with polynomial mean_squared_error: 0.27222222222222225, STD: 0.029917582261858356\n",
      "Degree of 5 with polynomial mean_squared_error: 0.2733333333333333, STD: 0.03071172213574501\n",
      "Degree of 6 with polynomial mean_squared_error: 0.2733333333333334, STD: 0.03227964232518656\n",
      "Degree of 7 with polynomial mean_squared_error: 0.2744444444444445, STD: 0.031836775070876455\n",
      "Degree of 8 with polynomial mean_squared_error: 0.2733333333333333, STD: 0.03189488909868294\n",
      "Degree of 9 with polynomial mean_squared_error: 0.27444444444444444, STD: 0.027688746209726917\n",
      "Degree of 10 with polynomial mean_squared_error: 0.27666666666666667, STD: 0.030000000000000006\n",
      "Degree of 11 with polynomial mean_squared_error: 0.2733333333333333, STD: 0.032279642325186556\n",
      "Degree of 12 with polynomial mean_squared_error: 0.27111111111111114, STD: 0.032279642325186556\n",
      "Degree of 13 with polynomial mean_squared_error: 0.27111111111111114, STD: 0.032279642325186556\n",
      "Degree of 14 with polynomial mean_squared_error: 0.27, STD: 0.03065136494251938\n",
      "Degree of 15 with polynomial mean_squared_error: 0.2688888888888889, STD: 0.028021156028707757\n",
      "Degree of 16 with polynomial mean_squared_error: 0.27, STD: 0.027688746209726913\n",
      "Degree of 17 with polynomial mean_squared_error: 0.27222222222222225, STD: 0.029080560729560886\n",
      "Degree of 18 with polynomial mean_squared_error: 0.2733333333333333, STD: 0.027755546659548436\n",
      "Degree of 19 with polynomial mean_squared_error: 0.27444444444444444, STD: 0.028995529668221973\n"
     ]
    }
   ],
   "source": [
    "crossvalidation = KFold(n_splits=10, shuffle=False)\n",
    "\n",
    "for i in range(1,20):\n",
    "    poly = PolynomialFeatures(degree=i)\n",
    "    TestX = poly.fit_transform(X_train)\n",
    "    model = model.fit(TestX, Y_train)\n",
    "    parameter_range = np.arange(1, 900, 1)\n",
    "    scores = cross_val_score(model, TestX, Y_train, scoring=\"neg_mean_squared_error\", cv=crossvalidation, n_jobs=1)\n",
    "   \n",
    "    print(\"Degree of \"+str(i)+\" with polynomial mean_squared_error: \" + str(np.mean(np.abs(scores))) + \", STD: \" + str(np.std(scores)))"
   ]
  },
  {
   "cell_type": "code",
   "execution_count": 133,
   "id": "sustainable-double",
   "metadata": {},
   "outputs": [
    {
     "data": {
      "text/plain": [
       "array([-0.22222222, -0.28888889, -0.26666667, -0.28888889, -0.24444444,\n",
       "       -0.31111111, -0.3       , -0.24444444, -0.31111111, -0.26666667])"
      ]
     },
     "execution_count": 133,
     "metadata": {},
     "output_type": "execute_result"
    }
   ],
   "source": [
    "scores"
   ]
  },
  {
   "cell_type": "code",
   "execution_count": 134,
   "id": "distant-announcement",
   "metadata": {},
   "outputs": [
    {
     "data": {
      "text/plain": [
       "[<matplotlib.lines.Line2D at 0x24760a597f0>]"
      ]
     },
     "execution_count": 134,
     "metadata": {},
     "output_type": "execute_result"
    },
    {
     "data": {
      "image/png": "[encoded data removed]",
      "text/plain": [
       "<Figure size 864x864 with 1 Axes>"
      ]
     },
     "metadata": {},
     "output_type": "display_data"
    }
   ],
   "source": [
    "\n",
    "plt.plot(scores)"
   ]
  },
  {
   "cell_type": "code",
   "execution_count": null,
   "id": "careful-precipitation",
   "metadata": {},
   "outputs": [],
   "source": []
  },
  {
   "cell_type": "code",
   "execution_count": null,
   "id": "pending-journalist",
   "metadata": {},
   "outputs": [],
   "source": []
  },
  {
   "cell_type": "code",
   "execution_count": null,
   "id": "middle-carrier",
   "metadata": {},
   "outputs": [],
   "source": []
  },
  {
   "cell_type": "code",
   "execution_count": null,
   "id": "utility-variable",
   "metadata": {},
   "outputs": [],
   "source": []
  }
 ],
 "metadata": {
  "kernelspec": {
   "display_name": "Python 3",
   "language": "python",
   "name": "python3"
  },
  "language_info": {
   "codemirror_mode": {
    "name": "ipython",
    "version": 3
   },
   "file_extension": ".py",
   "mimetype": "text/x-python",
   "name": "python",
   "nbconvert_exporter": "python",
   "pygments_lexer": "ipython3",
   "version": "3.8.8"
  }
 },
 "nbformat": 4,
 "nbformat_minor": 5
}
