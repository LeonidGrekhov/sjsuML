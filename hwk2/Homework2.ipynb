{
 "cells": [
  {
   "cell_type": "markdown",
   "metadata": {},
   "source": [
    "# CMPE 257 Homework 2"
   ]
  },
  {
   "cell_type": "markdown",
   "metadata": {},
   "source": [
    "## Question 1"
   ]
  },
  {
   "cell_type": "markdown",
   "metadata": {},
   "source": [
    "### a. Load dataset from csv file.\n",
    "\n",
    "Note: Please load the dataset from the URL as shown in the demo "
   ]
  },
  {
   "cell_type": "code",
   "execution_count": 1,
   "metadata": {},
   "outputs": [],
   "source": [
    "import pandas as pd\n",
    "import numpy as np\n",
    "import matplotlib.pyplot as plt\n",
    "import seaborn as sns"
   ]
  },
  {
   "cell_type": "code",
   "execution_count": 2,
   "metadata": {},
   "outputs": [],
   "source": [
    "data= pd.read_csv(\"datasetHW2.csv\", header=None)"
   ]
  },
  {
   "cell_type": "code",
   "execution_count": 3,
   "metadata": {},
   "outputs": [
    {
     "data": {
      "text/html": [
       "<div>\n",
       "<style scoped>\n",
       "    .dataframe tbody tr th:only-of-type {\n",
       "        vertical-align: middle;\n",
       "    }\n",
       "\n",
       "    .dataframe tbody tr th {\n",
       "        vertical-align: top;\n",
       "    }\n",
       "\n",
       "    .dataframe thead th {\n",
       "        text-align: right;\n",
       "    }\n",
       "</style>\n",
       "<table border=\"1\" class=\"dataframe\">\n",
       "  <thead>\n",
       "    <tr style=\"text-align: right;\">\n",
       "      <th></th>\n",
       "      <th>0</th>\n",
       "      <th>1</th>\n",
       "      <th>2</th>\n",
       "      <th>3</th>\n",
       "      <th>4</th>\n",
       "      <th>5</th>\n",
       "      <th>6</th>\n",
       "      <th>7</th>\n",
       "      <th>8</th>\n",
       "      <th>9</th>\n",
       "    </tr>\n",
       "  </thead>\n",
       "  <tbody>\n",
       "    <tr>\n",
       "      <th>0</th>\n",
       "      <td>longitude</td>\n",
       "      <td>latitude</td>\n",
       "      <td>housing_median_age</td>\n",
       "      <td>total_rooms</td>\n",
       "      <td>total_bedrooms</td>\n",
       "      <td>population</td>\n",
       "      <td>households</td>\n",
       "      <td>median_income</td>\n",
       "      <td>median_house_value</td>\n",
       "      <td>ocean_proximity</td>\n",
       "    </tr>\n",
       "    <tr>\n",
       "      <th>1</th>\n",
       "      <td>-122.23</td>\n",
       "      <td>37.88</td>\n",
       "      <td>41.0</td>\n",
       "      <td>880.0</td>\n",
       "      <td>129.0</td>\n",
       "      <td>322.0</td>\n",
       "      <td>126.0</td>\n",
       "      <td>8.3252</td>\n",
       "      <td>452600.0</td>\n",
       "      <td>NEAR BAY</td>\n",
       "    </tr>\n",
       "    <tr>\n",
       "      <th>2</th>\n",
       "      <td>-122.22</td>\n",
       "      <td>37.86</td>\n",
       "      <td>21.0</td>\n",
       "      <td>7099.0</td>\n",
       "      <td>1106.0</td>\n",
       "      <td>2401.0</td>\n",
       "      <td>1138.0</td>\n",
       "      <td>8.3014</td>\n",
       "      <td>358500.0</td>\n",
       "      <td>NEAR BAY</td>\n",
       "    </tr>\n",
       "    <tr>\n",
       "      <th>3</th>\n",
       "      <td>-122.24</td>\n",
       "      <td>37.85</td>\n",
       "      <td>52.0</td>\n",
       "      <td>1467.0</td>\n",
       "      <td>190.0</td>\n",
       "      <td>496.0</td>\n",
       "      <td>177.0</td>\n",
       "      <td>7.2574</td>\n",
       "      <td>352100.0</td>\n",
       "      <td>NEAR BAY</td>\n",
       "    </tr>\n",
       "    <tr>\n",
       "      <th>4</th>\n",
       "      <td>-122.25</td>\n",
       "      <td>37.85</td>\n",
       "      <td>52.0</td>\n",
       "      <td>1274.0</td>\n",
       "      <td>235.0</td>\n",
       "      <td>558.0</td>\n",
       "      <td>219.0</td>\n",
       "      <td>5.6431</td>\n",
       "      <td>341300.0</td>\n",
       "      <td>NEAR BAY</td>\n",
       "    </tr>\n",
       "  </tbody>\n",
       "</table>\n",
       "</div>"
      ],
      "text/plain": [
       "           0         1                   2            3               4  \\\n",
       "0  longitude  latitude  housing_median_age  total_rooms  total_bedrooms   \n",
       "1    -122.23     37.88                41.0        880.0           129.0   \n",
       "2    -122.22     37.86                21.0       7099.0          1106.0   \n",
       "3    -122.24     37.85                52.0       1467.0           190.0   \n",
       "4    -122.25     37.85                52.0       1274.0           235.0   \n",
       "\n",
       "            5           6              7                   8                9  \n",
       "0  population  households  median_income  median_house_value  ocean_proximity  \n",
       "1       322.0       126.0         8.3252            452600.0         NEAR BAY  \n",
       "2      2401.0      1138.0         8.3014            358500.0         NEAR BAY  \n",
       "3       496.0       177.0         7.2574            352100.0         NEAR BAY  \n",
       "4       558.0       219.0         5.6431            341300.0         NEAR BAY  "
      ]
     },
     "execution_count": 3,
     "metadata": {},
     "output_type": "execute_result"
    }
   ],
   "source": [
    "data.head()"
   ]
  },
  {
   "cell_type": "code",
   "execution_count": 4,
   "metadata": {},
   "outputs": [
    {
     "data": {
      "text/plain": [
       "(20641, 10)"
      ]
     },
     "execution_count": 4,
     "metadata": {},
     "output_type": "execute_result"
    }
   ],
   "source": [
    "data.shape"
   ]
  },
  {
   "cell_type": "code",
   "execution_count": 5,
   "metadata": {},
   "outputs": [],
   "source": [
    "data =data.dropna(how='any') #dropping all NaN values"
   ]
  },
  {
   "cell_type": "markdown",
   "metadata": {},
   "source": [
    "### b. Remove the header which is 0th row."
   ]
  },
  {
   "cell_type": "code",
   "execution_count": 6,
   "metadata": {},
   "outputs": [],
   "source": [
    "data = data.iloc[1:]\n",
    "from sklearn import preprocessing\n",
    "\n",
    "x = data.iloc[:, data.columns != 8]\n",
    "y = data.iloc[:, [8]]\n"
   ]
  },
  {
   "cell_type": "code",
   "execution_count": 7,
   "metadata": {},
   "outputs": [],
   "source": [
    "loc = data.iloc[:, [9]] #extracting last column"
   ]
  },
  {
   "cell_type": "code",
   "execution_count": 8,
   "metadata": {},
   "outputs": [
    {
     "name": "stderr",
     "output_type": "stream",
     "text": [
      "C:\\Users\\X\\anaconda3\\envs\\cmpe257\\lib\\site-packages\\sklearn\\utils\\validation.py:63: DataConversionWarning: A column-vector y was passed when a 1d array was expected. Please change the shape of y to (n_samples, ), for example using ravel().\n",
      "  return f(*args, **kwargs)\n"
     ]
    }
   ],
   "source": [
    "\n",
    "from sklearn.preprocessing import OneHotEncoder, LabelEncoder\n",
    "LabelEncoder_X= LabelEncoder()\n",
    "\n",
    "loc = LabelEncoder().fit_transform(loc) #relabling last column "
   ]
  },
  {
   "cell_type": "code",
   "execution_count": 9,
   "metadata": {},
   "outputs": [
    {
     "data": {
      "text/plain": [
       "array([3, 3, 3, ..., 1, 1, 1])"
      ]
     },
     "execution_count": 9,
     "metadata": {},
     "output_type": "execute_result"
    }
   ],
   "source": [
    "loc"
   ]
  },
  {
   "cell_type": "code",
   "execution_count": 10,
   "metadata": {},
   "outputs": [
    {
     "name": "stderr",
     "output_type": "stream",
     "text": [
      "C:\\Users\\X\\anaconda3\\envs\\cmpe257\\lib\\site-packages\\pandas\\core\\indexing.py:1843: SettingWithCopyWarning: \n",
      "A value is trying to be set on a copy of a slice from a DataFrame.\n",
      "Try using .loc[row_indexer,col_indexer] = value instead\n",
      "\n",
      "See the caveats in the documentation: https://pandas.pydata.org/pandas-docs/stable/user_guide/indexing.html#returning-a-view-versus-a-copy\n",
      "  self.obj[item_labels[indexer[info_axis]]] = value\n"
     ]
    }
   ],
   "source": [
    "x.loc[:,9] = loc\n"
   ]
  },
  {
   "cell_type": "code",
   "execution_count": 11,
   "metadata": {},
   "outputs": [
    {
     "data": {
      "text/html": [
       "<div>\n",
       "<style scoped>\n",
       "    .dataframe tbody tr th:only-of-type {\n",
       "        vertical-align: middle;\n",
       "    }\n",
       "\n",
       "    .dataframe tbody tr th {\n",
       "        vertical-align: top;\n",
       "    }\n",
       "\n",
       "    .dataframe thead th {\n",
       "        text-align: right;\n",
       "    }\n",
       "</style>\n",
       "<table border=\"1\" class=\"dataframe\">\n",
       "  <thead>\n",
       "    <tr style=\"text-align: right;\">\n",
       "      <th></th>\n",
       "      <th>0</th>\n",
       "      <th>1</th>\n",
       "      <th>2</th>\n",
       "      <th>3</th>\n",
       "      <th>4</th>\n",
       "      <th>5</th>\n",
       "      <th>6</th>\n",
       "      <th>7</th>\n",
       "      <th>9</th>\n",
       "    </tr>\n",
       "  </thead>\n",
       "  <tbody>\n",
       "    <tr>\n",
       "      <th>1</th>\n",
       "      <td>-122.23</td>\n",
       "      <td>37.88</td>\n",
       "      <td>41.0</td>\n",
       "      <td>880.0</td>\n",
       "      <td>129.0</td>\n",
       "      <td>322.0</td>\n",
       "      <td>126.0</td>\n",
       "      <td>8.3252</td>\n",
       "      <td>3</td>\n",
       "    </tr>\n",
       "    <tr>\n",
       "      <th>2</th>\n",
       "      <td>-122.22</td>\n",
       "      <td>37.86</td>\n",
       "      <td>21.0</td>\n",
       "      <td>7099.0</td>\n",
       "      <td>1106.0</td>\n",
       "      <td>2401.0</td>\n",
       "      <td>1138.0</td>\n",
       "      <td>8.3014</td>\n",
       "      <td>3</td>\n",
       "    </tr>\n",
       "    <tr>\n",
       "      <th>3</th>\n",
       "      <td>-122.24</td>\n",
       "      <td>37.85</td>\n",
       "      <td>52.0</td>\n",
       "      <td>1467.0</td>\n",
       "      <td>190.0</td>\n",
       "      <td>496.0</td>\n",
       "      <td>177.0</td>\n",
       "      <td>7.2574</td>\n",
       "      <td>3</td>\n",
       "    </tr>\n",
       "    <tr>\n",
       "      <th>4</th>\n",
       "      <td>-122.25</td>\n",
       "      <td>37.85</td>\n",
       "      <td>52.0</td>\n",
       "      <td>1274.0</td>\n",
       "      <td>235.0</td>\n",
       "      <td>558.0</td>\n",
       "      <td>219.0</td>\n",
       "      <td>5.6431</td>\n",
       "      <td>3</td>\n",
       "    </tr>\n",
       "    <tr>\n",
       "      <th>5</th>\n",
       "      <td>-122.25</td>\n",
       "      <td>37.85</td>\n",
       "      <td>52.0</td>\n",
       "      <td>1627.0</td>\n",
       "      <td>280.0</td>\n",
       "      <td>565.0</td>\n",
       "      <td>259.0</td>\n",
       "      <td>3.8462</td>\n",
       "      <td>3</td>\n",
       "    </tr>\n",
       "    <tr>\n",
       "      <th>...</th>\n",
       "      <td>...</td>\n",
       "      <td>...</td>\n",
       "      <td>...</td>\n",
       "      <td>...</td>\n",
       "      <td>...</td>\n",
       "      <td>...</td>\n",
       "      <td>...</td>\n",
       "      <td>...</td>\n",
       "      <td>...</td>\n",
       "    </tr>\n",
       "    <tr>\n",
       "      <th>20636</th>\n",
       "      <td>-121.09</td>\n",
       "      <td>39.48</td>\n",
       "      <td>25.0</td>\n",
       "      <td>1665.0</td>\n",
       "      <td>374.0</td>\n",
       "      <td>845.0</td>\n",
       "      <td>330.0</td>\n",
       "      <td>1.5603</td>\n",
       "      <td>1</td>\n",
       "    </tr>\n",
       "    <tr>\n",
       "      <th>20637</th>\n",
       "      <td>-121.21</td>\n",
       "      <td>39.49</td>\n",
       "      <td>18.0</td>\n",
       "      <td>697.0</td>\n",
       "      <td>150.0</td>\n",
       "      <td>356.0</td>\n",
       "      <td>114.0</td>\n",
       "      <td>2.5568</td>\n",
       "      <td>1</td>\n",
       "    </tr>\n",
       "    <tr>\n",
       "      <th>20638</th>\n",
       "      <td>-121.22</td>\n",
       "      <td>39.43</td>\n",
       "      <td>17.0</td>\n",
       "      <td>2254.0</td>\n",
       "      <td>485.0</td>\n",
       "      <td>1007.0</td>\n",
       "      <td>433.0</td>\n",
       "      <td>1.7</td>\n",
       "      <td>1</td>\n",
       "    </tr>\n",
       "    <tr>\n",
       "      <th>20639</th>\n",
       "      <td>-121.32</td>\n",
       "      <td>39.43</td>\n",
       "      <td>18.0</td>\n",
       "      <td>1860.0</td>\n",
       "      <td>409.0</td>\n",
       "      <td>741.0</td>\n",
       "      <td>349.0</td>\n",
       "      <td>1.8672</td>\n",
       "      <td>1</td>\n",
       "    </tr>\n",
       "    <tr>\n",
       "      <th>20640</th>\n",
       "      <td>-121.24</td>\n",
       "      <td>39.37</td>\n",
       "      <td>16.0</td>\n",
       "      <td>2785.0</td>\n",
       "      <td>616.0</td>\n",
       "      <td>1387.0</td>\n",
       "      <td>530.0</td>\n",
       "      <td>2.3886</td>\n",
       "      <td>1</td>\n",
       "    </tr>\n",
       "  </tbody>\n",
       "</table>\n",
       "<p>20433 rows × 9 columns</p>\n",
       "</div>"
      ],
      "text/plain": [
       "             0      1     2       3       4       5       6       7  9\n",
       "1      -122.23  37.88  41.0   880.0   129.0   322.0   126.0  8.3252  3\n",
       "2      -122.22  37.86  21.0  7099.0  1106.0  2401.0  1138.0  8.3014  3\n",
       "3      -122.24  37.85  52.0  1467.0   190.0   496.0   177.0  7.2574  3\n",
       "4      -122.25  37.85  52.0  1274.0   235.0   558.0   219.0  5.6431  3\n",
       "5      -122.25  37.85  52.0  1627.0   280.0   565.0   259.0  3.8462  3\n",
       "...        ...    ...   ...     ...     ...     ...     ...     ... ..\n",
       "20636  -121.09  39.48  25.0  1665.0   374.0   845.0   330.0  1.5603  1\n",
       "20637  -121.21  39.49  18.0   697.0   150.0   356.0   114.0  2.5568  1\n",
       "20638  -121.22  39.43  17.0  2254.0   485.0  1007.0   433.0     1.7  1\n",
       "20639  -121.32  39.43  18.0  1860.0   409.0   741.0   349.0  1.8672  1\n",
       "20640  -121.24  39.37  16.0  2785.0   616.0  1387.0   530.0  2.3886  1\n",
       "\n",
       "[20433 rows x 9 columns]"
      ]
     },
     "execution_count": 11,
     "metadata": {},
     "output_type": "execute_result"
    }
   ],
   "source": [
    "x"
   ]
  },
  {
   "cell_type": "code",
   "execution_count": 12,
   "metadata": {},
   "outputs": [
    {
     "name": "stdout",
     "output_type": "stream",
     "text": [
      "             0      1     2       3       4       5       6       7  9\n",
      "1      -122.23  37.88  41.0   880.0   129.0   322.0   126.0  8.3252  3\n",
      "2      -122.22  37.86  21.0  7099.0  1106.0  2401.0  1138.0  8.3014  3\n",
      "3      -122.24  37.85  52.0  1467.0   190.0   496.0   177.0  7.2574  3\n",
      "4      -122.25  37.85  52.0  1274.0   235.0   558.0   219.0  5.6431  3\n",
      "5      -122.25  37.85  52.0  1627.0   280.0   565.0   259.0  3.8462  3\n",
      "...        ...    ...   ...     ...     ...     ...     ...     ... ..\n",
      "20636  -121.09  39.48  25.0  1665.0   374.0   845.0   330.0  1.5603  1\n",
      "20637  -121.21  39.49  18.0   697.0   150.0   356.0   114.0  2.5568  1\n",
      "20638  -121.22  39.43  17.0  2254.0   485.0  1007.0   433.0     1.7  1\n",
      "20639  -121.32  39.43  18.0  1860.0   409.0   741.0   349.0  1.8672  1\n",
      "20640  -121.24  39.37  16.0  2785.0   616.0  1387.0   530.0  2.3886  1\n",
      "\n",
      "[20433 rows x 9 columns]\n"
     ]
    }
   ],
   "source": [
    "preprocessedX = pd.DataFrame(data=x) #saving new data frame\n",
    "print(preprocessedX) "
   ]
  },
  {
   "cell_type": "markdown",
   "metadata": {},
   "source": [
    "### c. Split the dataset into 70:30 training set and test set (non-repetitive random selection)."
   ]
  },
  {
   "cell_type": "code",
   "execution_count": 13,
   "metadata": {},
   "outputs": [],
   "source": [
    "from sklearn.model_selection import train_test_split\n",
    "X_train, X_test, y_train, y_test = train_test_split(x, y, test_size =0.3, random_state =1)"
   ]
  },
  {
   "cell_type": "markdown",
   "metadata": {},
   "source": [
    "### d. Plot each feature against the target in the training set."
   ]
  },
  {
   "cell_type": "code",
   "execution_count": 14,
   "metadata": {},
   "outputs": [],
   "source": [
    "from sklearn.linear_model import LinearRegression\n",
    "regressor = LinearRegression()\n"
   ]
  },
  {
   "cell_type": "code",
   "execution_count": 15,
   "metadata": {},
   "outputs": [],
   "source": [
    "regressor.fit(X_train, y_train)\n",
    "y_pred = regressor.predict(X_test)"
   ]
  },
  {
   "cell_type": "code",
   "execution_count": 16,
   "metadata": {},
   "outputs": [
    {
     "data": {
      "text/html": [
       "<div>\n",
       "<style scoped>\n",
       "    .dataframe tbody tr th:only-of-type {\n",
       "        vertical-align: middle;\n",
       "    }\n",
       "\n",
       "    .dataframe tbody tr th {\n",
       "        vertical-align: top;\n",
       "    }\n",
       "\n",
       "    .dataframe thead th {\n",
       "        text-align: right;\n",
       "    }\n",
       "</style>\n",
       "<table border=\"1\" class=\"dataframe\">\n",
       "  <thead>\n",
       "    <tr style=\"text-align: right;\">\n",
       "      <th></th>\n",
       "      <th>0</th>\n",
       "      <th>1</th>\n",
       "      <th>2</th>\n",
       "      <th>3</th>\n",
       "      <th>4</th>\n",
       "      <th>5</th>\n",
       "      <th>6</th>\n",
       "      <th>7</th>\n",
       "      <th>9</th>\n",
       "    </tr>\n",
       "  </thead>\n",
       "  <tbody>\n",
       "    <tr>\n",
       "      <th>5166</th>\n",
       "      <td>-118.29</td>\n",
       "      <td>33.95</td>\n",
       "      <td>39.0</td>\n",
       "      <td>1701.0</td>\n",
       "      <td>428.0</td>\n",
       "      <td>1468.0</td>\n",
       "      <td>411.0</td>\n",
       "      <td>1.9702</td>\n",
       "      <td>0</td>\n",
       "    </tr>\n",
       "    <tr>\n",
       "      <th>12862</th>\n",
       "      <td>-121.38</td>\n",
       "      <td>38.7</td>\n",
       "      <td>25.0</td>\n",
       "      <td>3919.0</td>\n",
       "      <td>764.0</td>\n",
       "      <td>2203.0</td>\n",
       "      <td>783.0</td>\n",
       "      <td>2.2402</td>\n",
       "      <td>1</td>\n",
       "    </tr>\n",
       "    <tr>\n",
       "      <th>20233</th>\n",
       "      <td>-119.29</td>\n",
       "      <td>34.23</td>\n",
       "      <td>22.0</td>\n",
       "      <td>2486.0</td>\n",
       "      <td>608.0</td>\n",
       "      <td>709.0</td>\n",
       "      <td>523.0</td>\n",
       "      <td>2.9018</td>\n",
       "      <td>4</td>\n",
       "    </tr>\n",
       "    <tr>\n",
       "      <th>11693</th>\n",
       "      <td>-117.99</td>\n",
       "      <td>33.87</td>\n",
       "      <td>34.0</td>\n",
       "      <td>1239.0</td>\n",
       "      <td>307.0</td>\n",
       "      <td>869.0</td>\n",
       "      <td>291.0</td>\n",
       "      <td>3.59</td>\n",
       "      <td>0</td>\n",
       "    </tr>\n",
       "    <tr>\n",
       "      <th>13208</th>\n",
       "      <td>-117.71</td>\n",
       "      <td>34.05</td>\n",
       "      <td>20.0</td>\n",
       "      <td>2281.0</td>\n",
       "      <td>444.0</td>\n",
       "      <td>1545.0</td>\n",
       "      <td>481.0</td>\n",
       "      <td>2.5735</td>\n",
       "      <td>1</td>\n",
       "    </tr>\n",
       "    <tr>\n",
       "      <th>...</th>\n",
       "      <td>...</td>\n",
       "      <td>...</td>\n",
       "      <td>...</td>\n",
       "      <td>...</td>\n",
       "      <td>...</td>\n",
       "      <td>...</td>\n",
       "      <td>...</td>\n",
       "      <td>...</td>\n",
       "      <td>...</td>\n",
       "    </tr>\n",
       "    <tr>\n",
       "      <th>11066</th>\n",
       "      <td>-117.88</td>\n",
       "      <td>33.79</td>\n",
       "      <td>32.0</td>\n",
       "      <td>1484.0</td>\n",
       "      <td>295.0</td>\n",
       "      <td>928.0</td>\n",
       "      <td>295.0</td>\n",
       "      <td>5.1418</td>\n",
       "      <td>0</td>\n",
       "    </tr>\n",
       "    <tr>\n",
       "      <th>17456</th>\n",
       "      <td>-120.43</td>\n",
       "      <td>34.7</td>\n",
       "      <td>26.0</td>\n",
       "      <td>2353.0</td>\n",
       "      <td>389.0</td>\n",
       "      <td>1420.0</td>\n",
       "      <td>389.0</td>\n",
       "      <td>3.87</td>\n",
       "      <td>4</td>\n",
       "    </tr>\n",
       "    <tr>\n",
       "      <th>5250</th>\n",
       "      <td>-118.45</td>\n",
       "      <td>34.08</td>\n",
       "      <td>52.0</td>\n",
       "      <td>1500.0</td>\n",
       "      <td>176.0</td>\n",
       "      <td>384.0</td>\n",
       "      <td>145.0</td>\n",
       "      <td>7.1576</td>\n",
       "      <td>0</td>\n",
       "    </tr>\n",
       "    <tr>\n",
       "      <th>12291</th>\n",
       "      <td>-116.97</td>\n",
       "      <td>33.94</td>\n",
       "      <td>29.0</td>\n",
       "      <td>3197.0</td>\n",
       "      <td>632.0</td>\n",
       "      <td>1722.0</td>\n",
       "      <td>603.0</td>\n",
       "      <td>3.0432</td>\n",
       "      <td>1</td>\n",
       "    </tr>\n",
       "    <tr>\n",
       "      <th>236</th>\n",
       "      <td>-122.2</td>\n",
       "      <td>37.79</td>\n",
       "      <td>35.0</td>\n",
       "      <td>1802.0</td>\n",
       "      <td>459.0</td>\n",
       "      <td>1009.0</td>\n",
       "      <td>390.0</td>\n",
       "      <td>2.3036</td>\n",
       "      <td>3</td>\n",
       "    </tr>\n",
       "  </tbody>\n",
       "</table>\n",
       "<p>14303 rows × 9 columns</p>\n",
       "</div>"
      ],
      "text/plain": [
       "             0      1     2       3      4       5      6       7  9\n",
       "5166   -118.29  33.95  39.0  1701.0  428.0  1468.0  411.0  1.9702  0\n",
       "12862  -121.38   38.7  25.0  3919.0  764.0  2203.0  783.0  2.2402  1\n",
       "20233  -119.29  34.23  22.0  2486.0  608.0   709.0  523.0  2.9018  4\n",
       "11693  -117.99  33.87  34.0  1239.0  307.0   869.0  291.0    3.59  0\n",
       "13208  -117.71  34.05  20.0  2281.0  444.0  1545.0  481.0  2.5735  1\n",
       "...        ...    ...   ...     ...    ...     ...    ...     ... ..\n",
       "11066  -117.88  33.79  32.0  1484.0  295.0   928.0  295.0  5.1418  0\n",
       "17456  -120.43   34.7  26.0  2353.0  389.0  1420.0  389.0    3.87  4\n",
       "5250   -118.45  34.08  52.0  1500.0  176.0   384.0  145.0  7.1576  0\n",
       "12291  -116.97  33.94  29.0  3197.0  632.0  1722.0  603.0  3.0432  1\n",
       "236     -122.2  37.79  35.0  1802.0  459.0  1009.0  390.0  2.3036  3\n",
       "\n",
       "[14303 rows x 9 columns]"
      ]
     },
     "execution_count": 16,
     "metadata": {},
     "output_type": "execute_result"
    }
   ],
   "source": [
    "X_train"
   ]
  },
  {
   "cell_type": "code",
   "execution_count": 17,
   "metadata": {},
   "outputs": [
    {
     "data": {
      "text/html": [
       "<div>\n",
       "<style scoped>\n",
       "    .dataframe tbody tr th:only-of-type {\n",
       "        vertical-align: middle;\n",
       "    }\n",
       "\n",
       "    .dataframe tbody tr th {\n",
       "        vertical-align: top;\n",
       "    }\n",
       "\n",
       "    .dataframe thead th {\n",
       "        text-align: right;\n",
       "    }\n",
       "</style>\n",
       "<table border=\"1\" class=\"dataframe\">\n",
       "  <thead>\n",
       "    <tr style=\"text-align: right;\">\n",
       "      <th></th>\n",
       "      <th>0</th>\n",
       "      <th>1</th>\n",
       "      <th>2</th>\n",
       "      <th>3</th>\n",
       "      <th>4</th>\n",
       "      <th>5</th>\n",
       "      <th>6</th>\n",
       "      <th>7</th>\n",
       "      <th>9</th>\n",
       "    </tr>\n",
       "  </thead>\n",
       "  <tbody>\n",
       "    <tr>\n",
       "      <th>6716</th>\n",
       "      <td>-118.18</td>\n",
       "      <td>34.14</td>\n",
       "      <td>38.0</td>\n",
       "      <td>3039.0</td>\n",
       "      <td>487.0</td>\n",
       "      <td>1131.0</td>\n",
       "      <td>465.0</td>\n",
       "      <td>7.7116</td>\n",
       "      <td>0</td>\n",
       "    </tr>\n",
       "    <tr>\n",
       "      <th>4122</th>\n",
       "      <td>-118.19</td>\n",
       "      <td>34.14</td>\n",
       "      <td>38.0</td>\n",
       "      <td>1826.0</td>\n",
       "      <td>300.0</td>\n",
       "      <td>793.0</td>\n",
       "      <td>297.0</td>\n",
       "      <td>5.2962</td>\n",
       "      <td>0</td>\n",
       "    </tr>\n",
       "    <tr>\n",
       "      <th>15434</th>\n",
       "      <td>-117.25</td>\n",
       "      <td>33.2</td>\n",
       "      <td>10.0</td>\n",
       "      <td>2050.0</td>\n",
       "      <td>473.0</td>\n",
       "      <td>1302.0</td>\n",
       "      <td>471.0</td>\n",
       "      <td>2.7961</td>\n",
       "      <td>0</td>\n",
       "    </tr>\n",
       "    <tr>\n",
       "      <th>20273</th>\n",
       "      <td>-119.23</td>\n",
       "      <td>34.19</td>\n",
       "      <td>16.0</td>\n",
       "      <td>5297.0</td>\n",
       "      <td>810.0</td>\n",
       "      <td>1489.0</td>\n",
       "      <td>667.0</td>\n",
       "      <td>6.4522</td>\n",
       "      <td>4</td>\n",
       "    </tr>\n",
       "    <tr>\n",
       "      <th>11844</th>\n",
       "      <td>-120.93</td>\n",
       "      <td>39.96</td>\n",
       "      <td>15.0</td>\n",
       "      <td>1666.0</td>\n",
       "      <td>351.0</td>\n",
       "      <td>816.0</td>\n",
       "      <td>316.0</td>\n",
       "      <td>2.9559</td>\n",
       "      <td>1</td>\n",
       "    </tr>\n",
       "    <tr>\n",
       "      <th>...</th>\n",
       "      <td>...</td>\n",
       "      <td>...</td>\n",
       "      <td>...</td>\n",
       "      <td>...</td>\n",
       "      <td>...</td>\n",
       "      <td>...</td>\n",
       "      <td>...</td>\n",
       "      <td>...</td>\n",
       "      <td>...</td>\n",
       "    </tr>\n",
       "    <tr>\n",
       "      <th>10514</th>\n",
       "      <td>-117.7</td>\n",
       "      <td>33.51</td>\n",
       "      <td>2.0</td>\n",
       "      <td>5261.0</td>\n",
       "      <td>763.0</td>\n",
       "      <td>1460.0</td>\n",
       "      <td>599.0</td>\n",
       "      <td>6.8279</td>\n",
       "      <td>0</td>\n",
       "    </tr>\n",
       "    <tr>\n",
       "      <th>8883</th>\n",
       "      <td>-118.51</td>\n",
       "      <td>34.04</td>\n",
       "      <td>40.0</td>\n",
       "      <td>1382.0</td>\n",
       "      <td>167.0</td>\n",
       "      <td>483.0</td>\n",
       "      <td>178.0</td>\n",
       "      <td>11.7045</td>\n",
       "      <td>0</td>\n",
       "    </tr>\n",
       "    <tr>\n",
       "      <th>9201</th>\n",
       "      <td>-119.68</td>\n",
       "      <td>37.35</td>\n",
       "      <td>13.0</td>\n",
       "      <td>2307.0</td>\n",
       "      <td>386.0</td>\n",
       "      <td>925.0</td>\n",
       "      <td>347.0</td>\n",
       "      <td>3.1326</td>\n",
       "      <td>1</td>\n",
       "    </tr>\n",
       "    <tr>\n",
       "      <th>5961</th>\n",
       "      <td>-117.83</td>\n",
       "      <td>34.11</td>\n",
       "      <td>29.0</td>\n",
       "      <td>2671.0</td>\n",
       "      <td>437.0</td>\n",
       "      <td>1484.0</td>\n",
       "      <td>445.0</td>\n",
       "      <td>4.9844</td>\n",
       "      <td>1</td>\n",
       "    </tr>\n",
       "    <tr>\n",
       "      <th>14661</th>\n",
       "      <td>-117.14</td>\n",
       "      <td>32.81</td>\n",
       "      <td>34.0</td>\n",
       "      <td>1748.0</td>\n",
       "      <td>294.0</td>\n",
       "      <td>800.0</td>\n",
       "      <td>294.0</td>\n",
       "      <td>4.4886</td>\n",
       "      <td>4</td>\n",
       "    </tr>\n",
       "  </tbody>\n",
       "</table>\n",
       "<p>6130 rows × 9 columns</p>\n",
       "</div>"
      ],
      "text/plain": [
       "             0      1     2       3      4       5      6        7  9\n",
       "6716   -118.18  34.14  38.0  3039.0  487.0  1131.0  465.0   7.7116  0\n",
       "4122   -118.19  34.14  38.0  1826.0  300.0   793.0  297.0   5.2962  0\n",
       "15434  -117.25   33.2  10.0  2050.0  473.0  1302.0  471.0   2.7961  0\n",
       "20273  -119.23  34.19  16.0  5297.0  810.0  1489.0  667.0   6.4522  4\n",
       "11844  -120.93  39.96  15.0  1666.0  351.0   816.0  316.0   2.9559  1\n",
       "...        ...    ...   ...     ...    ...     ...    ...      ... ..\n",
       "10514   -117.7  33.51   2.0  5261.0  763.0  1460.0  599.0   6.8279  0\n",
       "8883   -118.51  34.04  40.0  1382.0  167.0   483.0  178.0  11.7045  0\n",
       "9201   -119.68  37.35  13.0  2307.0  386.0   925.0  347.0   3.1326  1\n",
       "5961   -117.83  34.11  29.0  2671.0  437.0  1484.0  445.0   4.9844  1\n",
       "14661  -117.14  32.81  34.0  1748.0  294.0   800.0  294.0   4.4886  4\n",
       "\n",
       "[6130 rows x 9 columns]"
      ]
     },
     "execution_count": 17,
     "metadata": {},
     "output_type": "execute_result"
    }
   ],
   "source": [
    "X_test"
   ]
  },
  {
   "cell_type": "code",
   "execution_count": 18,
   "metadata": {},
   "outputs": [
    {
     "data": {
      "text/html": [
       "<div>\n",
       "<style scoped>\n",
       "    .dataframe tbody tr th:only-of-type {\n",
       "        vertical-align: middle;\n",
       "    }\n",
       "\n",
       "    .dataframe tbody tr th {\n",
       "        vertical-align: top;\n",
       "    }\n",
       "\n",
       "    .dataframe thead th {\n",
       "        text-align: right;\n",
       "    }\n",
       "</style>\n",
       "<table border=\"1\" class=\"dataframe\">\n",
       "  <thead>\n",
       "    <tr style=\"text-align: right;\">\n",
       "      <th></th>\n",
       "      <th>8</th>\n",
       "    </tr>\n",
       "  </thead>\n",
       "  <tbody>\n",
       "    <tr>\n",
       "      <th>5166</th>\n",
       "      <td>93200.0</td>\n",
       "    </tr>\n",
       "    <tr>\n",
       "      <th>12862</th>\n",
       "      <td>89500.0</td>\n",
       "    </tr>\n",
       "    <tr>\n",
       "      <th>20233</th>\n",
       "      <td>275000.0</td>\n",
       "    </tr>\n",
       "    <tr>\n",
       "      <th>11693</th>\n",
       "      <td>161900.0</td>\n",
       "    </tr>\n",
       "    <tr>\n",
       "      <th>13208</th>\n",
       "      <td>130500.0</td>\n",
       "    </tr>\n",
       "    <tr>\n",
       "      <th>...</th>\n",
       "      <td>...</td>\n",
       "    </tr>\n",
       "    <tr>\n",
       "      <th>11066</th>\n",
       "      <td>190300.0</td>\n",
       "    </tr>\n",
       "    <tr>\n",
       "      <th>17456</th>\n",
       "      <td>125800.0</td>\n",
       "    </tr>\n",
       "    <tr>\n",
       "      <th>5250</th>\n",
       "      <td>500001.0</td>\n",
       "    </tr>\n",
       "    <tr>\n",
       "      <th>12291</th>\n",
       "      <td>91200.0</td>\n",
       "    </tr>\n",
       "    <tr>\n",
       "      <th>236</th>\n",
       "      <td>126000.0</td>\n",
       "    </tr>\n",
       "  </tbody>\n",
       "</table>\n",
       "<p>14303 rows × 1 columns</p>\n",
       "</div>"
      ],
      "text/plain": [
       "              8\n",
       "5166    93200.0\n",
       "12862   89500.0\n",
       "20233  275000.0\n",
       "11693  161900.0\n",
       "13208  130500.0\n",
       "...         ...\n",
       "11066  190300.0\n",
       "17456  125800.0\n",
       "5250   500001.0\n",
       "12291   91200.0\n",
       "236    126000.0\n",
       "\n",
       "[14303 rows x 1 columns]"
      ]
     },
     "execution_count": 18,
     "metadata": {},
     "output_type": "execute_result"
    }
   ],
   "source": [
    "y_train"
   ]
  },
  {
   "cell_type": "code",
   "execution_count": 19,
   "metadata": {},
   "outputs": [
    {
     "data": {
      "text/html": [
       "<div>\n",
       "<style scoped>\n",
       "    .dataframe tbody tr th:only-of-type {\n",
       "        vertical-align: middle;\n",
       "    }\n",
       "\n",
       "    .dataframe tbody tr th {\n",
       "        vertical-align: top;\n",
       "    }\n",
       "\n",
       "    .dataframe thead th {\n",
       "        text-align: right;\n",
       "    }\n",
       "</style>\n",
       "<table border=\"1\" class=\"dataframe\">\n",
       "  <thead>\n",
       "    <tr style=\"text-align: right;\">\n",
       "      <th></th>\n",
       "      <th>8</th>\n",
       "    </tr>\n",
       "  </thead>\n",
       "  <tbody>\n",
       "    <tr>\n",
       "      <th>6716</th>\n",
       "      <td>360900.0</td>\n",
       "    </tr>\n",
       "    <tr>\n",
       "      <th>4122</th>\n",
       "      <td>291500.0</td>\n",
       "    </tr>\n",
       "    <tr>\n",
       "      <th>15434</th>\n",
       "      <td>131300.0</td>\n",
       "    </tr>\n",
       "    <tr>\n",
       "      <th>20273</th>\n",
       "      <td>500001.0</td>\n",
       "    </tr>\n",
       "    <tr>\n",
       "      <th>11844</th>\n",
       "      <td>118800.0</td>\n",
       "    </tr>\n",
       "    <tr>\n",
       "      <th>...</th>\n",
       "      <td>...</td>\n",
       "    </tr>\n",
       "    <tr>\n",
       "      <th>10514</th>\n",
       "      <td>279000.0</td>\n",
       "    </tr>\n",
       "    <tr>\n",
       "      <th>8883</th>\n",
       "      <td>500001.0</td>\n",
       "    </tr>\n",
       "    <tr>\n",
       "      <th>9201</th>\n",
       "      <td>119800.0</td>\n",
       "    </tr>\n",
       "    <tr>\n",
       "      <th>5961</th>\n",
       "      <td>203000.0</td>\n",
       "    </tr>\n",
       "    <tr>\n",
       "      <th>14661</th>\n",
       "      <td>179100.0</td>\n",
       "    </tr>\n",
       "  </tbody>\n",
       "</table>\n",
       "<p>6130 rows × 1 columns</p>\n",
       "</div>"
      ],
      "text/plain": [
       "              8\n",
       "6716   360900.0\n",
       "4122   291500.0\n",
       "15434  131300.0\n",
       "20273  500001.0\n",
       "11844  118800.0\n",
       "...         ...\n",
       "10514  279000.0\n",
       "8883   500001.0\n",
       "9201   119800.0\n",
       "5961   203000.0\n",
       "14661  179100.0\n",
       "\n",
       "[6130 rows x 1 columns]"
      ]
     },
     "execution_count": 19,
     "metadata": {},
     "output_type": "execute_result"
    }
   ],
   "source": [
    "y_test"
   ]
  },
  {
   "cell_type": "code",
   "execution_count": 20,
   "metadata": {},
   "outputs": [
    {
     "data": {
      "text/plain": [
       "array([[376219.94283169],\n",
       "       [273522.54809033],\n",
       "       [146884.05426828],\n",
       "       ...,\n",
       "       [ 88487.67508933],\n",
       "       [226055.22761024],\n",
       "       [248042.04805427]])"
      ]
     },
     "execution_count": 20,
     "metadata": {},
     "output_type": "execute_result"
    }
   ],
   "source": [
    "y_pred"
   ]
  },
  {
   "cell_type": "code",
   "execution_count": 21,
   "metadata": {},
   "outputs": [
    {
     "name": "stdout",
     "output_type": "stream",
     "text": [
      "                  0\n",
      "0     376219.942832\n",
      "1     273522.548090\n",
      "2     146884.054268\n",
      "3     357301.698624\n",
      "4      30134.778012\n",
      "...             ...\n",
      "6125  312457.337300\n",
      "6126  545430.588408\n",
      "6127   88487.675089\n",
      "6128  226055.227610\n",
      "6129  248042.048054\n",
      "\n",
      "[6130 rows x 1 columns]\n"
     ]
    }
   ],
   "source": [
    "df = pd.DataFrame(data=y_pred)\n",
    "print(df)"
   ]
  },
  {
   "cell_type": "code",
   "execution_count": 22,
   "metadata": {},
   "outputs": [
    {
     "data": {
      "text/plain": [
       "[<matplotlib.lines.Line2D at 0x29f81274a90>]"
      ]
     },
     "execution_count": 22,
     "metadata": {},
     "output_type": "execute_result"
    },
    {
     "data": {
      "image/png": "[encoded data removed]",
      "text/plain": [
       "<Figure size 432x288 with 1 Axes>"
      ]
     },
     "metadata": {
      "needs_background": "light"
     },
     "output_type": "display_data"
    }
   ],
   "source": [
    "plt.plot(y_pred)"
   ]
  },
  {
   "cell_type": "code",
   "execution_count": 23,
   "metadata": {},
   "outputs": [
    {
     "data": {
      "text/plain": [
       "<function matplotlib.pyplot.show(close=None, block=None)>"
      ]
     },
     "execution_count": 23,
     "metadata": {},
     "output_type": "execute_result"
    },
    {
     "data": {
      "image/png": "[encoded data removed]",
      "text/plain": [
       "<Figure size 432x288 with 1 Axes>"
      ]
     },
     "metadata": {
      "needs_background": "light"
     },
     "output_type": "display_data"
    }
   ],
   "source": [
    "X =X_train.iloc[:,0]\n",
    "Y =y_train.iloc[:,0]\n",
    "plt.scatter(X,Y)\n",
    "plt.show"
   ]
  },
  {
   "cell_type": "code",
   "execution_count": 24,
   "metadata": {},
   "outputs": [
    {
     "data": {
      "text/plain": [
       "<function matplotlib.pyplot.show(close=None, block=None)>"
      ]
     },
     "execution_count": 24,
     "metadata": {},
     "output_type": "execute_result"
    },
    {
     "data": {
      "image/png": "[encoded data removed]",
      "text/plain": [
       "<Figure size 432x288 with 1 Axes>"
      ]
     },
     "metadata": {
      "needs_background": "light"
     },
     "output_type": "display_data"
    }
   ],
   "source": [
    "X =X_test.iloc[:,0]\n",
    "Y =df.iloc[:,0]\n",
    "plt.scatter(X,Y)\n",
    "plt.show"
   ]
  },
  {
   "cell_type": "code",
   "execution_count": 25,
   "metadata": {},
   "outputs": [
    {
     "data": {
      "text/plain": [
       "<function matplotlib.pyplot.show(close=None, block=None)>"
      ]
     },
     "execution_count": 25,
     "metadata": {},
     "output_type": "execute_result"
    },
    {
     "data": {
      "image/png": "[encoded data removed]",
      "text/plain": [
       "<Figure size 432x288 with 1 Axes>"
      ]
     },
     "metadata": {
      "needs_background": "light"
     },
     "output_type": "display_data"
    }
   ],
   "source": [
    "X =X_test.iloc[:,1]\n",
    "Y =df.iloc[:,0]\n",
    "plt.scatter(X,Y)\n",
    "plt.show"
   ]
  },
  {
   "cell_type": "code",
   "execution_count": 26,
   "metadata": {},
   "outputs": [
    {
     "data": {
      "text/plain": [
       "<function matplotlib.pyplot.show(close=None, block=None)>"
      ]
     },
     "execution_count": 26,
     "metadata": {},
     "output_type": "execute_result"
    },
    {
     "data": {
      "image/png": "[encoded data removed]",
      "text/plain": [
       "<Figure size 432x288 with 1 Axes>"
      ]
     },
     "metadata": {
      "needs_background": "light"
     },
     "output_type": "display_data"
    }
   ],
   "source": [
    "X =X_test.iloc[:,2]\n",
    "Y =df.iloc[:,0]\n",
    "plt.scatter(X,Y)\n",
    "plt.show"
   ]
  },
  {
   "cell_type": "code",
   "execution_count": 27,
   "metadata": {},
   "outputs": [
    {
     "data": {
      "text/plain": [
       "<function matplotlib.pyplot.show(close=None, block=None)>"
      ]
     },
     "execution_count": 27,
     "metadata": {},
     "output_type": "execute_result"
    },
    {
     "data": {
      "image/png": "[encoded data removed]",
      "text/plain": [
       "<Figure size 432x288 with 1 Axes>"
      ]
     },
     "metadata": {
      "needs_background": "light"
     },
     "output_type": "display_data"
    }
   ],
   "source": [
    "X =X_test.iloc[:,4]\n",
    "Y =df.iloc[:,0]\n",
    "plt.scatter(X,Y)\n",
    "plt.show"
   ]
  },
  {
   "cell_type": "code",
   "execution_count": 28,
   "metadata": {},
   "outputs": [
    {
     "data": {
      "text/plain": [
       "<function matplotlib.pyplot.show(close=None, block=None)>"
      ]
     },
     "execution_count": 28,
     "metadata": {},
     "output_type": "execute_result"
    },
    {
     "data": {
      "image/png": "[encoded data removed]",
      "text/plain": [
       "<Figure size 432x288 with 1 Axes>"
      ]
     },
     "metadata": {
      "needs_background": "light"
     },
     "output_type": "display_data"
    }
   ],
   "source": [
    "X =X_test.iloc[:,5]\n",
    "Y =df.iloc[:,0]\n",
    "plt.scatter(X,Y)\n",
    "plt.show"
   ]
  },
  {
   "cell_type": "code",
   "execution_count": 29,
   "metadata": {},
   "outputs": [
    {
     "data": {
      "text/plain": [
       "<function matplotlib.pyplot.show(close=None, block=None)>"
      ]
     },
     "execution_count": 29,
     "metadata": {},
     "output_type": "execute_result"
    },
    {
     "data": {
      "image/png": "[encoded data removed]",
      "text/plain": [
       "<Figure size 432x288 with 1 Axes>"
      ]
     },
     "metadata": {
      "needs_background": "light"
     },
     "output_type": "display_data"
    }
   ],
   "source": [
    "X =X_test.iloc[:,6]\n",
    "Y =df.iloc[:,0]\n",
    "plt.scatter(X,Y)\n",
    "plt.show"
   ]
  },
  {
   "cell_type": "code",
   "execution_count": 30,
   "metadata": {},
   "outputs": [
    {
     "data": {
      "text/plain": [
       "<function matplotlib.pyplot.show(close=None, block=None)>"
      ]
     },
     "execution_count": 30,
     "metadata": {},
     "output_type": "execute_result"
    },
    {
     "data": {
      "image/png": "[encoded data removed]",
      "text/plain": [
       "<Figure size 432x288 with 1 Axes>"
      ]
     },
     "metadata": {
      "needs_background": "light"
     },
     "output_type": "display_data"
    }
   ],
   "source": [
    "X =X_test.iloc[:,7]\n",
    "Y =df.iloc[:,0]\n",
    "plt.scatter(X,Y)\n",
    "plt.show"
   ]
  },
  {
   "cell_type": "code",
   "execution_count": 31,
   "metadata": {},
   "outputs": [
    {
     "data": {
      "text/plain": [
       "<function matplotlib.pyplot.show(close=None, block=None)>"
      ]
     },
     "execution_count": 31,
     "metadata": {},
     "output_type": "execute_result"
    },
    {
     "data": {
      "image/png": "[encoded data removed]",
      "text/plain": [
       "<Figure size 432x288 with 1 Axes>"
      ]
     },
     "metadata": {
      "needs_background": "light"
     },
     "output_type": "display_data"
    }
   ],
   "source": [
    "Y =X_test.iloc[:,8]\n",
    "X =df.iloc[:,0]\n",
    "plt.scatter(X,Y)\n",
    "plt.show"
   ]
  },
  {
   "cell_type": "markdown",
   "metadata": {},
   "source": [
    "### e. Write down your observations on the above plots to find which features had maximum influence on the target."
   ]
  },
  {
   "cell_type": "code",
   "execution_count": 32,
   "metadata": {},
   "outputs": [],
   "source": [
    "#ocean proximity tended to have the most clear impact on median house value"
   ]
  },
  {
   "cell_type": "markdown",
   "metadata": {},
   "source": [
    "### f. What kind of a problem is this? (eg. classification, regression, clustering, etc)."
   ]
  },
  {
   "cell_type": "code",
   "execution_count": 33,
   "metadata": {},
   "outputs": [],
   "source": [
    "#regression because we are trying to predict a value of a house based on other parameters "
   ]
  },
  {
   "cell_type": "markdown",
   "metadata": {
    "collapsed": true
   },
   "source": [
    "### g. Get the quick description of data using info() and description() functions."
   ]
  },
  {
   "cell_type": "code",
   "execution_count": 34,
   "metadata": {},
   "outputs": [
    {
     "data": {
      "text/plain": [
       "<bound method DataFrame.info of              0      1     2       3       4       5       6       7  9\n",
       "1      -122.23  37.88  41.0   880.0   129.0   322.0   126.0  8.3252  3\n",
       "2      -122.22  37.86  21.0  7099.0  1106.0  2401.0  1138.0  8.3014  3\n",
       "3      -122.24  37.85  52.0  1467.0   190.0   496.0   177.0  7.2574  3\n",
       "4      -122.25  37.85  52.0  1274.0   235.0   558.0   219.0  5.6431  3\n",
       "5      -122.25  37.85  52.0  1627.0   280.0   565.0   259.0  3.8462  3\n",
       "...        ...    ...   ...     ...     ...     ...     ...     ... ..\n",
       "20636  -121.09  39.48  25.0  1665.0   374.0   845.0   330.0  1.5603  1\n",
       "20637  -121.21  39.49  18.0   697.0   150.0   356.0   114.0  2.5568  1\n",
       "20638  -121.22  39.43  17.0  2254.0   485.0  1007.0   433.0     1.7  1\n",
       "20639  -121.32  39.43  18.0  1860.0   409.0   741.0   349.0  1.8672  1\n",
       "20640  -121.24  39.37  16.0  2785.0   616.0  1387.0   530.0  2.3886  1\n",
       "\n",
       "[20433 rows x 9 columns]>"
      ]
     },
     "execution_count": 34,
     "metadata": {},
     "output_type": "execute_result"
    }
   ],
   "source": [
    "preprocessedX.info"
   ]
  },
  {
   "cell_type": "code",
   "execution_count": 35,
   "metadata": {},
   "outputs": [
    {
     "data": {
      "text/plain": [
       "<bound method NDFrame.describe of              0      1     2       3       4       5       6       7  9\n",
       "1      -122.23  37.88  41.0   880.0   129.0   322.0   126.0  8.3252  3\n",
       "2      -122.22  37.86  21.0  7099.0  1106.0  2401.0  1138.0  8.3014  3\n",
       "3      -122.24  37.85  52.0  1467.0   190.0   496.0   177.0  7.2574  3\n",
       "4      -122.25  37.85  52.0  1274.0   235.0   558.0   219.0  5.6431  3\n",
       "5      -122.25  37.85  52.0  1627.0   280.0   565.0   259.0  3.8462  3\n",
       "...        ...    ...   ...     ...     ...     ...     ...     ... ..\n",
       "20636  -121.09  39.48  25.0  1665.0   374.0   845.0   330.0  1.5603  1\n",
       "20637  -121.21  39.49  18.0   697.0   150.0   356.0   114.0  2.5568  1\n",
       "20638  -121.22  39.43  17.0  2254.0   485.0  1007.0   433.0     1.7  1\n",
       "20639  -121.32  39.43  18.0  1860.0   409.0   741.0   349.0  1.8672  1\n",
       "20640  -121.24  39.37  16.0  2785.0   616.0  1387.0   530.0  2.3886  1\n",
       "\n",
       "[20433 rows x 9 columns]>"
      ]
     },
     "execution_count": 35,
     "metadata": {},
     "output_type": "execute_result"
    }
   ],
   "source": [
    "preprocessedX.describe"
   ]
  },
  {
   "cell_type": "markdown",
   "metadata": {},
   "source": [
    "### h. Perform min-max normalization on features and target."
   ]
  },
  {
   "cell_type": "code",
   "execution_count": 36,
   "metadata": {},
   "outputs": [],
   "source": [
    "from sklearn import preprocessing\n",
    "x = preprocessedX.values #returns a numpy array\n",
    "min_max_scaler = preprocessing.MinMaxScaler()\n",
    "x_scaled = min_max_scaler.fit_transform(x)\n",
    "preprocessedX = pd.DataFrame(x_scaled)"
   ]
  },
  {
   "cell_type": "code",
   "execution_count": 37,
   "metadata": {},
   "outputs": [
    {
     "data": {
      "text/html": [
       "<div>\n",
       "<style scoped>\n",
       "    .dataframe tbody tr th:only-of-type {\n",
       "        vertical-align: middle;\n",
       "    }\n",
       "\n",
       "    .dataframe tbody tr th {\n",
       "        vertical-align: top;\n",
       "    }\n",
       "\n",
       "    .dataframe thead th {\n",
       "        text-align: right;\n",
       "    }\n",
       "</style>\n",
       "<table border=\"1\" class=\"dataframe\">\n",
       "  <thead>\n",
       "    <tr style=\"text-align: right;\">\n",
       "      <th></th>\n",
       "      <th>0</th>\n",
       "      <th>1</th>\n",
       "      <th>2</th>\n",
       "      <th>3</th>\n",
       "      <th>4</th>\n",
       "      <th>5</th>\n",
       "      <th>6</th>\n",
       "      <th>7</th>\n",
       "      <th>8</th>\n",
       "    </tr>\n",
       "  </thead>\n",
       "  <tbody>\n",
       "    <tr>\n",
       "      <th>0</th>\n",
       "      <td>0.211155</td>\n",
       "      <td>0.567481</td>\n",
       "      <td>0.784314</td>\n",
       "      <td>0.022331</td>\n",
       "      <td>0.019863</td>\n",
       "      <td>0.008941</td>\n",
       "      <td>0.020556</td>\n",
       "      <td>0.539668</td>\n",
       "      <td>0.75</td>\n",
       "    </tr>\n",
       "    <tr>\n",
       "      <th>1</th>\n",
       "      <td>0.212151</td>\n",
       "      <td>0.565356</td>\n",
       "      <td>0.392157</td>\n",
       "      <td>0.180503</td>\n",
       "      <td>0.171477</td>\n",
       "      <td>0.067210</td>\n",
       "      <td>0.186976</td>\n",
       "      <td>0.538027</td>\n",
       "      <td>0.75</td>\n",
       "    </tr>\n",
       "    <tr>\n",
       "      <th>2</th>\n",
       "      <td>0.210159</td>\n",
       "      <td>0.564293</td>\n",
       "      <td>1.000000</td>\n",
       "      <td>0.037260</td>\n",
       "      <td>0.029330</td>\n",
       "      <td>0.013818</td>\n",
       "      <td>0.028943</td>\n",
       "      <td>0.466028</td>\n",
       "      <td>0.75</td>\n",
       "    </tr>\n",
       "    <tr>\n",
       "      <th>3</th>\n",
       "      <td>0.209163</td>\n",
       "      <td>0.564293</td>\n",
       "      <td>1.000000</td>\n",
       "      <td>0.032352</td>\n",
       "      <td>0.036313</td>\n",
       "      <td>0.015555</td>\n",
       "      <td>0.035849</td>\n",
       "      <td>0.354699</td>\n",
       "      <td>0.75</td>\n",
       "    </tr>\n",
       "    <tr>\n",
       "      <th>4</th>\n",
       "      <td>0.209163</td>\n",
       "      <td>0.564293</td>\n",
       "      <td>1.000000</td>\n",
       "      <td>0.041330</td>\n",
       "      <td>0.043296</td>\n",
       "      <td>0.015752</td>\n",
       "      <td>0.042427</td>\n",
       "      <td>0.230776</td>\n",
       "      <td>0.75</td>\n",
       "    </tr>\n",
       "    <tr>\n",
       "      <th>...</th>\n",
       "      <td>...</td>\n",
       "      <td>...</td>\n",
       "      <td>...</td>\n",
       "      <td>...</td>\n",
       "      <td>...</td>\n",
       "      <td>...</td>\n",
       "      <td>...</td>\n",
       "      <td>...</td>\n",
       "      <td>...</td>\n",
       "    </tr>\n",
       "    <tr>\n",
       "      <th>20428</th>\n",
       "      <td>0.324701</td>\n",
       "      <td>0.737513</td>\n",
       "      <td>0.470588</td>\n",
       "      <td>0.042296</td>\n",
       "      <td>0.057883</td>\n",
       "      <td>0.023599</td>\n",
       "      <td>0.054103</td>\n",
       "      <td>0.073130</td>\n",
       "      <td>0.25</td>\n",
       "    </tr>\n",
       "    <tr>\n",
       "      <th>20429</th>\n",
       "      <td>0.312749</td>\n",
       "      <td>0.738576</td>\n",
       "      <td>0.333333</td>\n",
       "      <td>0.017676</td>\n",
       "      <td>0.023122</td>\n",
       "      <td>0.009894</td>\n",
       "      <td>0.018582</td>\n",
       "      <td>0.141853</td>\n",
       "      <td>0.25</td>\n",
       "    </tr>\n",
       "    <tr>\n",
       "      <th>20430</th>\n",
       "      <td>0.311753</td>\n",
       "      <td>0.732200</td>\n",
       "      <td>0.313725</td>\n",
       "      <td>0.057277</td>\n",
       "      <td>0.075109</td>\n",
       "      <td>0.028140</td>\n",
       "      <td>0.071041</td>\n",
       "      <td>0.082764</td>\n",
       "      <td>0.25</td>\n",
       "    </tr>\n",
       "    <tr>\n",
       "      <th>20431</th>\n",
       "      <td>0.301793</td>\n",
       "      <td>0.732200</td>\n",
       "      <td>0.333333</td>\n",
       "      <td>0.047256</td>\n",
       "      <td>0.063315</td>\n",
       "      <td>0.020684</td>\n",
       "      <td>0.057227</td>\n",
       "      <td>0.094295</td>\n",
       "      <td>0.25</td>\n",
       "    </tr>\n",
       "    <tr>\n",
       "      <th>20432</th>\n",
       "      <td>0.309761</td>\n",
       "      <td>0.725824</td>\n",
       "      <td>0.294118</td>\n",
       "      <td>0.070782</td>\n",
       "      <td>0.095438</td>\n",
       "      <td>0.038790</td>\n",
       "      <td>0.086992</td>\n",
       "      <td>0.130253</td>\n",
       "      <td>0.25</td>\n",
       "    </tr>\n",
       "  </tbody>\n",
       "</table>\n",
       "<p>20433 rows × 9 columns</p>\n",
       "</div>"
      ],
      "text/plain": [
       "              0         1         2         3         4         5         6  \\\n",
       "0      0.211155  0.567481  0.784314  0.022331  0.019863  0.008941  0.020556   \n",
       "1      0.212151  0.565356  0.392157  0.180503  0.171477  0.067210  0.186976   \n",
       "2      0.210159  0.564293  1.000000  0.037260  0.029330  0.013818  0.028943   \n",
       "3      0.209163  0.564293  1.000000  0.032352  0.036313  0.015555  0.035849   \n",
       "4      0.209163  0.564293  1.000000  0.041330  0.043296  0.015752  0.042427   \n",
       "...         ...       ...       ...       ...       ...       ...       ...   \n",
       "20428  0.324701  0.737513  0.470588  0.042296  0.057883  0.023599  0.054103   \n",
       "20429  0.312749  0.738576  0.333333  0.017676  0.023122  0.009894  0.018582   \n",
       "20430  0.311753  0.732200  0.313725  0.057277  0.075109  0.028140  0.071041   \n",
       "20431  0.301793  0.732200  0.333333  0.047256  0.063315  0.020684  0.057227   \n",
       "20432  0.309761  0.725824  0.294118  0.070782  0.095438  0.038790  0.086992   \n",
       "\n",
       "              7     8  \n",
       "0      0.539668  0.75  \n",
       "1      0.538027  0.75  \n",
       "2      0.466028  0.75  \n",
       "3      0.354699  0.75  \n",
       "4      0.230776  0.75  \n",
       "...         ...   ...  \n",
       "20428  0.073130  0.25  \n",
       "20429  0.141853  0.25  \n",
       "20430  0.082764  0.25  \n",
       "20431  0.094295  0.25  \n",
       "20432  0.130253  0.25  \n",
       "\n",
       "[20433 rows x 9 columns]"
      ]
     },
     "execution_count": 37,
     "metadata": {},
     "output_type": "execute_result"
    }
   ],
   "source": [
    "preprocessedX"
   ]
  },
  {
   "cell_type": "markdown",
   "metadata": {},
   "source": [
    "### i. Describe rules of NumPy Broadcasting."
   ]
  },
  {
   "cell_type": "code",
   "execution_count": 38,
   "metadata": {},
   "outputs": [],
   "source": [
    "#broadcasting allows for arithmetic between arrays of different shapes by replicating the smaller array \n",
    "#broadcasting is limited to arrays of same size or dimention 1\n",
    "#"
   ]
  },
  {
   "cell_type": "markdown",
   "metadata": {},
   "source": [
    "### j. Describe the purpose of numpy.reshape with a valid example\n"
   ]
  },
  {
   "cell_type": "code",
   "execution_count": 39,
   "metadata": {},
   "outputs": [],
   "source": [
    "#reshape has the ability to change the shape of an array without changing the data inside. \n",
    "#This is commonly used when flattening data for example\n",
    "#when working with images and their pixal values."
   ]
  },
  {
   "cell_type": "markdown",
   "metadata": {},
   "source": [
    "## Question 2\n",
    "Boston housing dataset is a famous dataset widely used for machine learning. In this problem, you will train\n",
    "a linear regression model that predicts the house price using the Boston housing dataset."
   ]
  },
  {
   "cell_type": "markdown",
   "metadata": {},
   "source": [
    "### a. Load Boston house prices dataset. Plot each feature against the target in the training set.  Write down your observations on the above plots to find which features had maximum influence on the target.\n",
    "https://scikit-learn.org/stable/modules/generated/sklearn.datasets.load_boston.html\n"
   ]
  },
  {
   "cell_type": "code",
   "execution_count": 40,
   "metadata": {},
   "outputs": [
    {
     "name": "stdout",
     "output_type": "stream",
     "text": [
      "(506, 13)\n"
     ]
    }
   ],
   "source": [
    "from sklearn.datasets import load_boston\n",
    "X, y = load_boston(return_X_y=True)\n",
    "print(X.shape)\n",
    "data2= load_boston()\n"
   ]
  },
  {
   "cell_type": "code",
   "execution_count": 48,
   "metadata": {},
   "outputs": [
    {
     "data": {
      "image/png": "[encoded data removed]",
      "text/plain": [
       "<Figure size 360x288 with 1 Axes>"
      ]
     },
     "metadata": {
      "needs_background": "light"
     },
     "output_type": "display_data"
    },
    {
     "data": {
      "image/png": "[encoded data removed]",
      "text/plain": [
       "<Figure size 360x288 with 1 Axes>"
      ]
     },
     "metadata": {
      "needs_background": "light"
     },
     "output_type": "display_data"
    },
    {
     "data": {
      "image/png": "[encoded data removed]",
      "text/plain": [
       "<Figure size 360x288 with 1 Axes>"
      ]
     },
     "metadata": {
      "needs_background": "light"
     },
     "output_type": "display_data"
    },
    {
     "data": {
      "image/png": "[encoded data removed]",
      "text/plain": [
       "<Figure size 360x288 with 1 Axes>"
      ]
     },
     "metadata": {
      "needs_background": "light"
     },
     "output_type": "display_data"
    },
    {
     "data": {
      "image/png": "[encoded data removed]",
      "text/plain": [
       "<Figure size 360x288 with 1 Axes>"
      ]
     },
     "metadata": {
      "needs_background": "light"
     },
     "output_type": "display_data"
    },
    {
     "data": {
      "image/png": "[encoded data removed]",
      "text/plain": [
       "<Figure size 360x288 with 1 Axes>"
      ]
     },
     "metadata": {
      "needs_background": "light"
     },
     "output_type": "display_data"
    },
    {
     "data": {
      "image/png": "[encoded data removed]",
      "text/plain": [
       "<Figure size 360x288 with 1 Axes>"
      ]
     },
     "metadata": {
      "needs_background": "light"
     },
     "output_type": "display_data"
    },
    {
     "data": {
      "image/png": "[encoded data removed]",
      "text/plain": [
       "<Figure size 360x288 with 1 Axes>"
      ]
     },
     "metadata": {
      "needs_background": "light"
     },
     "output_type": "display_data"
    },
    {
     "data": {
      "image/png": "[encoded data removed]",
      "text/plain": [
       "<Figure size 360x288 with 1 Axes>"
      ]
     },
     "metadata": {
      "needs_background": "light"
     },
     "output_type": "display_data"
    },
    {
     "data": {
      "image/png": "[encoded data removed]",
      "text/plain": [
       "<Figure size 360x288 with 1 Axes>"
      ]
     },
     "metadata": {
      "needs_background": "light"
     },
     "output_type": "display_data"
    },
    {
     "data": {
      "image/png": "[encoded data removed]",
      "text/plain": [
       "<Figure size 360x288 with 1 Axes>"
      ]
     },
     "metadata": {
      "needs_background": "light"
     },
     "output_type": "display_data"
    },
    {
     "data": {
      "image/png": "[encoded data removed]",
      "text/plain": [
       "<Figure size 360x288 with 1 Axes>"
      ]
     },
     "metadata": {
      "needs_background": "light"
     },
     "output_type": "display_data"
    },
    {
     "data": {
      "image/png": "[encoded data removed]",
      "text/plain": [
       "<Figure size 360x288 with 1 Axes>"
      ]
     },
     "metadata": {
      "needs_background": "light"
     },
     "output_type": "display_data"
    }
   ],
   "source": [
    "for index, feature_name in enumerate(data2.feature_names):\n",
    "    plt.figure(figsize=(5, 4))\n",
    "    plt.scatter(data2.data[:, index], data2.target)\n",
    "    plt.ylabel('Price', size=10)\n",
    "    plt.xlabel(feature_name, size=10)\n",
    "    plt.tight_layout()"
   ]
  },
  {
   "cell_type": "markdown",
   "metadata": {},
   "source": [
    "### b. Store all the features and targets into X and Y respectively. How many instances and how many features does the dataset have? Split the data into 70% training set and 30% test set."
   ]
  },
  {
   "cell_type": "code",
   "execution_count": 42,
   "metadata": {},
   "outputs": [],
   "source": [
    "#model has 13 features and 506 instances \n",
    "X_train, X_test, y_train, y_test = train_test_split(data2.data, data2.target, test_size =0.3, random_state =1)"
   ]
  },
  {
   "cell_type": "code",
   "execution_count": 43,
   "metadata": {},
   "outputs": [
    {
     "data": {
      "text/plain": [
       "array([[6.29760e-01, 0.00000e+00, 8.14000e+00, ..., 2.10000e+01,\n",
       "        3.96900e+02, 8.26000e+00],\n",
       "       [1.71710e-01, 2.50000e+01, 5.13000e+00, ..., 1.97000e+01,\n",
       "        3.78080e+02, 1.44400e+01],\n",
       "       [9.82349e+00, 0.00000e+00, 1.81000e+01, ..., 2.02000e+01,\n",
       "        3.96900e+02, 2.12400e+01],\n",
       "       ...,\n",
       "       [5.87205e+00, 0.00000e+00, 1.81000e+01, ..., 2.02000e+01,\n",
       "        3.96900e+02, 1.93700e+01],\n",
       "       [3.30450e-01, 0.00000e+00, 6.20000e+00, ..., 1.74000e+01,\n",
       "        3.76750e+02, 1.08800e+01],\n",
       "       [8.01400e-02, 0.00000e+00, 5.96000e+00, ..., 1.92000e+01,\n",
       "        3.96900e+02, 8.77000e+00]])"
      ]
     },
     "execution_count": 43,
     "metadata": {},
     "output_type": "execute_result"
    }
   ],
   "source": [
    "X_train"
   ]
  },
  {
   "cell_type": "code",
   "execution_count": 44,
   "metadata": {},
   "outputs": [
    {
     "data": {
      "text/plain": [
       "array([20.4, 16. , 13.3, 30.8, 27.5, 24.4, 24.4, 25.1, 43.8, 21.9, 26.2,\n",
       "       14.2, 20.8, 20.1, 23.1, 13.1, 16.2, 24.8, 20.2, 22.5, 14.8, 28.7,\n",
       "       20.1, 23.4, 32. , 19.1, 50. , 20.9, 21.7, 22. , 17.2, 30.3, 12.3,\n",
       "       21.4, 20.5, 35.2, 19.6, 22. , 21.7, 14.1, 21.1, 15. , 11.9, 20. ,\n",
       "       41.3, 18.7, 50. , 50. , 18.4, 17.9, 28.1, 16.1, 17.2, 28.6, 23.6,\n",
       "       20.4, 19.6, 18.8, 22.6, 17.7, 30.5, 18.2, 20.6, 24.4, 17.3, 13.3,\n",
       "       22.8, 20.5, 21.2, 18.8, 18.9, 18.2, 23.1, 32.7, 24. , 10.2, 19.5,\n",
       "       33.1, 13.4, 15.2, 24.8, 24.3,  9.5, 24.2, 18.5, 44. , 50. , 24.7,\n",
       "       21.5,  8.4, 21.8, 50. , 23.8, 32.4, 24.4, 17.6, 29.8,  9.6, 16.7,\n",
       "       13.8, 32. , 16.1,  8.3, 26.6, 14.3, 15. , 28.4, 32.2, 17.1, 29.4,\n",
       "       10.4, 16.8, 31.5, 27.5, 46.7, 27.5, 17.2, 23.4, 31.6, 13.8, 22. ,\n",
       "       17. , 24.8, 24.3, 25.2, 21.2, 20.6, 18.7,  5.6, 19.3, 19.8, 22.3,\n",
       "       20.3, 12. , 23.9, 16.5, 13.2, 33.2, 10.5,  7.5, 27.5, 18.4, 23.2,\n",
       "       13.8, 35.4, 23. , 25. ,  7.2, 14.4,  8.8, 22.7, 13.1, 18.9, 25. ,\n",
       "        8.5, 16.1, 29. , 23.1, 19.3, 33.1, 24.6, 23. , 15.2, 27.1, 19.6,\n",
       "       24.5, 20.3, 34.9, 17.1, 15.6, 26.4, 22.6, 15.6, 29. , 21.2, 22.4,\n",
       "       13.5, 11.7, 17.1, 31.7, 28.7, 24.7, 19. ,  7.2, 13.8, 12.8, 36.2,\n",
       "       38.7, 18.5, 29.1, 20.4, 11.3, 17.4,  8.7, 18.9, 23.2, 22.2, 29.1,\n",
       "       34.6, 25. , 23.2, 37.9,  7. , 18.2, 19.3, 26.7, 19.2, 30.1, 20.6,\n",
       "       50. , 18.7, 20.6, 31.1, 14. , 17.8, 42.3, 15.3, 18.5, 21.4, 15. ,\n",
       "       20.7, 21.4, 21.7, 22. , 31.6, 22. , 10.2, 22.6, 20. , 17.8, 13.6,\n",
       "       11.8, 19.4, 21.4, 32.9, 20.8, 31. , 17.5, 15.4, 10.8, 34.7, 25. ,\n",
       "       48.8, 42.8, 19.5, 30.1, 22.2, 50. , 23.1, 32.5, 19.6, 14.9, 26.4,\n",
       "       37. , 24.1, 24.5, 23.7,  7. , 22.2, 23.3, 15.6, 13.4, 30.7, 22.3,\n",
       "       17.4, 50. , 22.9, 19.7, 15.6, 17.8, 10.9, 35.1, 15.7, 50. , 22.8,\n",
       "       19.9, 20.1, 19.4, 46. , 23.2, 37.6, 23.1, 13.9, 33.3, 33. , 19.9,\n",
       "       20.3, 50. , 19.4, 19.5, 22.8, 16.6, 20. , 24.7, 45.4, 33.4, 21.4,\n",
       "       19.4,  5. ,  7.4, 20.1, 12.7, 20.3, 14.1, 18.3, 19.9, 23.3, 36.5,\n",
       "       20. , 17.8,  8.8, 21.6, 21.6, 15.2, 19.8, 21. , 27.1, 16.8, 14.4,\n",
       "       22.5, 18.6, 20.1, 19.6, 25. , 17.4, 19.7,  5. , 16.3, 13.1, 29.6,\n",
       "       13.1, 19.1, 12.1, 21.7, 21.9, 33.2, 29.9, 35.4, 15.1, 31.5, 21.7,\n",
       "       16.4, 14.3, 11.8, 14.1, 21.1, 18.4, 48.5, 13.8, 20.9, 22.8, 12.5,\n",
       "       24. , 21. ])"
      ]
     },
     "execution_count": 44,
     "metadata": {},
     "output_type": "execute_result"
    }
   ],
   "source": [
    "y_train"
   ]
  },
  {
   "cell_type": "markdown",
   "metadata": {},
   "source": [
    "### c. Train a linear regression model using  selected feature. "
   ]
  },
  {
   "cell_type": "code",
   "execution_count": 45,
   "metadata": {},
   "outputs": [
    {
     "data": {
      "image/png": "[encoded data removed]",
      "text/plain": [
       "<Figure size 288x216 with 1 Axes>"
      ]
     },
     "metadata": {
      "needs_background": "light"
     },
     "output_type": "display_data"
    }
   ],
   "source": [
    "from sklearn.linear_model import LinearRegression\n",
    "clf = LinearRegression()\n",
    "clf.fit(X_train, y_train)\n",
    "predicted = clf.predict(X_test)\n",
    "expected = y_test\n",
    "\n",
    "plt.figure(figsize=(4, 3))\n",
    "plt.scatter(expected, predicted)\n",
    "plt.plot([0, 50], [0, 50], '--k')\n",
    "plt.axis('tight')\n",
    "plt.xlabel('True price $1000s')\n",
    "plt.ylabel('Predicted price $1000s')\n",
    "plt.tight_layout()"
   ]
  },
  {
   "cell_type": "markdown",
   "metadata": {},
   "source": [
    "### d. Test the model using the test set. Report sklearn.metrics.mean squared error and sklearn.metrics.r2 score between the predicting result and target."
   ]
  },
  {
   "cell_type": "code",
   "execution_count": 46,
   "metadata": {},
   "outputs": [
    {
     "name": "stdout",
     "output_type": "stream",
     "text": [
      "RMS: 4.453237437198188 \n"
     ]
    }
   ],
   "source": [
    "print(\"RMS: %r \" % np.sqrt(np.mean((predicted - expected) ** 2)))\n"
   ]
  },
  {
   "cell_type": "code",
   "execution_count": null,
   "metadata": {},
   "outputs": [],
   "source": []
  }
 ],
 "metadata": {
  "kernelspec": {
   "display_name": "Python 3",
   "language": "python",
   "name": "python3"
  },
  "language_info": {
   "codemirror_mode": {
    "name": "ipython",
    "version": 3
   },
   "file_extension": ".py",
   "mimetype": "text/x-python",
   "name": "python",
   "nbconvert_exporter": "python",
   "pygments_lexer": "ipython3",
   "version": "3.8.5"
  }
 },
 "nbformat": 4,
 "nbformat_minor": 2
}
